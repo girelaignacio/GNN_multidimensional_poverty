{
 "cells": [
  {
   "cell_type": "markdown",
   "metadata": {},
   "source": [
    "## 1. Load libraries"
   ]
  },
  {
   "cell_type": "code",
   "execution_count": 1,
   "metadata": {},
   "outputs": [],
   "source": [
    "import pandas as pd"
   ]
  },
  {
   "cell_type": "code",
   "execution_count": 2,
   "metadata": {
    "id": "3QBFCJifrdZ0"
   },
   "outputs": [],
   "source": [
    "import numpy as np\n",
    "import torch\n",
    "import torch_geometric.datasets as datasets\n",
    "import torch_geometric.data\n",
    "import torch_geometric.transforms as transforms"
   ]
  },
  {
   "cell_type": "markdown",
   "metadata": {},
   "source": [
    "## 2. Read spatial data: Nigeria DHS 20-21"
   ]
  },
  {
   "cell_type": "code",
   "execution_count": 3,
   "metadata": {
    "id": "uR4QbIm94HSw"
   },
   "outputs": [],
   "source": [
    "import geopandas as gpd\n",
    "df = gpd.read_file(\"../data/nga_dhs20-21.shp\")\n",
    "gdf = gpd.GeoDataFrame(df, crs=\"EPSG:4326\")\n",
    "#gdf = gdf.to_crs(\"EPSG:32617\")"
   ]
  },
  {
   "cell_type": "code",
   "execution_count": 4,
   "metadata": {
    "colab": {
     "base_uri": "https://localhost:8080/",
     "height": 458
    },
    "id": "BRVzB0Jp65lW",
    "outputId": "f473b51e-a908-4bed-ceb4-c146d6d85c82"
   },
   "outputs": [
    {
     "name": "stderr",
     "output_type": "stream",
     "text": [
      "C:\\Users\\girel\\AppData\\Local\\Temp\\ipykernel_14700\\3951700624.py:1: UserWarning: Geometry is in a geographic CRS. Results from 'centroid' are likely incorrect. Use 'GeoSeries.to_crs()' to re-project geometries to a projected CRS before this operation.\n",
      "\n",
      "  gdf.geometry.centroid\n"
     ]
    },
    {
     "data": {
      "text/plain": [
       "0       POINT (8.50694 7.72005)\n",
       "1       POINT (8.55214 7.71792)\n",
       "2       POINT (8.99118 7.34660)\n",
       "3       POINT (8.14976 7.21013)\n",
       "4       POINT (8.40813 6.88090)\n",
       "                 ...           \n",
       "1384    POINT (3.58764 7.82843)\n",
       "1385    POINT (3.34299 8.05012)\n",
       "1386    POINT (3.01766 7.94763)\n",
       "1387    POINT (3.29102 7.34129)\n",
       "1388    POINT (3.94804 7.78566)\n",
       "Length: 1389, dtype: geometry"
      ]
     },
     "execution_count": 4,
     "metadata": {},
     "output_type": "execute_result"
    }
   ],
   "source": [
    "gdf.geometry.centroid"
   ]
  },
  {
   "cell_type": "code",
   "execution_count": 5,
   "metadata": {
    "colab": {
     "base_uri": "https://localhost:8080/"
    },
    "id": "cTvhxUcW5qgp",
    "outputId": "990f876c-968f-4d49-9725-a3b13fd93b64"
   },
   "outputs": [
    {
     "name": "stderr",
     "output_type": "stream",
     "text": [
      "C:\\Users\\girel\\AppData\\Local\\Temp\\ipykernel_14700\\1084201971.py:1: UserWarning: Geometry is in a geographic CRS. Results from 'centroid' are likely incorrect. Use 'GeoSeries.to_crs()' to re-project geometries to a projected CRS before this operation.\n",
      "\n",
      "  centroids = np.array([(point.x, point.y) for point in df.geometry.centroid])\n"
     ]
    },
    {
     "data": {
      "text/plain": [
       "(1389, 2)"
      ]
     },
     "execution_count": 5,
     "metadata": {},
     "output_type": "execute_result"
    }
   ],
   "source": [
    "centroids = np.array([(point.x, point.y) for point in df.geometry.centroid])\n",
    "centroids.shape"
   ]
  },
  {
   "cell_type": "markdown",
   "metadata": {},
   "source": [
    "## 3. Build distance matrix\n",
    "\n",
    "We build a proximity matrix between the clusters"
   ]
  },
  {
   "cell_type": "code",
   "execution_count": 6,
   "metadata": {
    "colab": {
     "base_uri": "https://localhost:8080/",
     "height": 165
    },
    "id": "lx3-Bvbl5qsk",
    "outputId": "534c288e-adc0-4b3d-8eba-a18a3bba16e2"
   },
   "outputs": [],
   "source": [
    "from scipy.spatial.distance import cdist\n",
    "distance_matrix = cdist(centroids, centroids, 'euclidean')"
   ]
  },
  {
   "cell_type": "code",
   "execution_count": 7,
   "metadata": {
    "id": "0Rs-v7sM5q5T"
   },
   "outputs": [
    {
     "data": {
      "text/plain": [
       "array([[0.        , 0.04525601, 0.61152249, ..., 5.49399072, 5.22965119,\n",
       "        4.55936917],\n",
       "       [0.04525601, 0.        , 0.57501069, ..., 5.53924603, 5.27458718,\n",
       "        4.60460133],\n",
       "       [0.61152249, 0.57501069, 0.        , ..., 6.00368437, 5.70016848,\n",
       "        5.06222254],\n",
       "       ...,\n",
       "       [5.49399072, 5.53924603, 6.00368437, ..., 0.        , 0.66511658,\n",
       "        0.94437114],\n",
       "       [5.22965119, 5.27458718, 5.70016848, ..., 0.66511658, 0.        ,\n",
       "        0.79318793],\n",
       "       [4.55936917, 4.60460133, 5.06222254, ..., 0.94437114, 0.79318793,\n",
       "        0.        ]])"
      ]
     },
     "execution_count": 7,
     "metadata": {},
     "output_type": "execute_result"
    }
   ],
   "source": [
    "distance_matrix"
   ]
  },
  {
   "cell_type": "code",
   "execution_count": 8,
   "metadata": {},
   "outputs": [
    {
     "data": {
      "text/plain": [
       "(1389, 1389)"
      ]
     },
     "execution_count": 8,
     "metadata": {},
     "output_type": "execute_result"
    }
   ],
   "source": [
    "distance_matrix.shape"
   ]
  },
  {
   "cell_type": "code",
   "execution_count": 9,
   "metadata": {},
   "outputs": [
    {
     "data": {
      "text/plain": [
       "18.817615452436154"
      ]
     },
     "execution_count": 9,
     "metadata": {},
     "output_type": "execute_result"
    }
   ],
   "source": [
    "max_distance = np.max(distance_matrix)\n",
    "max_distance"
   ]
  },
  {
   "cell_type": "code",
   "execution_count": 10,
   "metadata": {},
   "outputs": [],
   "source": [
    "weighted_proximity_matrix = np.zeros_like(distance_matrix)\n",
    "for i in range(len(distance_matrix)):\n",
    "    for j in range(len(distance_matrix)):\n",
    "        proximity = (max_distance - distance_matrix[i, j]) / max_distance\n",
    "        proximity = max(0, proximity)\n",
    "        weighted_proximity_matrix[i, j] = proximity"
   ]
  },
  {
   "cell_type": "code",
   "execution_count": 11,
   "metadata": {},
   "outputs": [
    {
     "name": "stdout",
     "output_type": "stream",
     "text": [
      "0.0 1.0\n"
     ]
    }
   ],
   "source": [
    "print(weighted_proximity_matrix.min(),weighted_proximity_matrix.max())"
   ]
  },
  {
   "cell_type": "code",
   "execution_count": 12,
   "metadata": {},
   "outputs": [],
   "source": [
    "threshold = 0.99\n",
    "weighted_proximity_matrix[weighted_proximity_matrix < threshold] = 0"
   ]
  },
  {
   "cell_type": "code",
   "execution_count": 13,
   "metadata": {},
   "outputs": [
    {
     "data": {
      "text/plain": [
       "array([[1.        , 0.99759502, 0.        , ..., 0.        , 0.        ,\n",
       "        0.        ],\n",
       "       [0.99759502, 1.        , 0.        , ..., 0.        , 0.        ,\n",
       "        0.        ],\n",
       "       [0.        , 0.        , 1.        , ..., 0.        , 0.        ,\n",
       "        0.        ],\n",
       "       ...,\n",
       "       [0.        , 0.        , 0.        , ..., 1.        , 0.        ,\n",
       "        0.        ],\n",
       "       [0.        , 0.        , 0.        , ..., 0.        , 1.        ,\n",
       "        0.        ],\n",
       "       [0.        , 0.        , 0.        , ..., 0.        , 0.        ,\n",
       "        1.        ]])"
      ]
     },
     "execution_count": 13,
     "metadata": {},
     "output_type": "execute_result"
    }
   ],
   "source": [
    "weighted_proximity_matrix"
   ]
  },
  {
   "cell_type": "code",
   "execution_count": 14,
   "metadata": {},
   "outputs": [],
   "source": [
    "weighted_proximity_matrix[np.diag_indices_from(weighted_proximity_matrix)] = 0"
   ]
  },
  {
   "cell_type": "markdown",
   "metadata": {},
   "source": [
    "## 4. Transform data to tensor\n",
    "\n",
    "Create torch_geometric.data.Data object"
   ]
  },
  {
   "cell_type": "markdown",
   "metadata": {},
   "source": [
    "Transform proximity matrix to tensor and create edges "
   ]
  },
  {
   "cell_type": "code",
   "execution_count": 15,
   "metadata": {},
   "outputs": [],
   "source": [
    "adj_matrix = torch.tensor(weighted_proximity_matrix)"
   ]
  },
  {
   "cell_type": "code",
   "execution_count": 16,
   "metadata": {},
   "outputs": [],
   "source": [
    "edges = adj_matrix.nonzero().t().contiguous()"
   ]
  },
  {
   "cell_type": "code",
   "execution_count": 17,
   "metadata": {},
   "outputs": [
    {
     "data": {
      "text/plain": [
       "tensor([[   0,    0,    0,  ..., 1388, 1388, 1388],\n",
       "        [   1,    8,    9,  ..., 1358, 1380, 1383]])"
      ]
     },
     "execution_count": 17,
     "metadata": {},
     "output_type": "execute_result"
    }
   ],
   "source": [
    "edges"
   ]
  },
  {
   "cell_type": "markdown",
   "metadata": {},
   "source": [
    "Get edge attributes (given by proximity of clusters)"
   ]
  },
  {
   "cell_type": "code",
   "execution_count": 18,
   "metadata": {
    "id": "WIBVjlFAI4Vt"
   },
   "outputs": [],
   "source": [
    "edge_attr = []\n",
    "for i in range(edges.size(1)):\n",
    "    edge_attr.append([adj_matrix[edges[0][i], edges[1][0]]])\n",
    "\n",
    "edge_attr = torch.tensor(edge_attr, dtype=torch.float)"
   ]
  },
  {
   "cell_type": "markdown",
   "metadata": {},
   "source": [
    "Prepare features"
   ]
  },
  {
   "cell_type": "code",
   "execution_count": 19,
   "metadata": {},
   "outputs": [
    {
     "data": {
      "text/plain": [
       "Index(['dhsclst', 'd_cm', 'd_nutr', 'd_satt', 'd_educ', 'd_elct', 'd_wtr',\n",
       "       'd_sani', 'd_hsg', 'd_ckfl', 'd_asst', 'score', 'sexfeml', 'sexmale',\n",
       "       'agc70_4', 'a710_14', 'a715_17', 'a718_59', 'agc75_9', 'agc760_',\n",
       "       'arearrl', 'arearbn', 'reginAb', 'rgnAdmw', 'rgnAk_I', 'rgnAnmb',\n",
       "       'regnBch', 'rgnByls', 'reginBn', 'regnBrn', 'rgnCr_R', 'regnDlt',\n",
       "       'rgnEbny', 'reginEd', 'regnEkt', 'regnEng', 'regnFCT', 'regnGmb',\n",
       "       'reginIm', 'regnJgw', 'regnKdn', 'reginKn', 'rgnKtsn', 'regnKbb',\n",
       "       'reginKg', 'regnKwr', 'regnLgs', 'rgnNsrw', 'regnNgr', 'regnOgn',\n",
       "       'regnOnd', 'regnOsn', 'reginOy', 'regnPlt', 'rgnRvrs', 'regnSkt',\n",
       "       'regnTrb', 'reginYb', 'rgnZmfr', 'hdshpf_', 'hdshpm_', 'categry',\n",
       "       'geometry'],\n",
       "      dtype='object')"
      ]
     },
     "execution_count": 19,
     "metadata": {},
     "output_type": "execute_result"
    }
   ],
   "source": [
    "gdf.columns"
   ]
  },
  {
   "cell_type": "code",
   "execution_count": 20,
   "metadata": {},
   "outputs": [],
   "source": [
    "features = list(gdf.columns[list(range(11, gdf.shape[1]-4))])"
   ]
  },
  {
   "cell_type": "code",
   "execution_count": 21,
   "metadata": {},
   "outputs": [],
   "source": [
    "# Avoid multicollineality\n",
    "for i in ['sexmale','agc760_','arearrl','reginAb','score']:#,'hdshpm_']:#,\n",
    "         #'d_cm', 'd_nutr', 'd_satt', 'd_educ']:\n",
    "    features.remove(i)"
   ]
  },
  {
   "cell_type": "code",
   "execution_count": 22,
   "metadata": {},
   "outputs": [
    {
     "name": "stdout",
     "output_type": "stream",
     "text": [
      "['sexfeml', 'agc70_4', 'a710_14', 'a715_17', 'a718_59', 'agc75_9', 'arearbn', 'rgnAdmw', 'rgnAk_I', 'rgnAnmb', 'regnBch', 'rgnByls', 'reginBn', 'regnBrn', 'rgnCr_R', 'regnDlt', 'rgnEbny', 'reginEd', 'regnEkt', 'regnEng', 'regnFCT', 'regnGmb', 'reginIm', 'regnJgw', 'regnKdn', 'reginKn', 'rgnKtsn', 'regnKbb', 'reginKg', 'regnKwr', 'regnLgs', 'rgnNsrw', 'regnNgr', 'regnOgn', 'regnOnd', 'regnOsn', 'reginOy', 'regnPlt', 'rgnRvrs', 'regnSkt', 'regnTrb', 'reginYb', 'rgnZmfr']\n"
     ]
    }
   ],
   "source": [
    "print(features)"
   ]
  },
  {
   "cell_type": "code",
   "execution_count": 23,
   "metadata": {
    "id": "wTOdbO8IQI4f"
   },
   "outputs": [
    {
     "data": {
      "text/plain": [
       "torch.Size([1389, 43])"
      ]
     },
     "execution_count": 23,
     "metadata": {},
     "output_type": "execute_result"
    }
   ],
   "source": [
    "x = torch.tensor(np.array(gdf[features]))\n",
    "x.shape"
   ]
  },
  {
   "cell_type": "markdown",
   "metadata": {},
   "source": [
    "Target variable"
   ]
  },
  {
   "cell_type": "code",
   "execution_count": 24,
   "metadata": {},
   "outputs": [],
   "source": [
    "task = \"reg\""
   ]
  },
  {
   "cell_type": "code",
   "execution_count": 25,
   "metadata": {},
   "outputs": [
    {
     "data": {
      "text/plain": [
       "tensor([0.0804, 0.0678, 0.0451,  ..., 0.1570, 0.5354, 0.1026])"
      ]
     },
     "execution_count": 25,
     "metadata": {},
     "output_type": "execute_result"
    }
   ],
   "source": [
    "if task == \"reg\":\n",
    "    target_tensor = torch.tensor(gdf['score'], dtype=torch.float)\n",
    "else: \n",
    "    target = pd.Categorical(gdf['categry'])\n",
    "    numerical_categories = target.codes\n",
    "    print(np.unique(numerical_categories))\n",
    "    target_tensor = torch.tensor(numerical_categories, dtype=torch.long) \n",
    "target_tensor"
   ]
  },
  {
   "cell_type": "code",
   "execution_count": 26,
   "metadata": {
    "colab": {
     "base_uri": "https://localhost:8080/"
    },
    "id": "QYrOagwsPxlj",
    "outputId": "703aa669-2e31-4795-c53f-fe6d45373a3c"
   },
   "outputs": [
    {
     "data": {
      "text/plain": [
       "Data(x=[1389, 43], edge_index=[2, 8956], edge_attr=[8956, 1], y=[1389])"
      ]
     },
     "execution_count": 26,
     "metadata": {},
     "output_type": "execute_result"
    }
   ],
   "source": [
    "graph = torch_geometric.data.Data(x=x, edge_index=edges, edge_attr = edge_attr,y=target_tensor)\n",
    "graph"
   ]
  },
  {
   "cell_type": "code",
   "execution_count": 27,
   "metadata": {
    "id": "c1BM5KgFQyxZ"
   },
   "outputs": [
    {
     "data": {
      "text/plain": [
       "<BarContainer object of 46 artists>"
      ]
     },
     "execution_count": 27,
     "metadata": {},
     "output_type": "execute_result"
    },
    {
     "data": {
      "image/png": "[encoded data removed]",
      "text/plain": [
       "<Figure size 1800x700 with 1 Axes>"
      ]
     },
     "metadata": {},
     "output_type": "display_data"
    }
   ],
   "source": [
    "import matplotlib.pyplot as plt\n",
    "from torch_geometric.utils import degree\n",
    "from collections import Counter\n",
    "\n",
    "# Get list of degrees for each node\n",
    "degrees = degree(graph.edge_index[0]).numpy()\n",
    "\n",
    "# Count the number of nodes for each degree\n",
    "numbers = Counter(degrees)\n",
    "\n",
    "# Bar plot\n",
    "fig, ax = plt.subplots(figsize=(18, 7))\n",
    "ax.set_xlabel('Node degree')\n",
    "ax.set_ylabel('Number of nodes')\n",
    "plt.bar(numbers.keys(),\n",
    "        numbers.values(),\n",
    "        color='#0A047A')"
   ]
  },
  {
   "cell_type": "code",
   "execution_count": 28,
   "metadata": {},
   "outputs": [],
   "source": [
    "from torch_geometric.loader import DataLoader"
   ]
  },
  {
   "cell_type": "code",
   "execution_count": 29,
   "metadata": {},
   "outputs": [
    {
     "data": {
      "text/plain": [
       "1389"
      ]
     },
     "execution_count": 29,
     "metadata": {},
     "output_type": "execute_result"
    }
   ],
   "source": [
    "# Determine the number of nodes\n",
    "num_nodes = graph.num_nodes\n",
    "num_nodes"
   ]
  },
  {
   "cell_type": "code",
   "execution_count": 30,
   "metadata": {},
   "outputs": [
    {
     "name": "stdout",
     "output_type": "stream",
     "text": [
      "1111 138 140\n"
     ]
    }
   ],
   "source": [
    "# Calculate the sizes of the train, validation, and test sets\n",
    "train_size = int(0.8 * num_nodes)\n",
    "val_size = int(0.1 * num_nodes)\n",
    "test_size = num_nodes - train_size - val_size\n",
    "print(train_size, val_size, test_size)"
   ]
  },
  {
   "cell_type": "code",
   "execution_count": 31,
   "metadata": {},
   "outputs": [
    {
     "name": "stdout",
     "output_type": "stream",
     "text": [
      "Data(x=[1389, 43], edge_index=[2, 8956], edge_attr=[8956, 1], y=[1389], train_mask=[1389], val_mask=[1389], test_mask=[1389])\n"
     ]
    }
   ],
   "source": [
    "# Create random permutations of node indices\n",
    "# Set the random seed\n",
    "seed = 91218\n",
    "torch.manual_seed(seed)\n",
    "perm = torch.randperm(num_nodes)\n",
    "\n",
    "# Create boolean masks\n",
    "train_mask = torch.zeros(num_nodes, dtype=torch.bool)\n",
    "val_mask = torch.zeros(num_nodes, dtype=torch.bool)\n",
    "test_mask = torch.zeros(num_nodes, dtype=torch.bool)\n",
    "\n",
    "train_mask[perm[:train_size]] = True\n",
    "val_mask[perm[train_size:train_size + val_size]] = True\n",
    "test_mask[perm[train_size + val_size:]] = True\n",
    "\n",
    "# Add the masks to the graph object\n",
    "graph.train_mask = train_mask\n",
    "graph.val_mask = val_mask\n",
    "graph.test_mask = test_mask\n",
    "\n",
    "print(graph) #now the graph contains the masks."
   ]
  },
  {
   "cell_type": "raw",
   "metadata": {},
   "source": [
    "from torch_geometric.loader import NeighborLoader\n",
    "\n",
    "train_loader = NeighborLoader(\n",
    "    graph,\n",
    "    input_nodes = graph.train_mask,\n",
    "    batch_size = int(train_size//8),\n",
    "    num_neighbors = [1,10],\n",
    "    shuffle = True\n",
    ")\n",
    "\n",
    "val_loader = NeighborLoader(\n",
    "    graph,\n",
    "    input_nodes = graph.val_mask,\n",
    "    batch_size = int(val_size//3),\n",
    "    num_neighbors = [1,10]\n",
    ")\n",
    "\n",
    "test_loader = NeighborLoader(\n",
    "    graph,\n",
    "    input_nodes = graph.test_mask,\n",
    "    batch_size = int(test_size//3),\n",
    "    num_neighbors = [1,10]\n",
    ")"
   ]
  },
  {
   "cell_type": "raw",
   "metadata": {},
   "source": [
    "device = torch.device('cuda' if torch.cuda.is_available() else 'cpu') #check if cuda is available\n",
    "graph = graph.to(device)"
   ]
  },
  {
   "cell_type": "code",
   "execution_count": 32,
   "metadata": {},
   "outputs": [],
   "source": [
    "from torch_geometric.utils import subgraph\n",
    "train_nodes = torch.where(train_mask)[0]\n",
    "sub_edge_index, _ = subgraph(train_mask, graph.edge_index, relabel_nodes=True)\n",
    "train_x = graph.x[train_nodes]\n",
    "train_y = graph.y[train_nodes]\n",
    "train_data = torch_geometric.data.Data(x=train_x, y=train_y, edge_index=sub_edge_index)\n",
    "train_loader = torch_geometric.loader.DataLoader([train_data], batch_size=int(train_size//20), shuffle=True)\n",
    "\n",
    "val_nodes = torch.where(val_mask)[0]\n",
    "sub_edge_index, _ = subgraph(val_mask, graph.edge_index, relabel_nodes=True)\n",
    "val_x = graph.x[val_nodes]\n",
    "val_y = graph.y[val_nodes]\n",
    "val_data = torch_geometric.data.Data(x=val_x, y=val_y, edge_index=sub_edge_index)\n",
    "val_loader = torch_geometric.loader.DataLoader([val_data], batch_size=val_size)\n",
    "\n",
    "test_nodes = torch.where(test_mask)[0]\n",
    "sub_edge_index, _ = subgraph(test_mask, graph.edge_index, relabel_nodes=True)\n",
    "test_x = graph.x[test_nodes]\n",
    "test_y = graph.y[test_nodes]\n",
    "test_data = torch_geometric.data.Data(x=test_x, y=test_y, edge_index=sub_edge_index)\n",
    "test_loader = torch_geometric.loader.DataLoader([test_data], batch_size=test_size)"
   ]
  },
  {
   "cell_type": "markdown",
   "metadata": {},
   "source": [
    "## 5. Prepare models"
   ]
  },
  {
   "cell_type": "code",
   "execution_count": 33,
   "metadata": {
    "id": "cWFE3gnUo7nA"
   },
   "outputs": [],
   "source": [
    "import torch.nn.functional as F\n",
    "from torch.nn import Linear, Dropout\n",
    "from torch_geometric.nn import GCNConv, GATv2Conv, GATConv"
   ]
  },
  {
   "cell_type": "code",
   "execution_count": 34,
   "metadata": {},
   "outputs": [],
   "source": [
    "class GAT(torch.nn.Module):\n",
    "    \"\"\"\n",
    "    Graph Attention network\n",
    "    \"\"\"\n",
    "    def __init__(self, dim_in, dim_h, dim_out, n_heads):\n",
    "        super(GAT, self).__init__()\n",
    "        self.gat1 = GATv2Conv(dim_in, dim_h, heads = n_heads)\n",
    "        self.norm1 = torch.nn.LayerNorm(dim_h * n_heads)\n",
    "        self.gat2 = GATv2Conv(dim_h*n_heads, dim_out, heads = 1)\n",
    "        self.norm2 = torch.nn.LayerNorm(16*n_heads)\n",
    "        self.gat3 = GATv2Conv(n_heads*n_heads, 16, heads = 1)\n",
    "\n",
    "    def forward(self, x, edge_index):\n",
    "        x1 = F.dropout(x, p = 0.7, training = self.training)\n",
    "        x = self.gat1(x1, edge_index)\n",
    "        x = self.norm1(x)\n",
    "        x = F.elu(x)\n",
    "        x = F.dropout(x, p=0.5, training=self.training)\n",
    "        x = self.gat2(x, edge_index)\n",
    "        return x, F.log_softmax(x, dim=1)"
   ]
  },
  {
   "cell_type": "code",
   "execution_count": 35,
   "metadata": {},
   "outputs": [],
   "source": [
    "dim_in = graph.x.size(1)  \n",
    "dim_h = 32\n",
    "if task == \"reg\":\n",
    "    dim_out = 1\n",
    "else:\n",
    "    dim_out = len(graph.y.unique()) # Number of classes \n",
    "n_heads = 16\n",
    "\n",
    "# Create an instance of your GAT model\n",
    "model = GAT(dim_in, dim_h, dim_out, n_heads)\n",
    "untrained = GAT(dim_in, dim_h, dim_out, n_heads)"
   ]
  },
  {
   "cell_type": "code",
   "execution_count": 36,
   "metadata": {},
   "outputs": [],
   "source": [
    "lr = 0.001\n",
    "optimizer = torch.optim.Adam(model.parameters(),weight_decay=5e-4)\n",
    "if task == \"reg\":\n",
    "    criterion = torch.nn.MSELoss()\n",
    "else:\n",
    "    criterion = torch.nn.CrossEntropyLoss()\n",
    "n_epochs = 500"
   ]
  },
  {
   "cell_type": "code",
   "execution_count": 37,
   "metadata": {},
   "outputs": [
    {
     "name": "stdout",
     "output_type": "stream",
     "text": [
      "GAT(\n",
      "  (gat1): GATv2Conv(43, 32, heads=16)\n",
      "  (norm1): LayerNorm((512,), eps=1e-05, elementwise_affine=True)\n",
      "  (gat2): GATv2Conv(512, 1, heads=1)\n",
      "  (norm2): LayerNorm((256,), eps=1e-05, elementwise_affine=True)\n",
      "  (gat3): GATv2Conv(256, 16, heads=1)\n",
      ")\n"
     ]
    }
   ],
   "source": [
    "print(model)"
   ]
  },
  {
   "cell_type": "code",
   "execution_count": 38,
   "metadata": {},
   "outputs": [
    {
     "name": "stdout",
     "output_type": "stream",
     "text": [
      "Epoch 1/500, Train Loss: 3.1611, Val Loss: 0.5485, Test Loss: 0.5142\n",
      "Epoch 2/500, Train Loss: 1.0613, Val Loss: 1.0655, Test Loss: 0.7528\n",
      "Epoch 3/500, Train Loss: 0.9114, Val Loss: 2.2703, Test Loss: 1.8749\n",
      "Epoch 4/500, Train Loss: 1.7039, Val Loss: 2.4458, Test Loss: 2.1222\n",
      "Epoch 5/500, Train Loss: 1.6618, Val Loss: 1.8182, Test Loss: 1.6000\n",
      "Epoch 6/500, Train Loss: 1.2538, Val Loss: 0.9754, Test Loss: 0.8505\n",
      "Epoch 7/500, Train Loss: 0.8907, Val Loss: 0.3422, Test Loss: 0.2864\n",
      "Epoch 8/500, Train Loss: 0.5680, Val Loss: 0.0800, Test Loss: 0.0642\n",
      "Epoch 9/500, Train Loss: 0.5996, Val Loss: 0.0937, Test Loss: 0.0948\n",
      "Epoch 10/500, Train Loss: 0.8361, Val Loss: 0.1689, Test Loss: 0.1700\n",
      "Epoch 11/500, Train Loss: 0.9210, Val Loss: 0.1594, Test Loss: 0.1578\n",
      "Epoch 12/500, Train Loss: 1.0134, Val Loss: 0.0834, Test Loss: 0.0852\n",
      "Epoch 13/500, Train Loss: 0.7877, Val Loss: 0.0474, Test Loss: 0.0622\n",
      "Epoch 14/500, Train Loss: 0.5946, Val Loss: 0.1258, Test Loss: 0.1600\n",
      "Epoch 15/500, Train Loss: 0.5009, Val Loss: 0.3107, Test Loss: 0.3647\n",
      "Epoch 16/500, Train Loss: 0.5230, Val Loss: 0.5387, Test Loss: 0.6076\n",
      "Epoch 17/500, Train Loss: 0.5574, Val Loss: 0.7029, Test Loss: 0.7794\n",
      "Epoch 18/500, Train Loss: 0.7029, Val Loss: 0.7338, Test Loss: 0.8075\n",
      "Epoch 19/500, Train Loss: 0.6739, Val Loss: 0.6403, Test Loss: 0.7036\n",
      "Epoch 20/500, Train Loss: 0.6630, Val Loss: 0.4697, Test Loss: 0.5177\n",
      "Epoch 21/500, Train Loss: 0.5636, Val Loss: 0.2797, Test Loss: 0.3116\n",
      "Epoch 22/500, Train Loss: 0.5419, Val Loss: 0.1252, Test Loss: 0.1413\n",
      "Epoch 23/500, Train Loss: 0.4644, Val Loss: 0.0521, Test Loss: 0.0569\n",
      "Epoch 24/500, Train Loss: 0.4206, Val Loss: 0.0414, Test Loss: 0.0404\n",
      "Epoch 25/500, Train Loss: 0.5853, Val Loss: 0.0497, Test Loss: 0.0471\n",
      "Epoch 26/500, Train Loss: 0.5941, Val Loss: 0.0458, Test Loss: 0.0435\n",
      "Epoch 27/500, Train Loss: 0.5395, Val Loss: 0.0357, Test Loss: 0.0341\n",
      "Epoch 28/500, Train Loss: 0.5320, Val Loss: 0.0397, Test Loss: 0.0388\n",
      "Epoch 29/500, Train Loss: 0.5175, Val Loss: 0.0793, Test Loss: 0.0796\n",
      "Epoch 30/500, Train Loss: 0.4690, Val Loss: 0.1467, Test Loss: 0.1491\n",
      "Epoch 31/500, Train Loss: 0.4428, Val Loss: 0.2361, Test Loss: 0.2411\n",
      "Epoch 32/500, Train Loss: 0.4624, Val Loss: 0.3011, Test Loss: 0.3076\n",
      "Epoch 33/500, Train Loss: 0.4840, Val Loss: 0.3137, Test Loss: 0.3213\n",
      "Epoch 34/500, Train Loss: 0.5364, Val Loss: 0.2688, Test Loss: 0.2763\n",
      "Epoch 35/500, Train Loss: 0.4369, Val Loss: 0.2011, Test Loss: 0.2080\n",
      "Epoch 36/500, Train Loss: 0.3986, Val Loss: 0.1314, Test Loss: 0.1377\n",
      "Epoch 37/500, Train Loss: 0.4517, Val Loss: 0.0722, Test Loss: 0.0786\n",
      "Epoch 38/500, Train Loss: 0.4166, Val Loss: 0.0389, Test Loss: 0.0453\n",
      "Epoch 39/500, Train Loss: 0.4124, Val Loss: 0.0286, Test Loss: 0.0349\n",
      "Epoch 40/500, Train Loss: 0.4053, Val Loss: 0.0272, Test Loss: 0.0336\n",
      "Epoch 41/500, Train Loss: 0.4021, Val Loss: 0.0268, Test Loss: 0.0327\n",
      "Epoch 42/500, Train Loss: 0.4324, Val Loss: 0.0306, Test Loss: 0.0361\n",
      "Epoch 43/500, Train Loss: 0.3880, Val Loss: 0.0471, Test Loss: 0.0521\n",
      "Epoch 44/500, Train Loss: 0.3696, Val Loss: 0.0748, Test Loss: 0.0789\n",
      "Epoch 45/500, Train Loss: 0.3899, Val Loss: 0.1151, Test Loss: 0.1175\n",
      "Epoch 46/500, Train Loss: 0.3764, Val Loss: 0.1492, Test Loss: 0.1487\n",
      "Epoch 47/500, Train Loss: 0.3868, Val Loss: 0.1539, Test Loss: 0.1512\n",
      "Epoch 48/500, Train Loss: 0.4030, Val Loss: 0.1316, Test Loss: 0.1274\n",
      "Epoch 49/500, Train Loss: 0.4524, Val Loss: 0.1011, Test Loss: 0.0960\n",
      "Epoch 50/500, Train Loss: 0.3738, Val Loss: 0.0689, Test Loss: 0.0648\n",
      "Epoch 51/500, Train Loss: 0.3802, Val Loss: 0.0436, Test Loss: 0.0417\n",
      "Epoch 52/500, Train Loss: 0.3779, Val Loss: 0.0286, Test Loss: 0.0290\n",
      "Epoch 53/500, Train Loss: 0.3673, Val Loss: 0.0239, Test Loss: 0.0259\n",
      "Epoch 54/500, Train Loss: 0.3689, Val Loss: 0.0233, Test Loss: 0.0253\n",
      "Epoch 55/500, Train Loss: 0.3678, Val Loss: 0.0250, Test Loss: 0.0256\n",
      "Epoch 56/500, Train Loss: 0.3785, Val Loss: 0.0301, Test Loss: 0.0293\n",
      "Epoch 57/500, Train Loss: 0.3766, Val Loss: 0.0448, Test Loss: 0.0425\n",
      "Epoch 58/500, Train Loss: 0.3702, Val Loss: 0.0718, Test Loss: 0.0687\n",
      "Epoch 59/500, Train Loss: 0.3755, Val Loss: 0.0959, Test Loss: 0.0935\n",
      "Epoch 60/500, Train Loss: 0.3658, Val Loss: 0.1162, Test Loss: 0.1152\n",
      "Epoch 61/500, Train Loss: 0.3290, Val Loss: 0.1195, Test Loss: 0.1208\n",
      "Epoch 62/500, Train Loss: 0.3919, Val Loss: 0.1086, Test Loss: 0.1117\n",
      "Epoch 63/500, Train Loss: 0.3474, Val Loss: 0.0892, Test Loss: 0.0936\n",
      "Epoch 64/500, Train Loss: 0.3454, Val Loss: 0.0719, Test Loss: 0.0772\n",
      "Epoch 65/500, Train Loss: 0.3763, Val Loss: 0.0512, Test Loss: 0.0567\n",
      "Epoch 66/500, Train Loss: 0.3021, Val Loss: 0.0364, Test Loss: 0.0419\n",
      "Epoch 67/500, Train Loss: 0.3221, Val Loss: 0.0298, Test Loss: 0.0354\n",
      "Epoch 68/500, Train Loss: 0.3239, Val Loss: 0.0267, Test Loss: 0.0326\n",
      "Epoch 69/500, Train Loss: 0.3371, Val Loss: 0.0279, Test Loss: 0.0339\n",
      "Epoch 70/500, Train Loss: 0.3406, Val Loss: 0.0349, Test Loss: 0.0408\n",
      "Epoch 71/500, Train Loss: 0.3155, Val Loss: 0.0433, Test Loss: 0.0486\n",
      "Epoch 72/500, Train Loss: 0.3115, Val Loss: 0.0525, Test Loss: 0.0570\n",
      "Epoch 73/500, Train Loss: 0.3169, Val Loss: 0.0571, Test Loss: 0.0611\n",
      "Epoch 74/500, Train Loss: 0.3442, Val Loss: 0.0556, Test Loss: 0.0590\n",
      "Epoch 75/500, Train Loss: 0.3063, Val Loss: 0.0507, Test Loss: 0.0539\n",
      "Epoch 76/500, Train Loss: 0.3221, Val Loss: 0.0453, Test Loss: 0.0484\n",
      "Epoch 77/500, Train Loss: 0.2887, Val Loss: 0.0423, Test Loss: 0.0454\n",
      "Epoch 78/500, Train Loss: 0.2697, Val Loss: 0.0414, Test Loss: 0.0441\n",
      "Epoch 79/500, Train Loss: 0.3073, Val Loss: 0.0369, Test Loss: 0.0397\n",
      "Epoch 80/500, Train Loss: 0.2819, Val Loss: 0.0349, Test Loss: 0.0374\n",
      "Epoch 81/500, Train Loss: 0.2701, Val Loss: 0.0340, Test Loss: 0.0361\n",
      "Epoch 82/500, Train Loss: 0.3138, Val Loss: 0.0331, Test Loss: 0.0349\n",
      "Epoch 83/500, Train Loss: 0.2995, Val Loss: 0.0375, Test Loss: 0.0385\n",
      "Epoch 84/500, Train Loss: 0.2966, Val Loss: 0.0398, Test Loss: 0.0404\n",
      "Epoch 85/500, Train Loss: 0.3163, Val Loss: 0.0421, Test Loss: 0.0426\n",
      "Epoch 86/500, Train Loss: 0.2788, Val Loss: 0.0466, Test Loss: 0.0467\n",
      "Epoch 87/500, Train Loss: 0.2998, Val Loss: 0.0474, Test Loss: 0.0474\n",
      "Epoch 88/500, Train Loss: 0.2655, Val Loss: 0.0476, Test Loss: 0.0477\n",
      "Epoch 89/500, Train Loss: 0.3266, Val Loss: 0.0442, Test Loss: 0.0444\n",
      "Epoch 90/500, Train Loss: 0.2703, Val Loss: 0.0410, Test Loss: 0.0410\n",
      "Epoch 91/500, Train Loss: 0.2821, Val Loss: 0.0361, Test Loss: 0.0364\n",
      "Epoch 92/500, Train Loss: 0.2684, Val Loss: 0.0339, Test Loss: 0.0345\n",
      "Epoch 93/500, Train Loss: 0.2616, Val Loss: 0.0287, Test Loss: 0.0297\n",
      "Epoch 94/500, Train Loss: 0.2887, Val Loss: 0.0287, Test Loss: 0.0300\n",
      "Epoch 95/500, Train Loss: 0.3064, Val Loss: 0.0327, Test Loss: 0.0338\n",
      "Epoch 96/500, Train Loss: 0.3163, Val Loss: 0.0377, Test Loss: 0.0388\n",
      "Epoch 97/500, Train Loss: 0.2583, Val Loss: 0.0418, Test Loss: 0.0429\n",
      "Epoch 98/500, Train Loss: 0.2935, Val Loss: 0.0414, Test Loss: 0.0425\n",
      "Epoch 99/500, Train Loss: 0.2706, Val Loss: 0.0384, Test Loss: 0.0400\n",
      "Epoch 100/500, Train Loss: 0.2253, Val Loss: 0.0336, Test Loss: 0.0363\n",
      "Epoch 101/500, Train Loss: 0.2571, Val Loss: 0.0285, Test Loss: 0.0323\n",
      "Epoch 102/500, Train Loss: 0.2778, Val Loss: 0.0229, Test Loss: 0.0276\n",
      "Epoch 103/500, Train Loss: 0.2574, Val Loss: 0.0217, Test Loss: 0.0266\n",
      "Epoch 104/500, Train Loss: 0.2667, Val Loss: 0.0242, Test Loss: 0.0288\n",
      "Epoch 105/500, Train Loss: 0.2337, Val Loss: 0.0300, Test Loss: 0.0338\n",
      "Epoch 106/500, Train Loss: 0.2729, Val Loss: 0.0341, Test Loss: 0.0372\n",
      "Epoch 107/500, Train Loss: 0.2771, Val Loss: 0.0374, Test Loss: 0.0397\n",
      "Epoch 108/500, Train Loss: 0.2394, Val Loss: 0.0396, Test Loss: 0.0414\n",
      "Epoch 109/500, Train Loss: 0.2529, Val Loss: 0.0408, Test Loss: 0.0421\n",
      "Epoch 110/500, Train Loss: 0.2269, Val Loss: 0.0442, Test Loss: 0.0448\n",
      "Epoch 111/500, Train Loss: 0.2375, Val Loss: 0.0406, Test Loss: 0.0413\n",
      "Epoch 112/500, Train Loss: 0.2417, Val Loss: 0.0363, Test Loss: 0.0374\n",
      "Epoch 113/500, Train Loss: 0.2306, Val Loss: 0.0338, Test Loss: 0.0351\n",
      "Epoch 114/500, Train Loss: 0.2475, Val Loss: 0.0291, Test Loss: 0.0310\n",
      "Epoch 115/500, Train Loss: 0.2273, Val Loss: 0.0252, Test Loss: 0.0279\n",
      "Epoch 116/500, Train Loss: 0.2261, Val Loss: 0.0224, Test Loss: 0.0258\n",
      "Epoch 117/500, Train Loss: 0.2377, Val Loss: 0.0236, Test Loss: 0.0267\n",
      "Epoch 118/500, Train Loss: 0.2298, Val Loss: 0.0268, Test Loss: 0.0290\n",
      "Epoch 119/500, Train Loss: 0.2492, Val Loss: 0.0311, Test Loss: 0.0326\n",
      "Epoch 120/500, Train Loss: 0.2142, Val Loss: 0.0379, Test Loss: 0.0385\n",
      "Epoch 121/500, Train Loss: 0.2166, Val Loss: 0.0452, Test Loss: 0.0451\n",
      "Epoch 122/500, Train Loss: 0.2301, Val Loss: 0.0444, Test Loss: 0.0448\n",
      "Epoch 123/500, Train Loss: 0.2073, Val Loss: 0.0398, Test Loss: 0.0410\n",
      "Epoch 124/500, Train Loss: 0.2309, Val Loss: 0.0354, Test Loss: 0.0375\n",
      "Epoch 125/500, Train Loss: 0.2072, Val Loss: 0.0315, Test Loss: 0.0344\n",
      "Epoch 126/500, Train Loss: 0.2090, Val Loss: 0.0276, Test Loss: 0.0314\n",
      "Epoch 127/500, Train Loss: 0.1911, Val Loss: 0.0262, Test Loss: 0.0307\n",
      "Epoch 128/500, Train Loss: 0.2016, Val Loss: 0.0249, Test Loss: 0.0300\n",
      "Epoch 129/500, Train Loss: 0.2195, Val Loss: 0.0243, Test Loss: 0.0299\n",
      "Epoch 130/500, Train Loss: 0.2087, Val Loss: 0.0235, Test Loss: 0.0294\n",
      "Epoch 131/500, Train Loss: 0.2127, Val Loss: 0.0236, Test Loss: 0.0295\n",
      "Epoch 132/500, Train Loss: 0.2199, Val Loss: 0.0239, Test Loss: 0.0297\n",
      "Epoch 133/500, Train Loss: 0.2215, Val Loss: 0.0268, Test Loss: 0.0325\n",
      "Epoch 134/500, Train Loss: 0.1937, Val Loss: 0.0333, Test Loss: 0.0393\n",
      "Epoch 135/500, Train Loss: 0.1994, Val Loss: 0.0363, Test Loss: 0.0424\n",
      "Epoch 136/500, Train Loss: 0.2083, Val Loss: 0.0376, Test Loss: 0.0436\n",
      "Epoch 137/500, Train Loss: 0.2098, Val Loss: 0.0365, Test Loss: 0.0425\n",
      "Epoch 138/500, Train Loss: 0.1942, Val Loss: 0.0336, Test Loss: 0.0395\n",
      "Epoch 139/500, Train Loss: 0.2234, Val Loss: 0.0287, Test Loss: 0.0344\n",
      "Epoch 140/500, Train Loss: 0.2011, Val Loss: 0.0256, Test Loss: 0.0313\n",
      "Epoch 141/500, Train Loss: 0.1783, Val Loss: 0.0230, Test Loss: 0.0286\n",
      "Epoch 142/500, Train Loss: 0.1851, Val Loss: 0.0218, Test Loss: 0.0273\n",
      "Epoch 143/500, Train Loss: 0.2079, Val Loss: 0.0197, Test Loss: 0.0252\n",
      "Epoch 144/500, Train Loss: 0.1939, Val Loss: 0.0188, Test Loss: 0.0245\n",
      "Epoch 145/500, Train Loss: 0.2121, Val Loss: 0.0191, Test Loss: 0.0248\n",
      "Epoch 146/500, Train Loss: 0.1887, Val Loss: 0.0204, Test Loss: 0.0259\n",
      "Epoch 147/500, Train Loss: 0.1797, Val Loss: 0.0252, Test Loss: 0.0302\n",
      "Epoch 148/500, Train Loss: 0.1986, Val Loss: 0.0324, Test Loss: 0.0364\n",
      "Epoch 149/500, Train Loss: 0.1806, Val Loss: 0.0356, Test Loss: 0.0388\n",
      "Epoch 150/500, Train Loss: 0.1702, Val Loss: 0.0350, Test Loss: 0.0379\n",
      "Epoch 151/500, Train Loss: 0.2057, Val Loss: 0.0322, Test Loss: 0.0350\n",
      "Epoch 152/500, Train Loss: 0.1671, Val Loss: 0.0280, Test Loss: 0.0310\n",
      "Epoch 153/500, Train Loss: 0.1810, Val Loss: 0.0247, Test Loss: 0.0278\n",
      "Epoch 154/500, Train Loss: 0.1789, Val Loss: 0.0221, Test Loss: 0.0254\n",
      "Epoch 155/500, Train Loss: 0.1750, Val Loss: 0.0211, Test Loss: 0.0244\n",
      "Epoch 156/500, Train Loss: 0.1791, Val Loss: 0.0207, Test Loss: 0.0239\n",
      "Epoch 157/500, Train Loss: 0.1829, Val Loss: 0.0198, Test Loss: 0.0232\n",
      "Epoch 158/500, Train Loss: 0.1813, Val Loss: 0.0190, Test Loss: 0.0226\n",
      "Epoch 159/500, Train Loss: 0.1923, Val Loss: 0.0183, Test Loss: 0.0222\n",
      "Epoch 160/500, Train Loss: 0.1625, Val Loss: 0.0190, Test Loss: 0.0227\n",
      "Epoch 161/500, Train Loss: 0.1550, Val Loss: 0.0196, Test Loss: 0.0233\n",
      "Epoch 162/500, Train Loss: 0.1980, Val Loss: 0.0204, Test Loss: 0.0242\n",
      "Epoch 163/500, Train Loss: 0.1553, Val Loss: 0.0214, Test Loss: 0.0251\n",
      "Epoch 164/500, Train Loss: 0.1643, Val Loss: 0.0232, Test Loss: 0.0268\n",
      "Epoch 165/500, Train Loss: 0.1788, Val Loss: 0.0249, Test Loss: 0.0284\n",
      "Epoch 166/500, Train Loss: 0.1559, Val Loss: 0.0260, Test Loss: 0.0293\n",
      "Epoch 167/500, Train Loss: 0.1680, Val Loss: 0.0268, Test Loss: 0.0299\n",
      "Epoch 168/500, Train Loss: 0.1550, Val Loss: 0.0270, Test Loss: 0.0301\n",
      "Epoch 169/500, Train Loss: 0.1425, Val Loss: 0.0252, Test Loss: 0.0285\n",
      "Epoch 170/500, Train Loss: 0.1629, Val Loss: 0.0243, Test Loss: 0.0279\n",
      "Epoch 171/500, Train Loss: 0.1561, Val Loss: 0.0209, Test Loss: 0.0251\n",
      "Epoch 172/500, Train Loss: 0.1582, Val Loss: 0.0186, Test Loss: 0.0232\n",
      "Epoch 173/500, Train Loss: 0.1672, Val Loss: 0.0170, Test Loss: 0.0219\n",
      "Epoch 174/500, Train Loss: 0.1509, Val Loss: 0.0180, Test Loss: 0.0228\n",
      "Epoch 175/500, Train Loss: 0.1520, Val Loss: 0.0202, Test Loss: 0.0249\n",
      "Epoch 176/500, Train Loss: 0.1438, Val Loss: 0.0215, Test Loss: 0.0263\n",
      "Epoch 177/500, Train Loss: 0.1604, Val Loss: 0.0230, Test Loss: 0.0278\n",
      "Epoch 178/500, Train Loss: 0.1505, Val Loss: 0.0258, Test Loss: 0.0306\n",
      "Epoch 179/500, Train Loss: 0.1586, Val Loss: 0.0279, Test Loss: 0.0326\n",
      "Epoch 180/500, Train Loss: 0.1528, Val Loss: 0.0276, Test Loss: 0.0323\n",
      "Epoch 181/500, Train Loss: 0.1745, Val Loss: 0.0253, Test Loss: 0.0301\n",
      "Epoch 182/500, Train Loss: 0.1534, Val Loss: 0.0226, Test Loss: 0.0276\n",
      "Epoch 183/500, Train Loss: 0.1696, Val Loss: 0.0196, Test Loss: 0.0250\n",
      "Epoch 184/500, Train Loss: 0.1473, Val Loss: 0.0173, Test Loss: 0.0230\n",
      "Epoch 185/500, Train Loss: 0.1464, Val Loss: 0.0180, Test Loss: 0.0236\n",
      "Epoch 186/500, Train Loss: 0.1710, Val Loss: 0.0186, Test Loss: 0.0240\n",
      "Epoch 187/500, Train Loss: 0.1382, Val Loss: 0.0196, Test Loss: 0.0246\n",
      "Epoch 188/500, Train Loss: 0.1683, Val Loss: 0.0209, Test Loss: 0.0255\n",
      "Epoch 189/500, Train Loss: 0.1693, Val Loss: 0.0210, Test Loss: 0.0255\n",
      "Epoch 190/500, Train Loss: 0.1504, Val Loss: 0.0215, Test Loss: 0.0259\n",
      "Epoch 191/500, Train Loss: 0.1486, Val Loss: 0.0215, Test Loss: 0.0258\n",
      "Epoch 192/500, Train Loss: 0.1437, Val Loss: 0.0221, Test Loss: 0.0261\n",
      "Epoch 193/500, Train Loss: 0.1369, Val Loss: 0.0227, Test Loss: 0.0265\n",
      "Epoch 194/500, Train Loss: 0.1460, Val Loss: 0.0231, Test Loss: 0.0269\n",
      "Epoch 195/500, Train Loss: 0.1415, Val Loss: 0.0235, Test Loss: 0.0272\n",
      "Epoch 196/500, Train Loss: 0.1521, Val Loss: 0.0220, Test Loss: 0.0260\n",
      "Epoch 197/500, Train Loss: 0.1267, Val Loss: 0.0205, Test Loss: 0.0246\n",
      "Epoch 198/500, Train Loss: 0.1494, Val Loss: 0.0190, Test Loss: 0.0233\n",
      "Epoch 199/500, Train Loss: 0.1372, Val Loss: 0.0178, Test Loss: 0.0223\n",
      "Epoch 200/500, Train Loss: 0.1301, Val Loss: 0.0178, Test Loss: 0.0223\n",
      "Epoch 201/500, Train Loss: 0.1396, Val Loss: 0.0174, Test Loss: 0.0219\n",
      "Epoch 202/500, Train Loss: 0.1271, Val Loss: 0.0169, Test Loss: 0.0213\n",
      "Epoch 203/500, Train Loss: 0.1483, Val Loss: 0.0175, Test Loss: 0.0218\n",
      "Epoch 204/500, Train Loss: 0.1518, Val Loss: 0.0201, Test Loss: 0.0239\n",
      "Epoch 205/500, Train Loss: 0.1293, Val Loss: 0.0225, Test Loss: 0.0259\n",
      "Epoch 206/500, Train Loss: 0.1334, Val Loss: 0.0219, Test Loss: 0.0255\n",
      "Epoch 207/500, Train Loss: 0.1286, Val Loss: 0.0214, Test Loss: 0.0250\n",
      "Epoch 208/500, Train Loss: 0.1442, Val Loss: 0.0189, Test Loss: 0.0229\n",
      "Epoch 209/500, Train Loss: 0.1262, Val Loss: 0.0163, Test Loss: 0.0208\n",
      "Epoch 210/500, Train Loss: 0.1315, Val Loss: 0.0147, Test Loss: 0.0195\n",
      "Epoch 211/500, Train Loss: 0.1329, Val Loss: 0.0144, Test Loss: 0.0192\n",
      "Epoch 212/500, Train Loss: 0.1274, Val Loss: 0.0146, Test Loss: 0.0192\n",
      "Epoch 213/500, Train Loss: 0.1399, Val Loss: 0.0160, Test Loss: 0.0201\n",
      "Epoch 214/500, Train Loss: 0.1328, Val Loss: 0.0185, Test Loss: 0.0221\n",
      "Epoch 215/500, Train Loss: 0.1207, Val Loss: 0.0205, Test Loss: 0.0238\n",
      "Epoch 216/500, Train Loss: 0.1262, Val Loss: 0.0218, Test Loss: 0.0248\n",
      "Epoch 217/500, Train Loss: 0.1119, Val Loss: 0.0215, Test Loss: 0.0246\n",
      "Epoch 218/500, Train Loss: 0.1247, Val Loss: 0.0229, Test Loss: 0.0257\n",
      "Epoch 219/500, Train Loss: 0.1201, Val Loss: 0.0234, Test Loss: 0.0260\n",
      "Epoch 220/500, Train Loss: 0.1155, Val Loss: 0.0247, Test Loss: 0.0271\n",
      "Epoch 221/500, Train Loss: 0.1313, Val Loss: 0.0228, Test Loss: 0.0256\n",
      "Epoch 222/500, Train Loss: 0.1182, Val Loss: 0.0202, Test Loss: 0.0235\n",
      "Epoch 223/500, Train Loss: 0.1325, Val Loss: 0.0174, Test Loss: 0.0214\n",
      "Epoch 224/500, Train Loss: 0.1259, Val Loss: 0.0156, Test Loss: 0.0202\n",
      "Epoch 225/500, Train Loss: 0.1293, Val Loss: 0.0149, Test Loss: 0.0197\n",
      "Epoch 226/500, Train Loss: 0.1338, Val Loss: 0.0158, Test Loss: 0.0204\n",
      "Epoch 227/500, Train Loss: 0.1231, Val Loss: 0.0184, Test Loss: 0.0225\n",
      "Epoch 228/500, Train Loss: 0.1166, Val Loss: 0.0225, Test Loss: 0.0259\n",
      "Epoch 229/500, Train Loss: 0.1251, Val Loss: 0.0261, Test Loss: 0.0290\n",
      "Epoch 230/500, Train Loss: 0.1338, Val Loss: 0.0249, Test Loss: 0.0281\n",
      "Epoch 231/500, Train Loss: 0.1126, Val Loss: 0.0218, Test Loss: 0.0255\n",
      "Epoch 232/500, Train Loss: 0.1130, Val Loss: 0.0195, Test Loss: 0.0237\n",
      "Epoch 233/500, Train Loss: 0.1144, Val Loss: 0.0169, Test Loss: 0.0215\n",
      "Epoch 234/500, Train Loss: 0.1150, Val Loss: 0.0157, Test Loss: 0.0205\n",
      "Epoch 235/500, Train Loss: 0.1190, Val Loss: 0.0147, Test Loss: 0.0198\n",
      "Epoch 236/500, Train Loss: 0.1087, Val Loss: 0.0143, Test Loss: 0.0195\n",
      "Epoch 237/500, Train Loss: 0.1231, Val Loss: 0.0144, Test Loss: 0.0197\n",
      "Epoch 238/500, Train Loss: 0.1175, Val Loss: 0.0145, Test Loss: 0.0199\n",
      "Epoch 239/500, Train Loss: 0.1188, Val Loss: 0.0155, Test Loss: 0.0210\n",
      "Epoch 240/500, Train Loss: 0.1124, Val Loss: 0.0181, Test Loss: 0.0233\n",
      "Epoch 241/500, Train Loss: 0.1078, Val Loss: 0.0227, Test Loss: 0.0276\n",
      "Epoch 242/500, Train Loss: 0.1056, Val Loss: 0.0263, Test Loss: 0.0310\n",
      "Epoch 243/500, Train Loss: 0.1202, Val Loss: 0.0278, Test Loss: 0.0325\n",
      "Epoch 244/500, Train Loss: 0.1109, Val Loss: 0.0240, Test Loss: 0.0289\n",
      "Epoch 245/500, Train Loss: 0.1236, Val Loss: 0.0188, Test Loss: 0.0242\n",
      "Epoch 246/500, Train Loss: 0.1065, Val Loss: 0.0155, Test Loss: 0.0211\n",
      "Epoch 247/500, Train Loss: 0.1112, Val Loss: 0.0129, Test Loss: 0.0189\n",
      "Epoch 248/500, Train Loss: 0.1029, Val Loss: 0.0122, Test Loss: 0.0183\n",
      "Epoch 249/500, Train Loss: 0.1118, Val Loss: 0.0124, Test Loss: 0.0183\n",
      "Epoch 250/500, Train Loss: 0.1117, Val Loss: 0.0140, Test Loss: 0.0195\n",
      "Epoch 251/500, Train Loss: 0.1005, Val Loss: 0.0178, Test Loss: 0.0227\n",
      "Epoch 252/500, Train Loss: 0.0994, Val Loss: 0.0223, Test Loss: 0.0268\n",
      "Epoch 253/500, Train Loss: 0.1149, Val Loss: 0.0249, Test Loss: 0.0293\n",
      "Epoch 254/500, Train Loss: 0.1027, Val Loss: 0.0255, Test Loss: 0.0298\n",
      "Epoch 255/500, Train Loss: 0.1114, Val Loss: 0.0227, Test Loss: 0.0271\n",
      "Epoch 256/500, Train Loss: 0.1072, Val Loss: 0.0193, Test Loss: 0.0238\n",
      "Epoch 257/500, Train Loss: 0.0942, Val Loss: 0.0167, Test Loss: 0.0213\n",
      "Epoch 258/500, Train Loss: 0.1024, Val Loss: 0.0151, Test Loss: 0.0198\n",
      "Epoch 259/500, Train Loss: 0.0981, Val Loss: 0.0146, Test Loss: 0.0193\n",
      "Epoch 260/500, Train Loss: 0.1016, Val Loss: 0.0144, Test Loss: 0.0191\n",
      "Epoch 261/500, Train Loss: 0.1027, Val Loss: 0.0148, Test Loss: 0.0193\n",
      "Epoch 262/500, Train Loss: 0.1102, Val Loss: 0.0153, Test Loss: 0.0197\n",
      "Epoch 263/500, Train Loss: 0.1010, Val Loss: 0.0168, Test Loss: 0.0207\n",
      "Epoch 264/500, Train Loss: 0.1093, Val Loss: 0.0174, Test Loss: 0.0211\n",
      "Epoch 265/500, Train Loss: 0.0940, Val Loss: 0.0196, Test Loss: 0.0228\n",
      "Epoch 266/500, Train Loss: 0.0971, Val Loss: 0.0202, Test Loss: 0.0233\n",
      "Epoch 267/500, Train Loss: 0.0944, Val Loss: 0.0202, Test Loss: 0.0233\n",
      "Epoch 268/500, Train Loss: 0.0934, Val Loss: 0.0187, Test Loss: 0.0219\n",
      "Epoch 269/500, Train Loss: 0.1034, Val Loss: 0.0178, Test Loss: 0.0212\n",
      "Epoch 270/500, Train Loss: 0.0924, Val Loss: 0.0170, Test Loss: 0.0205\n",
      "Epoch 271/500, Train Loss: 0.1042, Val Loss: 0.0170, Test Loss: 0.0204\n",
      "Epoch 272/500, Train Loss: 0.1003, Val Loss: 0.0175, Test Loss: 0.0206\n",
      "Epoch 273/500, Train Loss: 0.1079, Val Loss: 0.0186, Test Loss: 0.0214\n",
      "Epoch 274/500, Train Loss: 0.0937, Val Loss: 0.0194, Test Loss: 0.0221\n",
      "Epoch 275/500, Train Loss: 0.0962, Val Loss: 0.0182, Test Loss: 0.0213\n",
      "Epoch 276/500, Train Loss: 0.1042, Val Loss: 0.0174, Test Loss: 0.0207\n",
      "Epoch 277/500, Train Loss: 0.0909, Val Loss: 0.0167, Test Loss: 0.0203\n",
      "Epoch 278/500, Train Loss: 0.0959, Val Loss: 0.0157, Test Loss: 0.0195\n",
      "Epoch 279/500, Train Loss: 0.0935, Val Loss: 0.0143, Test Loss: 0.0187\n",
      "Epoch 280/500, Train Loss: 0.0945, Val Loss: 0.0137, Test Loss: 0.0183\n",
      "Epoch 281/500, Train Loss: 0.1032, Val Loss: 0.0132, Test Loss: 0.0179\n",
      "Epoch 282/500, Train Loss: 0.0899, Val Loss: 0.0132, Test Loss: 0.0179\n",
      "Epoch 283/500, Train Loss: 0.0959, Val Loss: 0.0141, Test Loss: 0.0186\n",
      "Epoch 284/500, Train Loss: 0.0863, Val Loss: 0.0148, Test Loss: 0.0192\n",
      "Epoch 285/500, Train Loss: 0.0892, Val Loss: 0.0154, Test Loss: 0.0198\n",
      "Epoch 286/500, Train Loss: 0.0811, Val Loss: 0.0161, Test Loss: 0.0204\n",
      "Epoch 287/500, Train Loss: 0.0849, Val Loss: 0.0165, Test Loss: 0.0207\n",
      "Epoch 288/500, Train Loss: 0.0860, Val Loss: 0.0163, Test Loss: 0.0206\n",
      "Epoch 289/500, Train Loss: 0.0911, Val Loss: 0.0164, Test Loss: 0.0207\n",
      "Epoch 290/500, Train Loss: 0.0940, Val Loss: 0.0153, Test Loss: 0.0198\n",
      "Epoch 291/500, Train Loss: 0.0862, Val Loss: 0.0146, Test Loss: 0.0193\n",
      "Epoch 292/500, Train Loss: 0.0922, Val Loss: 0.0140, Test Loss: 0.0188\n",
      "Epoch 293/500, Train Loss: 0.0873, Val Loss: 0.0136, Test Loss: 0.0185\n",
      "Epoch 294/500, Train Loss: 0.0934, Val Loss: 0.0137, Test Loss: 0.0187\n",
      "Epoch 295/500, Train Loss: 0.0934, Val Loss: 0.0145, Test Loss: 0.0194\n",
      "Epoch 296/500, Train Loss: 0.0931, Val Loss: 0.0150, Test Loss: 0.0199\n",
      "Epoch 297/500, Train Loss: 0.0746, Val Loss: 0.0157, Test Loss: 0.0205\n",
      "Epoch 298/500, Train Loss: 0.0954, Val Loss: 0.0156, Test Loss: 0.0205\n",
      "Epoch 299/500, Train Loss: 0.0900, Val Loss: 0.0154, Test Loss: 0.0203\n",
      "Epoch 300/500, Train Loss: 0.0917, Val Loss: 0.0158, Test Loss: 0.0207\n",
      "Epoch 301/500, Train Loss: 0.0830, Val Loss: 0.0168, Test Loss: 0.0216\n",
      "Epoch 302/500, Train Loss: 0.0852, Val Loss: 0.0182, Test Loss: 0.0230\n",
      "Epoch 303/500, Train Loss: 0.0862, Val Loss: 0.0182, Test Loss: 0.0230\n",
      "Epoch 304/500, Train Loss: 0.0849, Val Loss: 0.0181, Test Loss: 0.0230\n",
      "Epoch 305/500, Train Loss: 0.0816, Val Loss: 0.0167, Test Loss: 0.0217\n",
      "Epoch 306/500, Train Loss: 0.0888, Val Loss: 0.0152, Test Loss: 0.0202\n",
      "Epoch 307/500, Train Loss: 0.0942, Val Loss: 0.0138, Test Loss: 0.0189\n",
      "Epoch 308/500, Train Loss: 0.0772, Val Loss: 0.0128, Test Loss: 0.0180\n",
      "Epoch 309/500, Train Loss: 0.0787, Val Loss: 0.0124, Test Loss: 0.0176\n",
      "Epoch 310/500, Train Loss: 0.0856, Val Loss: 0.0129, Test Loss: 0.0179\n",
      "Epoch 311/500, Train Loss: 0.0861, Val Loss: 0.0143, Test Loss: 0.0190\n",
      "Epoch 312/500, Train Loss: 0.0819, Val Loss: 0.0171, Test Loss: 0.0214\n",
      "Epoch 313/500, Train Loss: 0.0780, Val Loss: 0.0196, Test Loss: 0.0236\n",
      "Epoch 314/500, Train Loss: 0.0905, Val Loss: 0.0202, Test Loss: 0.0240\n",
      "Epoch 315/500, Train Loss: 0.0848, Val Loss: 0.0194, Test Loss: 0.0231\n",
      "Epoch 316/500, Train Loss: 0.0917, Val Loss: 0.0174, Test Loss: 0.0211\n",
      "Epoch 317/500, Train Loss: 0.0782, Val Loss: 0.0155, Test Loss: 0.0193\n",
      "Epoch 318/500, Train Loss: 0.0750, Val Loss: 0.0140, Test Loss: 0.0181\n",
      "Epoch 319/500, Train Loss: 0.0798, Val Loss: 0.0128, Test Loss: 0.0172\n",
      "Epoch 320/500, Train Loss: 0.0813, Val Loss: 0.0123, Test Loss: 0.0170\n",
      "Epoch 321/500, Train Loss: 0.0719, Val Loss: 0.0118, Test Loss: 0.0168\n",
      "Epoch 322/500, Train Loss: 0.0910, Val Loss: 0.0119, Test Loss: 0.0169\n",
      "Epoch 323/500, Train Loss: 0.0810, Val Loss: 0.0129, Test Loss: 0.0174\n",
      "Epoch 324/500, Train Loss: 0.0788, Val Loss: 0.0149, Test Loss: 0.0189\n",
      "Epoch 325/500, Train Loss: 0.0857, Val Loss: 0.0178, Test Loss: 0.0213\n",
      "Epoch 326/500, Train Loss: 0.0788, Val Loss: 0.0205, Test Loss: 0.0237\n",
      "Epoch 327/500, Train Loss: 0.0907, Val Loss: 0.0217, Test Loss: 0.0248\n",
      "Epoch 328/500, Train Loss: 0.0803, Val Loss: 0.0205, Test Loss: 0.0239\n",
      "Epoch 329/500, Train Loss: 0.0725, Val Loss: 0.0178, Test Loss: 0.0216\n",
      "Epoch 330/500, Train Loss: 0.0779, Val Loss: 0.0152, Test Loss: 0.0196\n",
      "Epoch 331/500, Train Loss: 0.0798, Val Loss: 0.0136, Test Loss: 0.0184\n",
      "Epoch 332/500, Train Loss: 0.0767, Val Loss: 0.0128, Test Loss: 0.0180\n",
      "Epoch 333/500, Train Loss: 0.0684, Val Loss: 0.0125, Test Loss: 0.0180\n",
      "Epoch 334/500, Train Loss: 0.0822, Val Loss: 0.0130, Test Loss: 0.0183\n",
      "Epoch 335/500, Train Loss: 0.0672, Val Loss: 0.0140, Test Loss: 0.0189\n",
      "Epoch 336/500, Train Loss: 0.0690, Val Loss: 0.0154, Test Loss: 0.0200\n",
      "Epoch 337/500, Train Loss: 0.0760, Val Loss: 0.0173, Test Loss: 0.0215\n",
      "Epoch 338/500, Train Loss: 0.0763, Val Loss: 0.0174, Test Loss: 0.0217\n",
      "Epoch 339/500, Train Loss: 0.0747, Val Loss: 0.0170, Test Loss: 0.0213\n",
      "Epoch 340/500, Train Loss: 0.0752, Val Loss: 0.0168, Test Loss: 0.0210\n",
      "Epoch 341/500, Train Loss: 0.0699, Val Loss: 0.0158, Test Loss: 0.0201\n",
      "Epoch 342/500, Train Loss: 0.0708, Val Loss: 0.0148, Test Loss: 0.0191\n",
      "Epoch 343/500, Train Loss: 0.0699, Val Loss: 0.0136, Test Loss: 0.0182\n",
      "Epoch 344/500, Train Loss: 0.0737, Val Loss: 0.0134, Test Loss: 0.0180\n",
      "Epoch 345/500, Train Loss: 0.0704, Val Loss: 0.0135, Test Loss: 0.0180\n",
      "Epoch 346/500, Train Loss: 0.0755, Val Loss: 0.0142, Test Loss: 0.0185\n",
      "Epoch 347/500, Train Loss: 0.0675, Val Loss: 0.0155, Test Loss: 0.0194\n",
      "Epoch 348/500, Train Loss: 0.0803, Val Loss: 0.0162, Test Loss: 0.0200\n",
      "Epoch 349/500, Train Loss: 0.0697, Val Loss: 0.0165, Test Loss: 0.0203\n",
      "Epoch 350/500, Train Loss: 0.0616, Val Loss: 0.0162, Test Loss: 0.0200\n",
      "Epoch 351/500, Train Loss: 0.0624, Val Loss: 0.0157, Test Loss: 0.0196\n",
      "Epoch 352/500, Train Loss: 0.0731, Val Loss: 0.0151, Test Loss: 0.0191\n",
      "Epoch 353/500, Train Loss: 0.0706, Val Loss: 0.0146, Test Loss: 0.0188\n",
      "Epoch 354/500, Train Loss: 0.0728, Val Loss: 0.0142, Test Loss: 0.0186\n",
      "Epoch 355/500, Train Loss: 0.0608, Val Loss: 0.0138, Test Loss: 0.0183\n",
      "Epoch 356/500, Train Loss: 0.0680, Val Loss: 0.0141, Test Loss: 0.0186\n",
      "Epoch 357/500, Train Loss: 0.0642, Val Loss: 0.0144, Test Loss: 0.0189\n",
      "Epoch 358/500, Train Loss: 0.0694, Val Loss: 0.0146, Test Loss: 0.0190\n",
      "Epoch 359/500, Train Loss: 0.0657, Val Loss: 0.0145, Test Loss: 0.0190\n",
      "Epoch 360/500, Train Loss: 0.0628, Val Loss: 0.0149, Test Loss: 0.0194\n",
      "Epoch 361/500, Train Loss: 0.0663, Val Loss: 0.0152, Test Loss: 0.0197\n",
      "Epoch 362/500, Train Loss: 0.0688, Val Loss: 0.0155, Test Loss: 0.0200\n",
      "Epoch 363/500, Train Loss: 0.0642, Val Loss: 0.0154, Test Loss: 0.0199\n",
      "Epoch 364/500, Train Loss: 0.0650, Val Loss: 0.0159, Test Loss: 0.0204\n",
      "Epoch 365/500, Train Loss: 0.0669, Val Loss: 0.0158, Test Loss: 0.0203\n",
      "Epoch 366/500, Train Loss: 0.0574, Val Loss: 0.0148, Test Loss: 0.0195\n",
      "Epoch 367/500, Train Loss: 0.0626, Val Loss: 0.0143, Test Loss: 0.0193\n",
      "Epoch 368/500, Train Loss: 0.0638, Val Loss: 0.0139, Test Loss: 0.0190\n",
      "Epoch 369/500, Train Loss: 0.0654, Val Loss: 0.0138, Test Loss: 0.0189\n",
      "Epoch 370/500, Train Loss: 0.0700, Val Loss: 0.0142, Test Loss: 0.0192\n",
      "Epoch 371/500, Train Loss: 0.0657, Val Loss: 0.0146, Test Loss: 0.0195\n",
      "Epoch 372/500, Train Loss: 0.0636, Val Loss: 0.0151, Test Loss: 0.0199\n",
      "Epoch 373/500, Train Loss: 0.0632, Val Loss: 0.0157, Test Loss: 0.0203\n",
      "Epoch 374/500, Train Loss: 0.0672, Val Loss: 0.0158, Test Loss: 0.0204\n",
      "Epoch 375/500, Train Loss: 0.0673, Val Loss: 0.0165, Test Loss: 0.0208\n",
      "Epoch 376/500, Train Loss: 0.0646, Val Loss: 0.0167, Test Loss: 0.0209\n",
      "Epoch 377/500, Train Loss: 0.0595, Val Loss: 0.0161, Test Loss: 0.0204\n",
      "Epoch 378/500, Train Loss: 0.0705, Val Loss: 0.0156, Test Loss: 0.0200\n",
      "Epoch 379/500, Train Loss: 0.0686, Val Loss: 0.0149, Test Loss: 0.0194\n",
      "Epoch 380/500, Train Loss: 0.0597, Val Loss: 0.0149, Test Loss: 0.0194\n",
      "Epoch 381/500, Train Loss: 0.0643, Val Loss: 0.0145, Test Loss: 0.0191\n",
      "Epoch 382/500, Train Loss: 0.0620, Val Loss: 0.0142, Test Loss: 0.0188\n",
      "Epoch 383/500, Train Loss: 0.0646, Val Loss: 0.0142, Test Loss: 0.0189\n",
      "Epoch 384/500, Train Loss: 0.0665, Val Loss: 0.0143, Test Loss: 0.0191\n",
      "Epoch 385/500, Train Loss: 0.0680, Val Loss: 0.0144, Test Loss: 0.0192\n",
      "Epoch 386/500, Train Loss: 0.0627, Val Loss: 0.0145, Test Loss: 0.0193\n",
      "Epoch 387/500, Train Loss: 0.0614, Val Loss: 0.0145, Test Loss: 0.0194\n",
      "Epoch 388/500, Train Loss: 0.0653, Val Loss: 0.0149, Test Loss: 0.0198\n",
      "Epoch 389/500, Train Loss: 0.0590, Val Loss: 0.0147, Test Loss: 0.0197\n",
      "Epoch 390/500, Train Loss: 0.0629, Val Loss: 0.0144, Test Loss: 0.0195\n",
      "Epoch 391/500, Train Loss: 0.0577, Val Loss: 0.0146, Test Loss: 0.0197\n",
      "Epoch 392/500, Train Loss: 0.0611, Val Loss: 0.0146, Test Loss: 0.0197\n",
      "Epoch 393/500, Train Loss: 0.0668, Val Loss: 0.0143, Test Loss: 0.0194\n",
      "Epoch 394/500, Train Loss: 0.0672, Val Loss: 0.0142, Test Loss: 0.0192\n",
      "Epoch 395/500, Train Loss: 0.0630, Val Loss: 0.0145, Test Loss: 0.0195\n",
      "Epoch 396/500, Train Loss: 0.0643, Val Loss: 0.0142, Test Loss: 0.0191\n",
      "Epoch 397/500, Train Loss: 0.0654, Val Loss: 0.0137, Test Loss: 0.0187\n",
      "Epoch 398/500, Train Loss: 0.0615, Val Loss: 0.0135, Test Loss: 0.0185\n",
      "Epoch 399/500, Train Loss: 0.0580, Val Loss: 0.0139, Test Loss: 0.0188\n",
      "Epoch 400/500, Train Loss: 0.0621, Val Loss: 0.0137, Test Loss: 0.0187\n",
      "Epoch 401/500, Train Loss: 0.0629, Val Loss: 0.0140, Test Loss: 0.0190\n",
      "Epoch 402/500, Train Loss: 0.0652, Val Loss: 0.0145, Test Loss: 0.0194\n",
      "Epoch 403/500, Train Loss: 0.0569, Val Loss: 0.0151, Test Loss: 0.0199\n",
      "Epoch 404/500, Train Loss: 0.0647, Val Loss: 0.0154, Test Loss: 0.0203\n",
      "Epoch 405/500, Train Loss: 0.0549, Val Loss: 0.0153, Test Loss: 0.0201\n",
      "Epoch 406/500, Train Loss: 0.0618, Val Loss: 0.0152, Test Loss: 0.0199\n",
      "Epoch 407/500, Train Loss: 0.0687, Val Loss: 0.0148, Test Loss: 0.0196\n",
      "Epoch 408/500, Train Loss: 0.0592, Val Loss: 0.0151, Test Loss: 0.0197\n",
      "Epoch 409/500, Train Loss: 0.0568, Val Loss: 0.0149, Test Loss: 0.0195\n",
      "Epoch 410/500, Train Loss: 0.0547, Val Loss: 0.0144, Test Loss: 0.0191\n",
      "Epoch 411/500, Train Loss: 0.0637, Val Loss: 0.0140, Test Loss: 0.0188\n",
      "Epoch 412/500, Train Loss: 0.0520, Val Loss: 0.0137, Test Loss: 0.0187\n",
      "Epoch 413/500, Train Loss: 0.0636, Val Loss: 0.0139, Test Loss: 0.0188\n",
      "Epoch 414/500, Train Loss: 0.0608, Val Loss: 0.0143, Test Loss: 0.0190\n",
      "Epoch 415/500, Train Loss: 0.0605, Val Loss: 0.0151, Test Loss: 0.0195\n",
      "Epoch 416/500, Train Loss: 0.0556, Val Loss: 0.0163, Test Loss: 0.0204\n",
      "Epoch 417/500, Train Loss: 0.0574, Val Loss: 0.0171, Test Loss: 0.0210\n",
      "Epoch 418/500, Train Loss: 0.0566, Val Loss: 0.0173, Test Loss: 0.0212\n",
      "Epoch 419/500, Train Loss: 0.0593, Val Loss: 0.0161, Test Loss: 0.0202\n",
      "Epoch 420/500, Train Loss: 0.0608, Val Loss: 0.0148, Test Loss: 0.0193\n",
      "Epoch 421/500, Train Loss: 0.0610, Val Loss: 0.0139, Test Loss: 0.0187\n",
      "Epoch 422/500, Train Loss: 0.0553, Val Loss: 0.0134, Test Loss: 0.0184\n",
      "Epoch 423/500, Train Loss: 0.0555, Val Loss: 0.0132, Test Loss: 0.0182\n",
      "Epoch 424/500, Train Loss: 0.0673, Val Loss: 0.0131, Test Loss: 0.0180\n",
      "Epoch 425/500, Train Loss: 0.0621, Val Loss: 0.0133, Test Loss: 0.0180\n",
      "Epoch 426/500, Train Loss: 0.0582, Val Loss: 0.0136, Test Loss: 0.0180\n",
      "Epoch 427/500, Train Loss: 0.0591, Val Loss: 0.0142, Test Loss: 0.0183\n",
      "Epoch 428/500, Train Loss: 0.0511, Val Loss: 0.0154, Test Loss: 0.0191\n",
      "Epoch 429/500, Train Loss: 0.0480, Val Loss: 0.0165, Test Loss: 0.0198\n",
      "Epoch 430/500, Train Loss: 0.0568, Val Loss: 0.0169, Test Loss: 0.0201\n",
      "Epoch 431/500, Train Loss: 0.0532, Val Loss: 0.0165, Test Loss: 0.0197\n",
      "Epoch 432/500, Train Loss: 0.0642, Val Loss: 0.0153, Test Loss: 0.0188\n",
      "Epoch 433/500, Train Loss: 0.0537, Val Loss: 0.0143, Test Loss: 0.0181\n",
      "Epoch 434/500, Train Loss: 0.0576, Val Loss: 0.0132, Test Loss: 0.0173\n",
      "Epoch 435/500, Train Loss: 0.0549, Val Loss: 0.0125, Test Loss: 0.0169\n",
      "Epoch 436/500, Train Loss: 0.0580, Val Loss: 0.0125, Test Loss: 0.0170\n",
      "Epoch 437/500, Train Loss: 0.0512, Val Loss: 0.0129, Test Loss: 0.0172\n",
      "Epoch 438/500, Train Loss: 0.0546, Val Loss: 0.0130, Test Loss: 0.0174\n",
      "Epoch 439/500, Train Loss: 0.0529, Val Loss: 0.0137, Test Loss: 0.0179\n",
      "Epoch 440/500, Train Loss: 0.0499, Val Loss: 0.0149, Test Loss: 0.0187\n",
      "Epoch 441/500, Train Loss: 0.0531, Val Loss: 0.0157, Test Loss: 0.0194\n",
      "Epoch 442/500, Train Loss: 0.0572, Val Loss: 0.0160, Test Loss: 0.0197\n",
      "Epoch 443/500, Train Loss: 0.0551, Val Loss: 0.0152, Test Loss: 0.0192\n",
      "Epoch 444/500, Train Loss: 0.0545, Val Loss: 0.0140, Test Loss: 0.0184\n",
      "Epoch 445/500, Train Loss: 0.0546, Val Loss: 0.0136, Test Loss: 0.0182\n",
      "Epoch 446/500, Train Loss: 0.0558, Val Loss: 0.0137, Test Loss: 0.0183\n",
      "Epoch 447/500, Train Loss: 0.0544, Val Loss: 0.0139, Test Loss: 0.0185\n",
      "Epoch 448/500, Train Loss: 0.0488, Val Loss: 0.0144, Test Loss: 0.0190\n",
      "Epoch 449/500, Train Loss: 0.0514, Val Loss: 0.0155, Test Loss: 0.0198\n",
      "Epoch 450/500, Train Loss: 0.0535, Val Loss: 0.0164, Test Loss: 0.0205\n",
      "Epoch 451/500, Train Loss: 0.0511, Val Loss: 0.0169, Test Loss: 0.0209\n",
      "Epoch 452/500, Train Loss: 0.0578, Val Loss: 0.0174, Test Loss: 0.0214\n",
      "Epoch 453/500, Train Loss: 0.0528, Val Loss: 0.0175, Test Loss: 0.0215\n",
      "Epoch 454/500, Train Loss: 0.0531, Val Loss: 0.0171, Test Loss: 0.0211\n",
      "Epoch 455/500, Train Loss: 0.0536, Val Loss: 0.0155, Test Loss: 0.0198\n",
      "Epoch 456/500, Train Loss: 0.0564, Val Loss: 0.0144, Test Loss: 0.0189\n",
      "Epoch 457/500, Train Loss: 0.0525, Val Loss: 0.0135, Test Loss: 0.0183\n",
      "Epoch 458/500, Train Loss: 0.0472, Val Loss: 0.0130, Test Loss: 0.0180\n",
      "Epoch 459/500, Train Loss: 0.0510, Val Loss: 0.0130, Test Loss: 0.0179\n",
      "Epoch 460/500, Train Loss: 0.0521, Val Loss: 0.0134, Test Loss: 0.0182\n",
      "Epoch 461/500, Train Loss: 0.0551, Val Loss: 0.0145, Test Loss: 0.0189\n",
      "Epoch 462/500, Train Loss: 0.0534, Val Loss: 0.0156, Test Loss: 0.0198\n",
      "Epoch 463/500, Train Loss: 0.0520, Val Loss: 0.0167, Test Loss: 0.0208\n",
      "Epoch 464/500, Train Loss: 0.0516, Val Loss: 0.0169, Test Loss: 0.0209\n",
      "Epoch 465/500, Train Loss: 0.0488, Val Loss: 0.0162, Test Loss: 0.0203\n",
      "Epoch 466/500, Train Loss: 0.0500, Val Loss: 0.0154, Test Loss: 0.0197\n",
      "Epoch 467/500, Train Loss: 0.0474, Val Loss: 0.0142, Test Loss: 0.0187\n",
      "Epoch 468/500, Train Loss: 0.0523, Val Loss: 0.0132, Test Loss: 0.0180\n",
      "Epoch 469/500, Train Loss: 0.0498, Val Loss: 0.0128, Test Loss: 0.0177\n",
      "Epoch 470/500, Train Loss: 0.0483, Val Loss: 0.0129, Test Loss: 0.0178\n",
      "Epoch 471/500, Train Loss: 0.0507, Val Loss: 0.0133, Test Loss: 0.0180\n",
      "Epoch 472/500, Train Loss: 0.0474, Val Loss: 0.0142, Test Loss: 0.0187\n",
      "Epoch 473/500, Train Loss: 0.0462, Val Loss: 0.0154, Test Loss: 0.0197\n",
      "Epoch 474/500, Train Loss: 0.0465, Val Loss: 0.0161, Test Loss: 0.0202\n",
      "Epoch 475/500, Train Loss: 0.0486, Val Loss: 0.0157, Test Loss: 0.0199\n",
      "Epoch 476/500, Train Loss: 0.0479, Val Loss: 0.0150, Test Loss: 0.0193\n",
      "Epoch 477/500, Train Loss: 0.0476, Val Loss: 0.0137, Test Loss: 0.0183\n",
      "Epoch 478/500, Train Loss: 0.0479, Val Loss: 0.0129, Test Loss: 0.0177\n",
      "Epoch 479/500, Train Loss: 0.0496, Val Loss: 0.0126, Test Loss: 0.0176\n",
      "Epoch 480/500, Train Loss: 0.0510, Val Loss: 0.0125, Test Loss: 0.0175\n",
      "Epoch 481/500, Train Loss: 0.0558, Val Loss: 0.0129, Test Loss: 0.0178\n",
      "Epoch 482/500, Train Loss: 0.0498, Val Loss: 0.0134, Test Loss: 0.0182\n",
      "Epoch 483/500, Train Loss: 0.0500, Val Loss: 0.0139, Test Loss: 0.0186\n",
      "Epoch 484/500, Train Loss: 0.0473, Val Loss: 0.0144, Test Loss: 0.0190\n",
      "Epoch 485/500, Train Loss: 0.0509, Val Loss: 0.0150, Test Loss: 0.0194\n",
      "Epoch 486/500, Train Loss: 0.0489, Val Loss: 0.0157, Test Loss: 0.0199\n",
      "Epoch 487/500, Train Loss: 0.0497, Val Loss: 0.0156, Test Loss: 0.0199\n",
      "Epoch 488/500, Train Loss: 0.0556, Val Loss: 0.0152, Test Loss: 0.0196\n",
      "Epoch 489/500, Train Loss: 0.0474, Val Loss: 0.0144, Test Loss: 0.0190\n",
      "Epoch 490/500, Train Loss: 0.0450, Val Loss: 0.0136, Test Loss: 0.0184\n",
      "Epoch 491/500, Train Loss: 0.0495, Val Loss: 0.0131, Test Loss: 0.0181\n",
      "Epoch 492/500, Train Loss: 0.0462, Val Loss: 0.0127, Test Loss: 0.0178\n",
      "Epoch 493/500, Train Loss: 0.0469, Val Loss: 0.0130, Test Loss: 0.0179\n",
      "Epoch 494/500, Train Loss: 0.0543, Val Loss: 0.0136, Test Loss: 0.0183\n",
      "Epoch 495/500, Train Loss: 0.0471, Val Loss: 0.0149, Test Loss: 0.0192\n",
      "Epoch 496/500, Train Loss: 0.0569, Val Loss: 0.0162, Test Loss: 0.0202\n",
      "Epoch 497/500, Train Loss: 0.0483, Val Loss: 0.0174, Test Loss: 0.0211\n",
      "Epoch 498/500, Train Loss: 0.0491, Val Loss: 0.0175, Test Loss: 0.0212\n",
      "Epoch 499/500, Train Loss: 0.0477, Val Loss: 0.0161, Test Loss: 0.0201\n",
      "Epoch 500/500, Train Loss: 0.0478, Val Loss: 0.0143, Test Loss: 0.0187\n"
     ]
    }
   ],
   "source": [
    "def train(model, graph, optimizer, criterion):\n",
    "    model.train()\n",
    "    total_loss = 0\n",
    "    num_batches = 0\n",
    "    for batch in train_loader:\n",
    "        optimizer.zero_grad()\n",
    "        out, log_probs = model(batch.x.float(), batch.edge_index)\n",
    "        if task == \"reg\":\n",
    "            y_pred = out\n",
    "        else: \n",
    "            y_pred = log_probs\n",
    "        y_true = batch.y.view(-1, 1)\n",
    "        loss = criterion(y_pred, y_true) #only compute the loss on the train nodes.\n",
    "        loss.backward()\n",
    "        optimizer.step()\n",
    "        total_loss += loss.item()\n",
    "        num_batches += 1\n",
    "    return total_loss / num_batches\n",
    "\n",
    "def test(model, graph, criterion, loader): #mask parameter added.\n",
    "    model.eval()\n",
    "    total_loss = 0\n",
    "    num_batches = 0\n",
    "    with torch.no_grad():\n",
    "        for batch in loader:\n",
    "            out, log_probs = model(batch.x.float(), batch.edge_index)\n",
    "            if task == \"reg\":\n",
    "                y_pred = out\n",
    "            else: \n",
    "                y_pred = log_probs\n",
    "            y_true = batch.y.view(-1, 1)\n",
    "            loss = criterion(y_pred, y_true) \n",
    "            total_loss += loss.item()\n",
    "            num_batches += 1\n",
    "    return total_loss / num_batches\n",
    "\n",
    "# Training loop\n",
    "train_losses = []  # List to store losses\n",
    "val_losses = []\n",
    "test_losses = []\n",
    "epochs_list = [] # List to store epoch numbers.\n",
    "for epoch in range(n_epochs):\n",
    "    train_loss = train(model, graph, optimizer, criterion)\n",
    "    val_loss = test(model, graph, criterion, val_loader) #pass the validation mask\n",
    "    test_loss = test(model, graph, criterion, test_loader) #pass the test mask\n",
    "    train_losses.append(train_loss)\n",
    "    val_losses.append(val_loss)\n",
    "    test_losses.append(test_loss)\n",
    "    epochs_list.append(epoch + 1)\n",
    "    print(f\"Epoch {epoch + 1}/{n_epochs}, Train Loss: {train_loss:.4f}, Val Loss: {val_loss:.4f}, Test Loss: {test_loss:.4f}\")\n"
   ]
  },
  {
   "cell_type": "code",
   "execution_count": 39,
   "metadata": {},
   "outputs": [
    {
     "data": {
      "image/png": "[encoded data removed]",
      "text/plain": [
       "<Figure size 640x480 with 1 Axes>"
      ]
     },
     "metadata": {},
     "output_type": "display_data"
    }
   ],
   "source": [
    "# Plotting the loss\n",
    "plt.plot(epochs_list, train_losses, label = \"Train Loss\")\n",
    "plt.plot(epochs_list, val_losses, label = \"Validation Loss\")\n",
    "plt.plot(epochs_list, test_losses, label = \"Test Loss\")\n",
    "plt.xlabel('Epochs')\n",
    "plt.ylabel('Loss')\n",
    "plt.legend()\n",
    "plt.title('Loss curves')\n",
    "plt.show()"
   ]
  },
  {
   "cell_type": "code",
   "execution_count": 40,
   "metadata": {},
   "outputs": [
    {
     "name": "stdout",
     "output_type": "stream",
     "text": [
      "0.01868731 0.47328401990411806\n"
     ]
    }
   ],
   "source": [
    "from sklearn.metrics import mean_squared_error, r2_score\n",
    "model.eval()\n",
    "with torch.no_grad():\n",
    "    for batch in test_loader:\n",
    "        out, log_probs = model(batch.x.float(), batch.edge_index)\n",
    "        ypred_gnn = out\n",
    "        y_true = batch.y.view(-1, 1)\n",
    "        val_mse = mean_squared_error(y_true, ypred_gnn)\n",
    "        val_r2 = r2_score(y_true, ypred_gnn)\n",
    "print(val_mse, val_r2)"
   ]
  },
  {
   "cell_type": "code",
   "execution_count": 41,
   "metadata": {},
   "outputs": [],
   "source": [
    "import networkx as nx\n",
    "\n",
    "def pyg_to_networkx(graph_data):\n",
    "    \"\"\"Converts a torch_geometric.data.Data object to a networkx.Graph.\"\"\"\n",
    "\n",
    "    G = nx.Graph()\n",
    "\n",
    "    # Add nodes with features\n",
    "    for i, features in enumerate(graph_data.x.numpy()):\n",
    "        G.add_node(i, features=features)\n",
    "\n",
    "    # Add edges\n",
    "    edge_list = graph_data.edge_index.numpy().T\n",
    "    for u, v in edge_list:\n",
    "        if graph_data.edge_attr is not None:\n",
    "            edge_attr = graph_data.edge_attr[np.where((graph_data.edge_index[0] == u) & (graph_data.edge_index[1] == v))].numpy().flatten()\n",
    "            G.add_edge(u, v, edge_attr=edge_attr)\n",
    "        else:\n",
    "            G.add_edge(u, v)\n",
    "\n",
    "    return G"
   ]
  },
  {
   "cell_type": "code",
   "execution_count": 42,
   "metadata": {},
   "outputs": [],
   "source": [
    "G = pyg_to_networkx(graph)"
   ]
  },
  {
   "cell_type": "code",
   "execution_count": 43,
   "metadata": {},
   "outputs": [],
   "source": [
    "graph.x.numpy().shape\n",
    "target = graph.y.numpy()"
   ]
  },
  {
   "cell_type": "code",
   "execution_count": 44,
   "metadata": {},
   "outputs": [
    {
     "data": {
      "text/plain": [
       "torch.Size([1389, 43])"
      ]
     },
     "execution_count": 44,
     "metadata": {},
     "output_type": "execute_result"
    }
   ],
   "source": [
    "graph.x.size()"
   ]
  },
  {
   "cell_type": "code",
   "execution_count": 50,
   "metadata": {},
   "outputs": [],
   "source": [
    "from sklearn.metrics.pairwise import rbf_kernel\n",
    "# 1. Compute Adjacency Kernel\n",
    "K_adjacency = rbf_kernel(distance_matrix)\n",
    "\n",
    "# 2. Compute Feature Kernel\n",
    "K_features = rbf_kernel(gdf[features[10:]].to_numpy())\n",
    "\n",
    "# 3. Combine Kernels (Weighted Summation)\n",
    "alpha = 0.5  # Tune this parameter\n",
    "K = alpha * K_adjacency + (1 - alpha) * K_features"
   ]
  },
  {
   "cell_type": "code",
   "execution_count": 52,
   "metadata": {},
   "outputs": [
    {
     "name": "stdout",
     "output_type": "stream",
     "text": [
      "Kernel Ridge Regression MSE: 0.01630047759084859\t Kernel Ridge Regression r-squared: 0.41395627233916776\t\n",
      "Support Vector Regression MSE: 0.015622909583880703\t Support Vector Regression r-squared: 0.43831656965770227\t\n"
     ]
    }
   ],
   "source": [
    "from sklearn.model_selection import train_test_split\n",
    "from sklearn.kernel_ridge import KernelRidge\n",
    "from sklearn.svm import SVR\n",
    "\n",
    "X_train, X_test, y_train, y_test = train_test_split(K_features, target, test_size=0.2, random_state=91218)\n",
    "krr = KernelRidge(alpha=1.0)\n",
    "krr.fit(X_train, y_train)\n",
    "y_pred = krr.predict(X_test)\n",
    "\n",
    "# Evaluate\n",
    "mse = mean_squared_error(y_test, y_pred)\n",
    "r2 = r2_score(y_test, y_pred)\n",
    "print(f\"Kernel Ridge Regression MSE: {mse}\\t\",f\"Kernel Ridge Regression r-squared: {r2}\\t\")\n",
    "\n",
    "svr = SVR() \n",
    "svr.fit(X_train, y_train)\n",
    "y_pred_svr = svr.predict(X_test)\n",
    "\n",
    "# Evaluate\n",
    "mse = mean_squared_error(y_test, y_pred_svr)\n",
    "r2 = r2_score(y_test, y_pred_svr)\n",
    "print(f\"Support Vector Regression MSE: {mse}\\t\",f\"Support Vector Regression r-squared: {r2}\\t\")"
   ]
  },
  {
   "cell_type": "code",
   "execution_count": 47,
   "metadata": {},
   "outputs": [
    {
     "ename": "SyntaxError",
     "evalue": "'break' outside loop (1273378216.py, line 2)",
     "output_type": "error",
     "traceback": [
      "\u001b[1;36m  Cell \u001b[1;32mIn[47], line 2\u001b[1;36m\u001b[0m\n\u001b[1;33m    break\u001b[0m\n\u001b[1;37m    ^\u001b[0m\n\u001b[1;31mSyntaxError\u001b[0m\u001b[1;31m:\u001b[0m 'break' outside loop\n"
     ]
    }
   ],
   "source": [
    "if task == \"reg\":\n",
    "    break"
   ]
  },
  {
   "cell_type": "code",
   "execution_count": null,
   "metadata": {},
   "outputs": [],
   "source": [
    "from sklearn.manifold import TSNE"
   ]
  },
  {
   "cell_type": "code",
   "execution_count": null,
   "metadata": {
    "id": "psAwbtMpPgqP"
   },
   "outputs": [],
   "source": [
    "# Get embeddings\n",
    "h, _ = untrained(graph.x.float(), graph.edge_index)\n",
    "\n",
    "# Train TSNE\n",
    "tsne = TSNE(n_components=2, learning_rate='auto',\n",
    "         init='pca').fit_transform(h.detach())\n",
    "\n",
    "unique_labels = np.unique(graph.y)\n",
    "labels = ['Moderate Poor', 'Non-vulnerable', 'Severe Poor', 'Vulnerable']\n",
    "\n",
    "# Plot TSNE\n",
    "plt.figure(figsize=(10, 10))\n",
    "plt.axis('off')\n",
    "# Scatter plot with different colors for each class\n",
    "for label in unique_labels:\n",
    "    indices = graph.y == label\n",
    "    plt.scatter(tsne[indices, 0], tsne[indices, 1], s=20, label=labels[label])\n",
    "    # Add legend\n",
    "plt.legend(title=\"Class Labels\", loc=\"upper right\")\n",
    "plt.show()"
   ]
  },
  {
   "cell_type": "code",
   "execution_count": null,
   "metadata": {
    "id": "EFcvr6KMPkNV"
   },
   "outputs": [],
   "source": [
    "h, _ = model(graph.x.float(), graph.edge_index)\n",
    "\n",
    "# Train TSNE\n",
    "tsne = TSNE(n_components=2, learning_rate='auto',\n",
    "         init='pca').fit_transform(h.detach())\n",
    "\n",
    "unique_labels = np.unique(graph.y)\n",
    "labels = ['Moderate Poor', 'Non-vulnerable', 'Severe Poor', 'Vulnerable']\n",
    "\n",
    "# Plot TSNE\n",
    "plt.figure(figsize=(10, 10))\n",
    "plt.axis('off')\n",
    "# Scatter plot with different colors for each class\n",
    "for label in unique_labels:\n",
    "    indices = graph.y == label\n",
    "    plt.scatter(tsne[indices, 0], tsne[indices, 1], s=20, label=labels[label])\n",
    "# Add legend\n",
    "plt.legend(title=\"Class Labels\", loc=\"upper right\")\n",
    "plt.show()"
   ]
  },
  {
   "cell_type": "code",
   "execution_count": null,
   "metadata": {},
   "outputs": [],
   "source": [
    "from sklearn.metrics import confusion_matrix\n",
    "import seaborn as sns"
   ]
  },
  {
   "cell_type": "code",
   "execution_count": null,
   "metadata": {},
   "outputs": [],
   "source": [
    "model.eval()\n",
    "output = model(graph.x.float(), graph.edge_index)\n",
    "i, y_pred = output[1].max(1)\n",
    "y_true = graph.y\n",
    "cm = confusion_matrix(graph.y, y_pred)"
   ]
  },
  {
   "cell_type": "code",
   "execution_count": null,
   "metadata": {},
   "outputs": [],
   "source": [
    "plt.figure(figsize=(len(labels),len(labels)))\n",
    "cm_prop = cm.astype('float') / cm.sum(axis=1)\n",
    "sns.heatmap(cm_prop, annot = True, xticklabels=labels, yticklabels=labels)\n",
    "plt.show()"
   ]
  },
  {
   "cell_type": "code",
   "execution_count": null,
   "metadata": {},
   "outputs": [],
   "source": [
    "plt.figure(figsize=(len(labels),len(labels)))\n",
    "sns.heatmap(cm.astype('int'), annot = True, xticklabels=labels, yticklabels=labels)\n",
    "plt.show()"
   ]
  },
  {
   "cell_type": "code",
   "execution_count": null,
   "metadata": {},
   "outputs": [],
   "source": []
  },
  {
   "cell_type": "raw",
   "metadata": {
    "id": "cWFE3gnUo7nA"
   },
   "source": [
    "class GCN(torch.nn.Module):\n",
    "  \"\"\"Graph Convolutional Network\"\"\"\n",
    "  def __init__(self, dim_in, dim_h, dim_out):\n",
    "    super().__init__()\n",
    "    self.gcn1 = GCNConv(dim_in, dim_h)\n",
    "    self.gcn2 = GCNConv(dim_h, dim_out)\n",
    "    self.optimizer = torch.optim.Adam(self.parameters(),\n",
    "                                      lr=0.01,\n",
    "                                      0)\n",
    "\n",
    "  def forward(self, x, edge_index):\n",
    "    h = F.dropout(x, p=0.5)\n",
    "    h = self.gcn1(h, edge_index)\n",
    "    h = torch.relu(h)\n",
    "    h = F.dropout(h, p=0.5)\n",
    "    h = self.gcn2(h, edge_index)\n",
    "    return h, F.log_softmax(h, dim=1)"
   ]
  },
  {
   "cell_type": "raw",
   "metadata": {
    "id": "cWFE3gnUo7nA"
   },
   "source": [
    "class GAT(torch.nn.Module):\n",
    "  \"\"\"Graph Attention Network\"\"\"\n",
    "  def __init__(self, dim_in, dim_h, dim_out, heads=8):\n",
    "    super().__init__()\n",
    "    self.gat1 = GATv2Conv(dim_in, dim_h, heads=heads)\n",
    "    self.gat2 = GATv2Conv(dim_h*heads, dim_out, heads=1)\n",
    "    self.optimizer = torch.optim.Adam(self.parameters(),\n",
    "                                      lr=0.005,\n",
    "                                      weight_decay=5e-4)\n",
    "\n",
    "  def forward(self, x, edge_index):\n",
    "    h = F.dropout(x, p=0.6, training=self.training)\n",
    "    h = self.gat1(x, edge_index)\n",
    "    h = F.elu(h)\n",
    "    h = F.dropout(h, p=0.6, training=self.training)\n",
    "    h = self.gat2(h, edge_index)\n",
    "    return h, F.log_softmax(h, dim=1)"
   ]
  },
  {
   "cell_type": "raw",
   "metadata": {
    "id": "cWFE3gnUo7nA"
   },
   "source": [
    "def accuracy(pred_y, y):\n",
    "    \"\"\"Calculate accuracy.\"\"\"\n",
    "    return ((pred_y == y).sum() / len(y)).item()\n",
    "\n",
    "def train(model, data):\n",
    "    \"\"\"Train a GNN model and return the trained model.\"\"\"\n",
    "    criterion = torch.nn.CrossEntropyLoss()\n",
    "    optimizer = model.optimizer\n",
    "    epochs = 200\n",
    "\n",
    "    model.train()\n",
    "    for epoch in range(epochs+1):\n",
    "        # Training\n",
    "        optimizer.zero_grad()\n",
    "        _, out = model(data.x, data.edge_index)\n",
    "        loss = criterion(out[data.train_mask], data.y[data.train_mask])\n",
    "        acc = accuracy(out[data.train_mask].argmax(dim=1), data.y[data.train_mask])\n",
    "        loss.backward()\n",
    "        optimizer.step()\n",
    "\n",
    "        # Validation\n",
    "        val_loss = criterion(out[data.val_mask], data.y[data.val_mask])\n",
    "        val_acc = accuracy(out[data.val_mask].argmax(dim=1), data.y[data.val_mask])\n",
    "\n",
    "        # Print metrics every 10 epochs\n",
    "        if(epoch % 10 == 0):\n",
    "            print(f'Epoch {epoch:>3} | Train Loss: {loss:.3f} | Train Acc: '\n",
    "                  f'{acc*100:>6.2f}% | Val Loss: {val_loss:.2f} | '\n",
    "                  f'Val Acc: {val_acc*100:.2f}%')\n",
    "\n",
    "    return model\n",
    "\n",
    "def test(model, data):\n",
    "    \"\"\"Evaluate the model on test set and print the accuracy score.\"\"\"\n",
    "    model.eval()\n",
    "    _, out = model(data.x, data.edge_index)\n",
    "    acc = accuracy(out.argmax(dim=1)[data.test_mask], data.y[data.test_mask])\n",
    "    return acc"
   ]
  }
 ],
 "metadata": {
  "colab": {
   "provenance": []
  },
  "kernelspec": {
   "display_name": "Python 3 (ipykernel)",
   "language": "python",
   "name": "python3"
  },
  "language_info": {
   "codemirror_mode": {
    "name": "ipython",
    "version": 3
   },
   "file_extension": ".py",
   "mimetype": "text/x-python",
   "name": "python",
   "nbconvert_exporter": "python",
   "pygments_lexer": "ipython3",
   "version": "3.11.4"
  }
 },
 "nbformat": 4,
 "nbformat_minor": 4
}
