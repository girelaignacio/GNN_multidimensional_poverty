{
 "cells": [
  {
   "cell_type": "markdown",
   "metadata": {},
   "source": [
    "## 1. Load libraries"
   ]
  },
  {
   "cell_type": "code",
   "execution_count": 1,
   "metadata": {},
   "outputs": [],
   "source": [
    "import pandas as pd"
   ]
  },
  {
   "cell_type": "code",
   "execution_count": 2,
   "metadata": {
    "id": "3QBFCJifrdZ0"
   },
   "outputs": [],
   "source": [
    "import numpy as np\n",
    "import torch\n",
    "import torch_geometric.datasets as datasets\n",
    "import torch_geometric.data\n",
    "import torch_geometric.transforms as transforms"
   ]
  },
  {
   "cell_type": "markdown",
   "metadata": {},
   "source": [
    "## 2. Read spatial data: Nigeria DHS 20-21"
   ]
  },
  {
   "cell_type": "code",
   "execution_count": 3,
   "metadata": {
    "id": "uR4QbIm94HSw"
   },
   "outputs": [],
   "source": [
    "import geopandas as gpd\n",
    "df = gpd.read_file(\"../data/nga_dhs20-21.shp\")\n",
    "gdf = gpd.GeoDataFrame(df, crs=\"EPSG:4326\")\n",
    "#gdf = gdf.to_crs(\"EPSG:32617\")"
   ]
  },
  {
   "cell_type": "code",
   "execution_count": 4,
   "metadata": {
    "colab": {
     "base_uri": "https://localhost:8080/",
     "height": 458
    },
    "id": "BRVzB0Jp65lW",
    "outputId": "f473b51e-a908-4bed-ceb4-c146d6d85c82"
   },
   "outputs": [
    {
     "data": {
      "text/plain": [
       "<GeometryArray>\n",
       "[ <POINT (8.507 7.72)>, <POINT (8.552 7.718)>, <POINT (8.991 7.347)>,\n",
       "   <POINT (8.15 7.21)>, <POINT (8.408 6.881)>, <POINT (7.951 7.805)>,\n",
       " <POINT (7.838 7.595)>, <POINT (8.125 7.605)>, <POINT (8.503 7.689)>,\n",
       " <POINT (8.582 7.845)>,\n",
       " ...\n",
       "  <POINT (3.19 8.318)>, <POINT (4.022 7.953)>, <POINT (4.191 8.202)>,\n",
       " <POINT (4.431 7.977)>,  <POINT (4.104 7.85)>, <POINT (3.588 7.828)>,\n",
       "  <POINT (3.343 8.05)>, <POINT (3.018 7.948)>, <POINT (3.291 7.341)>,\n",
       " <POINT (3.948 7.786)>]\n",
       "Length: 1383, dtype: geometry"
      ]
     },
     "execution_count": 4,
     "metadata": {},
     "output_type": "execute_result"
    }
   ],
   "source": [
    "gdf.geometry.unique()"
   ]
  },
  {
   "cell_type": "code",
   "execution_count": 5,
   "metadata": {
    "colab": {
     "base_uri": "https://localhost:8080/"
    },
    "id": "cTvhxUcW5qgp",
    "outputId": "990f876c-968f-4d49-9725-a3b13fd93b64"
   },
   "outputs": [
    {
     "name": "stderr",
     "output_type": "stream",
     "text": [
      "C:\\Users\\girel\\AppData\\Local\\Temp\\ipykernel_32440\\4188193525.py:1: UserWarning: Geometry is in a geographic CRS. Results from 'centroid' are likely incorrect. Use 'GeoSeries.to_crs()' to re-project geometries to a projected CRS before this operation.\n",
      "\n",
      "  centroids = np.array([(point.x, point.y) for point in df.geometry.centroid])\n"
     ]
    },
    {
     "data": {
      "text/plain": [
       "array([[8.506936, 7.720049],\n",
       "       [8.552142, 7.717922],\n",
       "       [8.991185, 7.346602],\n",
       "       ...,\n",
       "       [3.017661, 7.947632],\n",
       "       [3.291019, 7.341286],\n",
       "       [3.948039, 7.785664]])"
      ]
     },
     "execution_count": 5,
     "metadata": {},
     "output_type": "execute_result"
    }
   ],
   "source": [
    "centroids = np.array([(point.x, point.y) for point in df.geometry.centroid])\n",
    "centroids"
   ]
  },
  {
   "cell_type": "markdown",
   "metadata": {},
   "source": [
    "## 3. Build distance matrix\n",
    "\n",
    "We build a proximity matrix between the clusters"
   ]
  },
  {
   "cell_type": "code",
   "execution_count": 6,
   "metadata": {
    "colab": {
     "base_uri": "https://localhost:8080/",
     "height": 165
    },
    "id": "lx3-Bvbl5qsk",
    "outputId": "534c288e-adc0-4b3d-8eba-a18a3bba16e2"
   },
   "outputs": [],
   "source": [
    "from scipy.spatial.distance import cdist\n",
    "distance_matrix = cdist(np.unique(centroids, axis = 0), np.unique(centroids, axis = 0), 'euclidean')"
   ]
  },
  {
   "cell_type": "code",
   "execution_count": 7,
   "metadata": {
    "id": "0Rs-v7sM5q5T"
   },
   "outputs": [
    {
     "data": {
      "text/plain": [
       "array([[ 0.        ,  7.90917123,  7.11335248, ..., 16.77679502,\n",
       "        17.73958348, 18.81761545],\n",
       "       [ 7.90917123,  0.        ,  0.8931784 , ..., 10.93767371,\n",
       "        11.43550126, 12.22038214],\n",
       "       [ 7.11335248,  0.8931784 ,  0.        , ..., 11.1203557 ,\n",
       "        11.72264204, 12.58043899],\n",
       "       ...,\n",
       "       [16.77679502, 10.93767371, 11.1203557 , ...,  0.        ,\n",
       "         1.47642768,  2.79842185],\n",
       "       [17.73958348, 11.43550126, 11.72264204, ...,  1.47642768,\n",
       "         0.        ,  1.33305874],\n",
       "       [18.81761545, 12.22038214, 12.58043899, ...,  2.79842185,\n",
       "         1.33305874,  0.        ]])"
      ]
     },
     "execution_count": 7,
     "metadata": {},
     "output_type": "execute_result"
    }
   ],
   "source": [
    "distance_matrix"
   ]
  },
  {
   "cell_type": "code",
   "execution_count": 8,
   "metadata": {},
   "outputs": [
    {
     "data": {
      "text/plain": [
       "18.817615452436154"
      ]
     },
     "execution_count": 8,
     "metadata": {},
     "output_type": "execute_result"
    }
   ],
   "source": [
    "max_distance = np.max(distance_matrix)\n",
    "max_distance"
   ]
  },
  {
   "cell_type": "code",
   "execution_count": 9,
   "metadata": {},
   "outputs": [],
   "source": [
    "weighted_proximity_matrix = np.zeros_like(distance_matrix)\n",
    "for i in range(len(distance_matrix)):\n",
    "    for j in range(len(distance_matrix)):\n",
    "        proximity = (max_distance - distance_matrix[i, j]) / max_distance\n",
    "        proximity = max(0, proximity)\n",
    "        weighted_proximity_matrix[i, j] = proximity"
   ]
  },
  {
   "cell_type": "code",
   "execution_count": 10,
   "metadata": {},
   "outputs": [
    {
     "name": "stdout",
     "output_type": "stream",
     "text": [
      "0.0 1.0\n"
     ]
    }
   ],
   "source": [
    "print(weighted_proximity_matrix.min(),weighted_proximity_matrix.max())"
   ]
  },
  {
   "cell_type": "code",
   "execution_count": 11,
   "metadata": {},
   "outputs": [],
   "source": [
    "threshold = 0.99\n",
    "weighted_proximity_matrix[weighted_proximity_matrix < threshold] = 0"
   ]
  },
  {
   "cell_type": "code",
   "execution_count": 12,
   "metadata": {},
   "outputs": [
    {
     "data": {
      "text/plain": [
       "array([[1., 0., 0., ..., 0., 0., 0.],\n",
       "       [0., 1., 0., ..., 0., 0., 0.],\n",
       "       [0., 0., 1., ..., 0., 0., 0.],\n",
       "       ...,\n",
       "       [0., 0., 0., ..., 1., 0., 0.],\n",
       "       [0., 0., 0., ..., 0., 1., 0.],\n",
       "       [0., 0., 0., ..., 0., 0., 1.]])"
      ]
     },
     "execution_count": 12,
     "metadata": {},
     "output_type": "execute_result"
    }
   ],
   "source": [
    "weighted_proximity_matrix"
   ]
  },
  {
   "cell_type": "code",
   "execution_count": 13,
   "metadata": {},
   "outputs": [],
   "source": [
    "weighted_proximity_matrix[np.diag_indices_from(weighted_proximity_matrix)] = 0"
   ]
  },
  {
   "cell_type": "markdown",
   "metadata": {},
   "source": [
    "## 4. Transform data to tensor\n",
    "\n",
    "Create torch_geometric.data.Data object"
   ]
  },
  {
   "cell_type": "markdown",
   "metadata": {},
   "source": [
    "Transform proximity matrix to tensor and create edges "
   ]
  },
  {
   "cell_type": "code",
   "execution_count": 14,
   "metadata": {},
   "outputs": [],
   "source": [
    "adj_matrix = torch.tensor(weighted_proximity_matrix)"
   ]
  },
  {
   "cell_type": "code",
   "execution_count": 15,
   "metadata": {},
   "outputs": [],
   "source": [
    "edges = adj_matrix.nonzero().t().contiguous()"
   ]
  },
  {
   "cell_type": "code",
   "execution_count": 16,
   "metadata": {},
   "outputs": [
    {
     "data": {
      "text/plain": [
       "tensor([[   2,    2,    2,  ..., 1380, 1380, 1380],\n",
       "        [   4,    5,    6,  ..., 1375, 1376, 1377]])"
      ]
     },
     "execution_count": 16,
     "metadata": {},
     "output_type": "execute_result"
    }
   ],
   "source": [
    "edges"
   ]
  },
  {
   "cell_type": "markdown",
   "metadata": {},
   "source": [
    "Get edge attributes (given by proximity of clusters)"
   ]
  },
  {
   "cell_type": "code",
   "execution_count": 17,
   "metadata": {
    "id": "WIBVjlFAI4Vt"
   },
   "outputs": [],
   "source": [
    "edge_attr = []\n",
    "for i in range(edges.size(1)):\n",
    "    edge_attr.append([adj_matrix[edges[0][i], edges[1][0]]])\n",
    "\n",
    "edge_attr = torch.tensor(edge_attr, dtype=torch.float)"
   ]
  },
  {
   "cell_type": "markdown",
   "metadata": {},
   "source": [
    "Prepare features"
   ]
  },
  {
   "cell_type": "code",
   "execution_count": 18,
   "metadata": {},
   "outputs": [
    {
     "data": {
      "text/plain": [
       "Index(['dhsclst', 'd_cm', 'd_nutr', 'd_satt', 'd_educ', 'd_elct', 'd_wtr',\n",
       "       'd_sani', 'd_hsg', 'd_ckfl', 'd_asst', 'score', 'sexfeml', 'sexmale',\n",
       "       'agc70_4', 'a710_14', 'a715_17', 'a718_59', 'agc75_9', 'agc760_',\n",
       "       'arearrl', 'arearbn', 'reginAb', 'rgnAdmw', 'rgnAk_I', 'rgnAnmb',\n",
       "       'regnBch', 'rgnByls', 'reginBn', 'regnBrn', 'rgnCr_R', 'regnDlt',\n",
       "       'rgnEbny', 'reginEd', 'regnEkt', 'regnEng', 'regnFCT', 'regnGmb',\n",
       "       'reginIm', 'regnJgw', 'regnKdn', 'reginKn', 'rgnKtsn', 'regnKbb',\n",
       "       'reginKg', 'regnKwr', 'regnLgs', 'rgnNsrw', 'regnNgr', 'regnOgn',\n",
       "       'regnOnd', 'regnOsn', 'reginOy', 'regnPlt', 'rgnRvrs', 'regnSkt',\n",
       "       'regnTrb', 'reginYb', 'rgnZmfr', 'hdshpf_', 'hdshpm_', 'categry',\n",
       "       'geometry'],\n",
       "      dtype='object')"
      ]
     },
     "execution_count": 18,
     "metadata": {},
     "output_type": "execute_result"
    }
   ],
   "source": [
    "gdf.columns"
   ]
  },
  {
   "cell_type": "code",
   "execution_count": 19,
   "metadata": {},
   "outputs": [],
   "source": [
    "features = list(gdf.columns[list(range(1, gdf.shape[1]-4))])"
   ]
  },
  {
   "cell_type": "code",
   "execution_count": 20,
   "metadata": {},
   "outputs": [],
   "source": [
    "# Avoid multicollineality\n",
    "for i in ['sexmale','agc760_','arearrl','reginAb','score']:#,'hdshpm_']:#,\n",
    "         #'d_cm', 'd_nutr', 'd_satt', 'd_educ']:\n",
    "    features.remove(i)"
   ]
  },
  {
   "cell_type": "code",
   "execution_count": 50,
   "metadata": {},
   "outputs": [
    {
     "name": "stdout",
     "output_type": "stream",
     "text": [
      "['d_cm', 'd_nutr', 'd_satt', 'd_educ', 'd_elct', 'd_wtr', 'd_sani', 'd_hsg', 'd_ckfl', 'd_asst', 'sexfeml', 'agc70_4', 'a710_14', 'a715_17', 'a718_59', 'agc75_9', 'arearbn', 'rgnAdmw', 'rgnAk_I', 'rgnAnmb', 'regnBch', 'rgnByls', 'reginBn', 'regnBrn', 'rgnCr_R', 'regnDlt', 'rgnEbny', 'reginEd', 'regnEkt', 'regnEng', 'regnFCT', 'regnGmb', 'reginIm', 'regnJgw', 'regnKdn', 'reginKn', 'rgnKtsn', 'regnKbb', 'reginKg', 'regnKwr', 'regnLgs', 'rgnNsrw', 'regnNgr', 'regnOgn', 'regnOnd', 'regnOsn', 'reginOy', 'regnPlt', 'rgnRvrs', 'regnSkt', 'regnTrb', 'reginYb', 'rgnZmfr']\n"
     ]
    }
   ],
   "source": [
    "print(features)"
   ]
  },
  {
   "cell_type": "code",
   "execution_count": 21,
   "metadata": {
    "id": "wTOdbO8IQI4f"
   },
   "outputs": [],
   "source": [
    "x = torch.tensor(np.array(gdf[features]))"
   ]
  },
  {
   "cell_type": "markdown",
   "metadata": {},
   "source": [
    "Target variable"
   ]
  },
  {
   "cell_type": "code",
   "execution_count": 22,
   "metadata": {},
   "outputs": [],
   "source": [
    "task = \"reg\""
   ]
  },
  {
   "cell_type": "code",
   "execution_count": 23,
   "metadata": {},
   "outputs": [
    {
     "data": {
      "text/plain": [
       "tensor([0.0804, 0.0678, 0.0451,  ..., 0.1570, 0.5354, 0.1026])"
      ]
     },
     "execution_count": 23,
     "metadata": {},
     "output_type": "execute_result"
    }
   ],
   "source": [
    "if task == \"reg\":\n",
    "    target_tensor = torch.tensor(gdf['score'], dtype=torch.float)\n",
    "else: \n",
    "    target = pd.Categorical(gdf['categry'])\n",
    "    numerical_categories = target.codes\n",
    "    print(np.unique(numerical_categories))\n",
    "    target_tensor = torch.tensor(numerical_categories, dtype=torch.long) \n",
    "target_tensor"
   ]
  },
  {
   "cell_type": "code",
   "execution_count": 24,
   "metadata": {
    "colab": {
     "base_uri": "https://localhost:8080/"
    },
    "id": "QYrOagwsPxlj",
    "outputId": "703aa669-2e31-4795-c53f-fe6d45373a3c"
   },
   "outputs": [
    {
     "data": {
      "text/plain": [
       "Data(x=[1389, 53], edge_index=[2, 8914], edge_attr=[8914, 1], y=[1389])"
      ]
     },
     "execution_count": 24,
     "metadata": {},
     "output_type": "execute_result"
    }
   ],
   "source": [
    "graph = torch_geometric.data.Data(x=x, edge_index=edges, edge_attr = edge_attr,y=target_tensor)\n",
    "graph"
   ]
  },
  {
   "cell_type": "code",
   "execution_count": 25,
   "metadata": {
    "id": "c1BM5KgFQyxZ"
   },
   "outputs": [
    {
     "data": {
      "text/plain": [
       "<BarContainer object of 46 artists>"
      ]
     },
     "execution_count": 25,
     "metadata": {},
     "output_type": "execute_result"
    },
    {
     "data": {
      "image/png": "[encoded data removed]",
      "text/plain": [
       "<Figure size 1800x700 with 1 Axes>"
      ]
     },
     "metadata": {},
     "output_type": "display_data"
    }
   ],
   "source": [
    "import matplotlib.pyplot as plt\n",
    "from torch_geometric.utils import degree\n",
    "from collections import Counter\n",
    "\n",
    "# Get list of degrees for each node\n",
    "degrees = degree(graph.edge_index[0]).numpy()\n",
    "\n",
    "# Count the number of nodes for each degree\n",
    "numbers = Counter(degrees)\n",
    "\n",
    "# Bar plot\n",
    "fig, ax = plt.subplots(figsize=(18, 7))\n",
    "ax.set_xlabel('Node degree')\n",
    "ax.set_ylabel('Number of nodes')\n",
    "plt.bar(numbers.keys(),\n",
    "        numbers.values(),\n",
    "        color='#0A047A')"
   ]
  },
  {
   "cell_type": "code",
   "execution_count": 26,
   "metadata": {},
   "outputs": [],
   "source": [
    "from torch_geometric.loader import DataLoader"
   ]
  },
  {
   "cell_type": "code",
   "execution_count": 27,
   "metadata": {},
   "outputs": [
    {
     "data": {
      "text/plain": [
       "1389"
      ]
     },
     "execution_count": 27,
     "metadata": {},
     "output_type": "execute_result"
    }
   ],
   "source": [
    "# Determine the number of nodes\n",
    "num_nodes = graph.num_nodes\n",
    "num_nodes"
   ]
  },
  {
   "cell_type": "code",
   "execution_count": 28,
   "metadata": {},
   "outputs": [
    {
     "name": "stdout",
     "output_type": "stream",
     "text": [
      "1111 138 140\n"
     ]
    }
   ],
   "source": [
    "# Calculate the sizes of the train, validation, and test sets\n",
    "train_size = int(0.8 * num_nodes)\n",
    "val_size = int(0.1 * num_nodes)\n",
    "test_size = num_nodes - train_size - val_size\n",
    "print(train_size, val_size, test_size)"
   ]
  },
  {
   "cell_type": "code",
   "execution_count": 29,
   "metadata": {},
   "outputs": [
    {
     "name": "stdout",
     "output_type": "stream",
     "text": [
      "Data(x=[1389, 53], edge_index=[2, 8914], edge_attr=[8914, 1], y=[1389], train_mask=[1389], val_mask=[1389], test_mask=[1389])\n"
     ]
    }
   ],
   "source": [
    "# Create random permutations of node indices\n",
    "# Set the random seed\n",
    "seed = 91218\n",
    "torch.manual_seed(seed)\n",
    "perm = torch.randperm(num_nodes)\n",
    "\n",
    "# Create boolean masks\n",
    "train_mask = torch.zeros(num_nodes, dtype=torch.bool)\n",
    "val_mask = torch.zeros(num_nodes, dtype=torch.bool)\n",
    "test_mask = torch.zeros(num_nodes, dtype=torch.bool)\n",
    "\n",
    "train_mask[perm[:train_size]] = True\n",
    "val_mask[perm[train_size:train_size + val_size]] = True\n",
    "test_mask[perm[train_size + val_size:]] = True\n",
    "\n",
    "# Add the masks to the graph object\n",
    "graph.train_mask = train_mask\n",
    "graph.val_mask = val_mask\n",
    "graph.test_mask = test_mask\n",
    "\n",
    "print(graph) #now the graph contains the masks."
   ]
  },
  {
   "cell_type": "raw",
   "metadata": {},
   "source": [
    "from torch_geometric.loader import NeighborLoader\n",
    "\n",
    "train_loader = NeighborLoader(\n",
    "    graph,\n",
    "    input_nodes = graph.train_mask,\n",
    "    batch_size = int(train_size//8),\n",
    "    num_neighbors = [1,10],\n",
    "    shuffle = True\n",
    ")\n",
    "\n",
    "val_loader = NeighborLoader(\n",
    "    graph,\n",
    "    input_nodes = graph.val_mask,\n",
    "    batch_size = int(val_size//3),\n",
    "    num_neighbors = [1,10]\n",
    ")\n",
    "\n",
    "test_loader = NeighborLoader(\n",
    "    graph,\n",
    "    input_nodes = graph.test_mask,\n",
    "    batch_size = int(test_size//3),\n",
    "    num_neighbors = [1,10]\n",
    ")"
   ]
  },
  {
   "cell_type": "raw",
   "metadata": {},
   "source": [
    "device = torch.device('cuda' if torch.cuda.is_available() else 'cpu') #check if cuda is available\n",
    "graph = graph.to(device)"
   ]
  },
  {
   "cell_type": "code",
   "execution_count": 30,
   "metadata": {},
   "outputs": [],
   "source": [
    "from torch_geometric.utils import subgraph\n",
    "train_nodes = torch.where(train_mask)[0]\n",
    "sub_edge_index, _ = subgraph(train_mask, graph.edge_index, relabel_nodes=True)\n",
    "train_x = graph.x[train_nodes]\n",
    "train_y = graph.y[train_nodes]\n",
    "train_data = torch_geometric.data.Data(x=train_x, y=train_y, edge_index=sub_edge_index)\n",
    "train_loader = torch_geometric.loader.DataLoader([train_data], batch_size=int(train_size//20), shuffle=True)\n",
    "\n",
    "val_nodes = torch.where(val_mask)[0]\n",
    "sub_edge_index, _ = subgraph(val_mask, graph.edge_index, relabel_nodes=True)\n",
    "val_x = graph.x[val_nodes]\n",
    "val_y = graph.y[val_nodes]\n",
    "val_data = torch_geometric.data.Data(x=val_x, y=val_y, edge_index=sub_edge_index)\n",
    "val_loader = torch_geometric.loader.DataLoader([val_data], batch_size=val_size)\n",
    "\n",
    "test_nodes = torch.where(test_mask)[0]\n",
    "sub_edge_index, _ = subgraph(test_mask, graph.edge_index, relabel_nodes=True)\n",
    "test_x = graph.x[test_nodes]\n",
    "test_y = graph.y[test_nodes]\n",
    "test_data = torch_geometric.data.Data(x=test_x, y=test_y, edge_index=sub_edge_index)\n",
    "test_loader = torch_geometric.loader.DataLoader([test_data], batch_size=test_size)"
   ]
  },
  {
   "cell_type": "markdown",
   "metadata": {},
   "source": [
    "## 5. Prepare models"
   ]
  },
  {
   "cell_type": "code",
   "execution_count": 31,
   "metadata": {
    "id": "cWFE3gnUo7nA"
   },
   "outputs": [],
   "source": [
    "import torch.nn.functional as F\n",
    "from torch.nn import Linear, Dropout\n",
    "from torch_geometric.nn import GCNConv, GATv2Conv, GATConv"
   ]
  },
  {
   "cell_type": "code",
   "execution_count": 32,
   "metadata": {},
   "outputs": [],
   "source": [
    "class GAT(torch.nn.Module):\n",
    "    \"\"\"\n",
    "    Graph Attention network\n",
    "    \"\"\"\n",
    "    def __init__(self, dim_in, dim_h, dim_out, n_heads):\n",
    "        super(GAT, self).__init__()\n",
    "        self.gat1 = GATv2Conv(dim_in, dim_h, heads = n_heads)\n",
    "        self.norm1 = torch.nn.LayerNorm(dim_h * n_heads)\n",
    "        self.gat2 = GATv2Conv(dim_h*n_heads, dim_out, heads = 1)\n",
    "        self.norm2 = torch.nn.LayerNorm(16*n_heads)\n",
    "        self.gat3 = GATv2Conv(n_heads*n_heads, 16, heads = 1)\n",
    "\n",
    "    def forward(self, x, edge_index):\n",
    "        x1 = F.dropout(x, p = 0.7, training = self.training)\n",
    "        x = self.gat1(x1, edge_index)\n",
    "        x = self.norm1(x)\n",
    "        x = F.elu(x)\n",
    "        x = F.dropout(x, p=0.5, training=self.training)\n",
    "        x = self.gat2(x, edge_index)\n",
    "        return x, F.log_softmax(x, dim=1)"
   ]
  },
  {
   "cell_type": "code",
   "execution_count": 33,
   "metadata": {},
   "outputs": [],
   "source": [
    "dim_in = graph.x.size(1)  \n",
    "dim_h = 32\n",
    "if task == \"reg\":\n",
    "    dim_out = 1\n",
    "else:\n",
    "    dim_out = len(graph.y.unique()) # Number of classes \n",
    "n_heads = 16\n",
    "\n",
    "# Create an instance of your GAT model\n",
    "model = GAT(dim_in, dim_h, dim_out, n_heads)\n",
    "untrained = GAT(dim_in, dim_h, dim_out, n_heads)"
   ]
  },
  {
   "cell_type": "code",
   "execution_count": 34,
   "metadata": {},
   "outputs": [],
   "source": [
    "lr = 0.001\n",
    "optimizer = torch.optim.Adam(model.parameters(),weight_decay=5e-4)\n",
    "if task == \"reg\":\n",
    "    criterion = torch.nn.MSELoss()\n",
    "else:\n",
    "    criterion = torch.nn.CrossEntropyLoss()\n",
    "n_epochs = 500"
   ]
  },
  {
   "cell_type": "code",
   "execution_count": 35,
   "metadata": {},
   "outputs": [
    {
     "name": "stdout",
     "output_type": "stream",
     "text": [
      "GAT(\n",
      "  (gat1): GATv2Conv(53, 32, heads=16)\n",
      "  (norm1): LayerNorm((512,), eps=1e-05, elementwise_affine=True)\n",
      "  (gat2): GATv2Conv(512, 1, heads=1)\n",
      "  (norm2): LayerNorm((256,), eps=1e-05, elementwise_affine=True)\n",
      "  (gat3): GATv2Conv(256, 16, heads=1)\n",
      "  (norm3): LayerNorm((16,), eps=1e-05, elementwise_affine=True)\n",
      "  (linear1): Linear(in_features=16, out_features=25, bias=True)\n",
      "  (linear2): Linear(in_features=25, out_features=1, bias=True)\n",
      ")\n"
     ]
    }
   ],
   "source": [
    "print(model)"
   ]
  },
  {
   "cell_type": "code",
   "execution_count": 36,
   "metadata": {},
   "outputs": [
    {
     "name": "stdout",
     "output_type": "stream",
     "text": [
      "Epoch 1/500, Train Loss: 1.8337, Val Loss: 0.9438, Test Loss: 1.1203\n",
      "Epoch 2/500, Train Loss: 1.3458, Val Loss: 0.6637, Test Loss: 0.7999\n",
      "Epoch 3/500, Train Loss: 1.3302, Val Loss: 0.2949, Test Loss: 0.3338\n",
      "Epoch 4/500, Train Loss: 0.8121, Val Loss: 0.3862, Test Loss: 0.3620\n",
      "Epoch 5/500, Train Loss: 0.7629, Val Loss: 0.6040, Test Loss: 0.5705\n",
      "Epoch 6/500, Train Loss: 0.7982, Val Loss: 0.5152, Test Loss: 0.4919\n",
      "Epoch 7/500, Train Loss: 0.7179, Val Loss: 0.2531, Test Loss: 0.2348\n",
      "Epoch 8/500, Train Loss: 0.5702, Val Loss: 0.1175, Test Loss: 0.1005\n",
      "Epoch 9/500, Train Loss: 0.5091, Val Loss: 0.1347, Test Loss: 0.1190\n",
      "Epoch 10/500, Train Loss: 0.6930, Val Loss: 0.1717, Test Loss: 0.1561\n",
      "Epoch 11/500, Train Loss: 0.6000, Val Loss: 0.1607, Test Loss: 0.1460\n",
      "Epoch 12/500, Train Loss: 0.5651, Val Loss: 0.1302, Test Loss: 0.1179\n",
      "Epoch 13/500, Train Loss: 0.5601, Val Loss: 0.1216, Test Loss: 0.1124\n",
      "Epoch 14/500, Train Loss: 0.4967, Val Loss: 0.1341, Test Loss: 0.1280\n",
      "Epoch 15/500, Train Loss: 0.5518, Val Loss: 0.1418, Test Loss: 0.1370\n",
      "Epoch 16/500, Train Loss: 0.4477, Val Loss: 0.1334, Test Loss: 0.1298\n",
      "Epoch 17/500, Train Loss: 0.4653, Val Loss: 0.1045, Test Loss: 0.1014\n",
      "Epoch 18/500, Train Loss: 0.4871, Val Loss: 0.0667, Test Loss: 0.0661\n",
      "Epoch 19/500, Train Loss: 0.4129, Val Loss: 0.0445, Test Loss: 0.0486\n",
      "Epoch 20/500, Train Loss: 0.4292, Val Loss: 0.0493, Test Loss: 0.0585\n",
      "Epoch 21/500, Train Loss: 0.4587, Val Loss: 0.0581, Test Loss: 0.0712\n",
      "Epoch 22/500, Train Loss: 0.4903, Val Loss: 0.0540, Test Loss: 0.0670\n",
      "Epoch 23/500, Train Loss: 0.5048, Val Loss: 0.0443, Test Loss: 0.0529\n",
      "Epoch 24/500, Train Loss: 0.4181, Val Loss: 0.0567, Test Loss: 0.0607\n",
      "Epoch 25/500, Train Loss: 0.4735, Val Loss: 0.0856, Test Loss: 0.0868\n",
      "Epoch 26/500, Train Loss: 0.3930, Val Loss: 0.0939, Test Loss: 0.0947\n",
      "Epoch 27/500, Train Loss: 0.4125, Val Loss: 0.0746, Test Loss: 0.0768\n",
      "Epoch 28/500, Train Loss: 0.4158, Val Loss: 0.0389, Test Loss: 0.0437\n",
      "Epoch 29/500, Train Loss: 0.3584, Val Loss: 0.0194, Test Loss: 0.0263\n",
      "Epoch 30/500, Train Loss: 0.3717, Val Loss: 0.0140, Test Loss: 0.0215\n",
      "Epoch 31/500, Train Loss: 0.3779, Val Loss: 0.0132, Test Loss: 0.0205\n",
      "Epoch 32/500, Train Loss: 0.3686, Val Loss: 0.0138, Test Loss: 0.0202\n",
      "Epoch 33/500, Train Loss: 0.3916, Val Loss: 0.0187, Test Loss: 0.0241\n",
      "Epoch 34/500, Train Loss: 0.3689, Val Loss: 0.0287, Test Loss: 0.0332\n",
      "Epoch 35/500, Train Loss: 0.3699, Val Loss: 0.0456, Test Loss: 0.0498\n",
      "Epoch 36/500, Train Loss: 0.3918, Val Loss: 0.0547, Test Loss: 0.0587\n",
      "Epoch 37/500, Train Loss: 0.3388, Val Loss: 0.0512, Test Loss: 0.0544\n",
      "Epoch 38/500, Train Loss: 0.3472, Val Loss: 0.0378, Test Loss: 0.0401\n",
      "Epoch 39/500, Train Loss: 0.3490, Val Loss: 0.0223, Test Loss: 0.0243\n",
      "Epoch 40/500, Train Loss: 0.3270, Val Loss: 0.0145, Test Loss: 0.0170\n",
      "Epoch 41/500, Train Loss: 0.3490, Val Loss: 0.0136, Test Loss: 0.0165\n",
      "Epoch 42/500, Train Loss: 0.3474, Val Loss: 0.0141, Test Loss: 0.0172\n",
      "Epoch 43/500, Train Loss: 0.3519, Val Loss: 0.0136, Test Loss: 0.0165\n",
      "Epoch 44/500, Train Loss: 0.3371, Val Loss: 0.0217, Test Loss: 0.0250\n",
      "Epoch 45/500, Train Loss: 0.3209, Val Loss: 0.0374, Test Loss: 0.0416\n",
      "Epoch 46/500, Train Loss: 0.3299, Val Loss: 0.0408, Test Loss: 0.0457\n",
      "Epoch 47/500, Train Loss: 0.3426, Val Loss: 0.0332, Test Loss: 0.0380\n",
      "Epoch 48/500, Train Loss: 0.3185, Val Loss: 0.0191, Test Loss: 0.0233\n",
      "Epoch 49/500, Train Loss: 0.3081, Val Loss: 0.0156, Test Loss: 0.0193\n",
      "Epoch 50/500, Train Loss: 0.3206, Val Loss: 0.0148, Test Loss: 0.0180\n",
      "Epoch 51/500, Train Loss: 0.3078, Val Loss: 0.0142, Test Loss: 0.0172\n",
      "Epoch 52/500, Train Loss: 0.2958, Val Loss: 0.0137, Test Loss: 0.0168\n",
      "Epoch 53/500, Train Loss: 0.3396, Val Loss: 0.0139, Test Loss: 0.0170\n",
      "Epoch 54/500, Train Loss: 0.2591, Val Loss: 0.0147, Test Loss: 0.0179\n",
      "Epoch 55/500, Train Loss: 0.3015, Val Loss: 0.0164, Test Loss: 0.0197\n",
      "Epoch 56/500, Train Loss: 0.2966, Val Loss: 0.0198, Test Loss: 0.0233\n",
      "Epoch 57/500, Train Loss: 0.2477, Val Loss: 0.0189, Test Loss: 0.0222\n",
      "Epoch 58/500, Train Loss: 0.2798, Val Loss: 0.0161, Test Loss: 0.0188\n",
      "Epoch 59/500, Train Loss: 0.2577, Val Loss: 0.0124, Test Loss: 0.0146\n",
      "Epoch 60/500, Train Loss: 0.2701, Val Loss: 0.0119, Test Loss: 0.0138\n",
      "Epoch 61/500, Train Loss: 0.2810, Val Loss: 0.0128, Test Loss: 0.0148\n",
      "Epoch 62/500, Train Loss: 0.2370, Val Loss: 0.0145, Test Loss: 0.0166\n",
      "Epoch 63/500, Train Loss: 0.2808, Val Loss: 0.0180, Test Loss: 0.0201\n",
      "Epoch 64/500, Train Loss: 0.2637, Val Loss: 0.0181, Test Loss: 0.0204\n",
      "Epoch 65/500, Train Loss: 0.2593, Val Loss: 0.0167, Test Loss: 0.0189\n",
      "Epoch 66/500, Train Loss: 0.2593, Val Loss: 0.0150, Test Loss: 0.0170\n",
      "Epoch 67/500, Train Loss: 0.2386, Val Loss: 0.0138, Test Loss: 0.0159\n",
      "Epoch 68/500, Train Loss: 0.2568, Val Loss: 0.0119, Test Loss: 0.0142\n",
      "Epoch 69/500, Train Loss: 0.2472, Val Loss: 0.0111, Test Loss: 0.0135\n",
      "Epoch 70/500, Train Loss: 0.2681, Val Loss: 0.0109, Test Loss: 0.0135\n",
      "Epoch 71/500, Train Loss: 0.2473, Val Loss: 0.0116, Test Loss: 0.0142\n",
      "Epoch 72/500, Train Loss: 0.2472, Val Loss: 0.0134, Test Loss: 0.0158\n",
      "Epoch 73/500, Train Loss: 0.2401, Val Loss: 0.0161, Test Loss: 0.0185\n",
      "Epoch 74/500, Train Loss: 0.2651, Val Loss: 0.0140, Test Loss: 0.0166\n",
      "Epoch 75/500, Train Loss: 0.2242, Val Loss: 0.0127, Test Loss: 0.0155\n",
      "Epoch 76/500, Train Loss: 0.2368, Val Loss: 0.0123, Test Loss: 0.0150\n",
      "Epoch 77/500, Train Loss: 0.2015, Val Loss: 0.0130, Test Loss: 0.0155\n",
      "Epoch 78/500, Train Loss: 0.2171, Val Loss: 0.0130, Test Loss: 0.0153\n",
      "Epoch 79/500, Train Loss: 0.2331, Val Loss: 0.0123, Test Loss: 0.0145\n",
      "Epoch 80/500, Train Loss: 0.2327, Val Loss: 0.0122, Test Loss: 0.0143\n",
      "Epoch 81/500, Train Loss: 0.1985, Val Loss: 0.0118, Test Loss: 0.0137\n",
      "Epoch 82/500, Train Loss: 0.2011, Val Loss: 0.0132, Test Loss: 0.0150\n",
      "Epoch 83/500, Train Loss: 0.2410, Val Loss: 0.0119, Test Loss: 0.0135\n",
      "Epoch 84/500, Train Loss: 0.2049, Val Loss: 0.0113, Test Loss: 0.0128\n",
      "Epoch 85/500, Train Loss: 0.2028, Val Loss: 0.0107, Test Loss: 0.0123\n",
      "Epoch 86/500, Train Loss: 0.2132, Val Loss: 0.0103, Test Loss: 0.0119\n",
      "Epoch 87/500, Train Loss: 0.2000, Val Loss: 0.0101, Test Loss: 0.0116\n",
      "Epoch 88/500, Train Loss: 0.2081, Val Loss: 0.0105, Test Loss: 0.0121\n",
      "Epoch 89/500, Train Loss: 0.1879, Val Loss: 0.0129, Test Loss: 0.0145\n",
      "Epoch 90/500, Train Loss: 0.2017, Val Loss: 0.0158, Test Loss: 0.0175\n",
      "Epoch 91/500, Train Loss: 0.1826, Val Loss: 0.0187, Test Loss: 0.0205\n",
      "Epoch 92/500, Train Loss: 0.2015, Val Loss: 0.0177, Test Loss: 0.0195\n",
      "Epoch 93/500, Train Loss: 0.1903, Val Loss: 0.0138, Test Loss: 0.0159\n",
      "Epoch 94/500, Train Loss: 0.1818, Val Loss: 0.0096, Test Loss: 0.0123\n",
      "Epoch 95/500, Train Loss: 0.1816, Val Loss: 0.0089, Test Loss: 0.0122\n",
      "Epoch 96/500, Train Loss: 0.1927, Val Loss: 0.0095, Test Loss: 0.0132\n",
      "Epoch 97/500, Train Loss: 0.1810, Val Loss: 0.0089, Test Loss: 0.0127\n",
      "Epoch 98/500, Train Loss: 0.1868, Val Loss: 0.0084, Test Loss: 0.0121\n",
      "Epoch 99/500, Train Loss: 0.1882, Val Loss: 0.0091, Test Loss: 0.0126\n",
      "Epoch 100/500, Train Loss: 0.1490, Val Loss: 0.0127, Test Loss: 0.0158\n",
      "Epoch 101/500, Train Loss: 0.1796, Val Loss: 0.0185, Test Loss: 0.0211\n",
      "Epoch 102/500, Train Loss: 0.1669, Val Loss: 0.0199, Test Loss: 0.0223\n",
      "Epoch 103/500, Train Loss: 0.1756, Val Loss: 0.0192, Test Loss: 0.0213\n",
      "Epoch 104/500, Train Loss: 0.1561, Val Loss: 0.0159, Test Loss: 0.0181\n",
      "Epoch 105/500, Train Loss: 0.1756, Val Loss: 0.0115, Test Loss: 0.0140\n",
      "Epoch 106/500, Train Loss: 0.1757, Val Loss: 0.0087, Test Loss: 0.0115\n",
      "Epoch 107/500, Train Loss: 0.1747, Val Loss: 0.0076, Test Loss: 0.0108\n",
      "Epoch 108/500, Train Loss: 0.1557, Val Loss: 0.0081, Test Loss: 0.0117\n",
      "Epoch 109/500, Train Loss: 0.1605, Val Loss: 0.0076, Test Loss: 0.0109\n",
      "Epoch 110/500, Train Loss: 0.1570, Val Loss: 0.0076, Test Loss: 0.0104\n",
      "Epoch 111/500, Train Loss: 0.1935, Val Loss: 0.0105, Test Loss: 0.0128\n",
      "Epoch 112/500, Train Loss: 0.1811, Val Loss: 0.0159, Test Loss: 0.0178\n",
      "Epoch 113/500, Train Loss: 0.1533, Val Loss: 0.0191, Test Loss: 0.0209\n",
      "Epoch 114/500, Train Loss: 0.1630, Val Loss: 0.0163, Test Loss: 0.0182\n",
      "Epoch 115/500, Train Loss: 0.1480, Val Loss: 0.0097, Test Loss: 0.0120\n",
      "Epoch 116/500, Train Loss: 0.1638, Val Loss: 0.0078, Test Loss: 0.0106\n",
      "Epoch 117/500, Train Loss: 0.1507, Val Loss: 0.0093, Test Loss: 0.0125\n",
      "Epoch 118/500, Train Loss: 0.1581, Val Loss: 0.0093, Test Loss: 0.0125\n",
      "Epoch 119/500, Train Loss: 0.1582, Val Loss: 0.0087, Test Loss: 0.0118\n",
      "Epoch 120/500, Train Loss: 0.1482, Val Loss: 0.0085, Test Loss: 0.0111\n",
      "Epoch 121/500, Train Loss: 0.1369, Val Loss: 0.0107, Test Loss: 0.0129\n",
      "Epoch 122/500, Train Loss: 0.1345, Val Loss: 0.0137, Test Loss: 0.0156\n",
      "Epoch 123/500, Train Loss: 0.1607, Val Loss: 0.0134, Test Loss: 0.0152\n",
      "Epoch 124/500, Train Loss: 0.1379, Val Loss: 0.0114, Test Loss: 0.0134\n",
      "Epoch 125/500, Train Loss: 0.1584, Val Loss: 0.0096, Test Loss: 0.0116\n",
      "Epoch 126/500, Train Loss: 0.1555, Val Loss: 0.0094, Test Loss: 0.0113\n",
      "Epoch 127/500, Train Loss: 0.1292, Val Loss: 0.0089, Test Loss: 0.0107\n",
      "Epoch 128/500, Train Loss: 0.1289, Val Loss: 0.0088, Test Loss: 0.0105\n",
      "Epoch 129/500, Train Loss: 0.1469, Val Loss: 0.0089, Test Loss: 0.0104\n",
      "Epoch 130/500, Train Loss: 0.1396, Val Loss: 0.0091, Test Loss: 0.0105\n",
      "Epoch 131/500, Train Loss: 0.1433, Val Loss: 0.0093, Test Loss: 0.0105\n",
      "Epoch 132/500, Train Loss: 0.1216, Val Loss: 0.0087, Test Loss: 0.0101\n",
      "Epoch 133/500, Train Loss: 0.1345, Val Loss: 0.0083, Test Loss: 0.0100\n",
      "Epoch 134/500, Train Loss: 0.1290, Val Loss: 0.0081, Test Loss: 0.0100\n",
      "Epoch 135/500, Train Loss: 0.1324, Val Loss: 0.0086, Test Loss: 0.0102\n",
      "Epoch 136/500, Train Loss: 0.1266, Val Loss: 0.0091, Test Loss: 0.0107\n",
      "Epoch 137/500, Train Loss: 0.1399, Val Loss: 0.0110, Test Loss: 0.0123\n",
      "Epoch 138/500, Train Loss: 0.1423, Val Loss: 0.0134, Test Loss: 0.0145\n",
      "Epoch 139/500, Train Loss: 0.1298, Val Loss: 0.0148, Test Loss: 0.0158\n",
      "Epoch 140/500, Train Loss: 0.1230, Val Loss: 0.0130, Test Loss: 0.0143\n",
      "Epoch 141/500, Train Loss: 0.1215, Val Loss: 0.0090, Test Loss: 0.0108\n",
      "Epoch 142/500, Train Loss: 0.1220, Val Loss: 0.0075, Test Loss: 0.0098\n",
      "Epoch 143/500, Train Loss: 0.1188, Val Loss: 0.0075, Test Loss: 0.0101\n",
      "Epoch 144/500, Train Loss: 0.1281, Val Loss: 0.0078, Test Loss: 0.0104\n",
      "Epoch 145/500, Train Loss: 0.1132, Val Loss: 0.0075, Test Loss: 0.0100\n",
      "Epoch 146/500, Train Loss: 0.1103, Val Loss: 0.0075, Test Loss: 0.0096\n",
      "Epoch 147/500, Train Loss: 0.1274, Val Loss: 0.0090, Test Loss: 0.0107\n",
      "Epoch 148/500, Train Loss: 0.1098, Val Loss: 0.0119, Test Loss: 0.0134\n",
      "Epoch 149/500, Train Loss: 0.1229, Val Loss: 0.0134, Test Loss: 0.0148\n",
      "Epoch 150/500, Train Loss: 0.1149, Val Loss: 0.0119, Test Loss: 0.0136\n",
      "Epoch 151/500, Train Loss: 0.1235, Val Loss: 0.0099, Test Loss: 0.0118\n",
      "Epoch 152/500, Train Loss: 0.1084, Val Loss: 0.0081, Test Loss: 0.0103\n",
      "Epoch 153/500, Train Loss: 0.1132, Val Loss: 0.0071, Test Loss: 0.0097\n",
      "Epoch 154/500, Train Loss: 0.1266, Val Loss: 0.0073, Test Loss: 0.0102\n",
      "Epoch 155/500, Train Loss: 0.1198, Val Loss: 0.0075, Test Loss: 0.0105\n",
      "Epoch 156/500, Train Loss: 0.1256, Val Loss: 0.0073, Test Loss: 0.0102\n",
      "Epoch 157/500, Train Loss: 0.1204, Val Loss: 0.0075, Test Loss: 0.0102\n",
      "Epoch 158/500, Train Loss: 0.1065, Val Loss: 0.0082, Test Loss: 0.0107\n",
      "Epoch 159/500, Train Loss: 0.1145, Val Loss: 0.0089, Test Loss: 0.0112\n",
      "Epoch 160/500, Train Loss: 0.1070, Val Loss: 0.0089, Test Loss: 0.0113\n",
      "Epoch 161/500, Train Loss: 0.1226, Val Loss: 0.0091, Test Loss: 0.0115\n",
      "Epoch 162/500, Train Loss: 0.1094, Val Loss: 0.0089, Test Loss: 0.0113\n",
      "Epoch 163/500, Train Loss: 0.1017, Val Loss: 0.0087, Test Loss: 0.0112\n",
      "Epoch 164/500, Train Loss: 0.1085, Val Loss: 0.0083, Test Loss: 0.0109\n",
      "Epoch 165/500, Train Loss: 0.1025, Val Loss: 0.0083, Test Loss: 0.0107\n",
      "Epoch 166/500, Train Loss: 0.1097, Val Loss: 0.0081, Test Loss: 0.0105\n",
      "Epoch 167/500, Train Loss: 0.1137, Val Loss: 0.0079, Test Loss: 0.0102\n",
      "Epoch 168/500, Train Loss: 0.1061, Val Loss: 0.0078, Test Loss: 0.0100\n",
      "Epoch 169/500, Train Loss: 0.1066, Val Loss: 0.0079, Test Loss: 0.0099\n",
      "Epoch 170/500, Train Loss: 0.1017, Val Loss: 0.0081, Test Loss: 0.0099\n",
      "Epoch 171/500, Train Loss: 0.1004, Val Loss: 0.0092, Test Loss: 0.0106\n",
      "Epoch 172/500, Train Loss: 0.1076, Val Loss: 0.0091, Test Loss: 0.0106\n",
      "Epoch 173/500, Train Loss: 0.1008, Val Loss: 0.0082, Test Loss: 0.0099\n",
      "Epoch 174/500, Train Loss: 0.0933, Val Loss: 0.0077, Test Loss: 0.0097\n",
      "Epoch 175/500, Train Loss: 0.1082, Val Loss: 0.0073, Test Loss: 0.0095\n",
      "Epoch 176/500, Train Loss: 0.0971, Val Loss: 0.0071, Test Loss: 0.0094\n",
      "Epoch 177/500, Train Loss: 0.1059, Val Loss: 0.0069, Test Loss: 0.0094\n",
      "Epoch 178/500, Train Loss: 0.1029, Val Loss: 0.0068, Test Loss: 0.0093\n",
      "Epoch 179/500, Train Loss: 0.0958, Val Loss: 0.0068, Test Loss: 0.0092\n",
      "Epoch 180/500, Train Loss: 0.0954, Val Loss: 0.0075, Test Loss: 0.0095\n",
      "Epoch 181/500, Train Loss: 0.1036, Val Loss: 0.0087, Test Loss: 0.0104\n",
      "Epoch 182/500, Train Loss: 0.0975, Val Loss: 0.0090, Test Loss: 0.0107\n",
      "Epoch 183/500, Train Loss: 0.1025, Val Loss: 0.0080, Test Loss: 0.0098\n",
      "Epoch 184/500, Train Loss: 0.0996, Val Loss: 0.0073, Test Loss: 0.0093\n",
      "Epoch 185/500, Train Loss: 0.0883, Val Loss: 0.0069, Test Loss: 0.0089\n",
      "Epoch 186/500, Train Loss: 0.0944, Val Loss: 0.0068, Test Loss: 0.0089\n",
      "Epoch 187/500, Train Loss: 0.0909, Val Loss: 0.0068, Test Loss: 0.0090\n",
      "Epoch 188/500, Train Loss: 0.0880, Val Loss: 0.0069, Test Loss: 0.0088\n",
      "Epoch 189/500, Train Loss: 0.0970, Val Loss: 0.0075, Test Loss: 0.0091\n",
      "Epoch 190/500, Train Loss: 0.0907, Val Loss: 0.0082, Test Loss: 0.0097\n",
      "Epoch 191/500, Train Loss: 0.1030, Val Loss: 0.0082, Test Loss: 0.0097\n",
      "Epoch 192/500, Train Loss: 0.0925, Val Loss: 0.0076, Test Loss: 0.0092\n",
      "Epoch 193/500, Train Loss: 0.0845, Val Loss: 0.0069, Test Loss: 0.0088\n",
      "Epoch 194/500, Train Loss: 0.0969, Val Loss: 0.0068, Test Loss: 0.0087\n",
      "Epoch 195/500, Train Loss: 0.0894, Val Loss: 0.0072, Test Loss: 0.0090\n",
      "Epoch 196/500, Train Loss: 0.0921, Val Loss: 0.0076, Test Loss: 0.0094\n",
      "Epoch 197/500, Train Loss: 0.0945, Val Loss: 0.0083, Test Loss: 0.0101\n",
      "Epoch 198/500, Train Loss: 0.0930, Val Loss: 0.0087, Test Loss: 0.0106\n",
      "Epoch 199/500, Train Loss: 0.0894, Val Loss: 0.0077, Test Loss: 0.0097\n",
      "Epoch 200/500, Train Loss: 0.0881, Val Loss: 0.0071, Test Loss: 0.0093\n",
      "Epoch 201/500, Train Loss: 0.0873, Val Loss: 0.0069, Test Loss: 0.0092\n",
      "Epoch 202/500, Train Loss: 0.0844, Val Loss: 0.0068, Test Loss: 0.0091\n",
      "Epoch 203/500, Train Loss: 0.0937, Val Loss: 0.0069, Test Loss: 0.0092\n",
      "Epoch 204/500, Train Loss: 0.0884, Val Loss: 0.0072, Test Loss: 0.0095\n",
      "Epoch 205/500, Train Loss: 0.0744, Val Loss: 0.0074, Test Loss: 0.0097\n",
      "Epoch 206/500, Train Loss: 0.0786, Val Loss: 0.0074, Test Loss: 0.0097\n",
      "Epoch 207/500, Train Loss: 0.0923, Val Loss: 0.0075, Test Loss: 0.0098\n",
      "Epoch 208/500, Train Loss: 0.0795, Val Loss: 0.0084, Test Loss: 0.0107\n",
      "Epoch 209/500, Train Loss: 0.0862, Val Loss: 0.0082, Test Loss: 0.0106\n",
      "Epoch 210/500, Train Loss: 0.0925, Val Loss: 0.0076, Test Loss: 0.0100\n",
      "Epoch 211/500, Train Loss: 0.0727, Val Loss: 0.0070, Test Loss: 0.0097\n",
      "Epoch 212/500, Train Loss: 0.0859, Val Loss: 0.0072, Test Loss: 0.0102\n",
      "Epoch 213/500, Train Loss: 0.0864, Val Loss: 0.0074, Test Loss: 0.0105\n",
      "Epoch 214/500, Train Loss: 0.0826, Val Loss: 0.0072, Test Loss: 0.0102\n",
      "Epoch 215/500, Train Loss: 0.0828, Val Loss: 0.0074, Test Loss: 0.0101\n",
      "Epoch 216/500, Train Loss: 0.0760, Val Loss: 0.0082, Test Loss: 0.0106\n",
      "Epoch 217/500, Train Loss: 0.0791, Val Loss: 0.0099, Test Loss: 0.0119\n",
      "Epoch 218/500, Train Loss: 0.0821, Val Loss: 0.0095, Test Loss: 0.0115\n",
      "Epoch 219/500, Train Loss: 0.0844, Val Loss: 0.0081, Test Loss: 0.0104\n",
      "Epoch 220/500, Train Loss: 0.0744, Val Loss: 0.0072, Test Loss: 0.0098\n",
      "Epoch 221/500, Train Loss: 0.0797, Val Loss: 0.0071, Test Loss: 0.0100\n",
      "Epoch 222/500, Train Loss: 0.0857, Val Loss: 0.0074, Test Loss: 0.0105\n",
      "Epoch 223/500, Train Loss: 0.0650, Val Loss: 0.0075, Test Loss: 0.0106\n",
      "Epoch 224/500, Train Loss: 0.0831, Val Loss: 0.0071, Test Loss: 0.0099\n",
      "Epoch 225/500, Train Loss: 0.0858, Val Loss: 0.0075, Test Loss: 0.0098\n",
      "Epoch 226/500, Train Loss: 0.0744, Val Loss: 0.0094, Test Loss: 0.0112\n",
      "Epoch 227/500, Train Loss: 0.0783, Val Loss: 0.0107, Test Loss: 0.0123\n",
      "Epoch 228/500, Train Loss: 0.0808, Val Loss: 0.0099, Test Loss: 0.0115\n",
      "Epoch 229/500, Train Loss: 0.0697, Val Loss: 0.0081, Test Loss: 0.0099\n",
      "Epoch 230/500, Train Loss: 0.0738, Val Loss: 0.0068, Test Loss: 0.0090\n",
      "Epoch 231/500, Train Loss: 0.0818, Val Loss: 0.0071, Test Loss: 0.0097\n",
      "Epoch 232/500, Train Loss: 0.0802, Val Loss: 0.0077, Test Loss: 0.0106\n",
      "Epoch 233/500, Train Loss: 0.0758, Val Loss: 0.0073, Test Loss: 0.0100\n",
      "Epoch 234/500, Train Loss: 0.0665, Val Loss: 0.0066, Test Loss: 0.0090\n",
      "Epoch 235/500, Train Loss: 0.0745, Val Loss: 0.0074, Test Loss: 0.0094\n",
      "Epoch 236/500, Train Loss: 0.0696, Val Loss: 0.0099, Test Loss: 0.0116\n",
      "Epoch 237/500, Train Loss: 0.0725, Val Loss: 0.0109, Test Loss: 0.0126\n",
      "Epoch 238/500, Train Loss: 0.0709, Val Loss: 0.0099, Test Loss: 0.0117\n",
      "Epoch 239/500, Train Loss: 0.0696, Val Loss: 0.0081, Test Loss: 0.0102\n",
      "Epoch 240/500, Train Loss: 0.0642, Val Loss: 0.0073, Test Loss: 0.0097\n",
      "Epoch 241/500, Train Loss: 0.0693, Val Loss: 0.0072, Test Loss: 0.0099\n",
      "Epoch 242/500, Train Loss: 0.0686, Val Loss: 0.0074, Test Loss: 0.0102\n",
      "Epoch 243/500, Train Loss: 0.0626, Val Loss: 0.0074, Test Loss: 0.0104\n",
      "Epoch 244/500, Train Loss: 0.0738, Val Loss: 0.0073, Test Loss: 0.0102\n",
      "Epoch 245/500, Train Loss: 0.0679, Val Loss: 0.0072, Test Loss: 0.0101\n",
      "Epoch 246/500, Train Loss: 0.0712, Val Loss: 0.0076, Test Loss: 0.0102\n",
      "Epoch 247/500, Train Loss: 0.0693, Val Loss: 0.0086, Test Loss: 0.0109\n",
      "Epoch 248/500, Train Loss: 0.0665, Val Loss: 0.0092, Test Loss: 0.0113\n",
      "Epoch 249/500, Train Loss: 0.0691, Val Loss: 0.0085, Test Loss: 0.0107\n",
      "Epoch 250/500, Train Loss: 0.0713, Val Loss: 0.0078, Test Loss: 0.0101\n",
      "Epoch 251/500, Train Loss: 0.0706, Val Loss: 0.0071, Test Loss: 0.0095\n",
      "Epoch 252/500, Train Loss: 0.0669, Val Loss: 0.0068, Test Loss: 0.0093\n",
      "Epoch 253/500, Train Loss: 0.0726, Val Loss: 0.0067, Test Loss: 0.0094\n",
      "Epoch 254/500, Train Loss: 0.0649, Val Loss: 0.0067, Test Loss: 0.0094\n",
      "Epoch 255/500, Train Loss: 0.0663, Val Loss: 0.0066, Test Loss: 0.0092\n",
      "Epoch 256/500, Train Loss: 0.0661, Val Loss: 0.0071, Test Loss: 0.0093\n",
      "Epoch 257/500, Train Loss: 0.0645, Val Loss: 0.0084, Test Loss: 0.0102\n",
      "Epoch 258/500, Train Loss: 0.0618, Val Loss: 0.0089, Test Loss: 0.0106\n",
      "Epoch 259/500, Train Loss: 0.0668, Val Loss: 0.0086, Test Loss: 0.0104\n",
      "Epoch 260/500, Train Loss: 0.0741, Val Loss: 0.0078, Test Loss: 0.0098\n",
      "Epoch 261/500, Train Loss: 0.0613, Val Loss: 0.0072, Test Loss: 0.0097\n",
      "Epoch 262/500, Train Loss: 0.0628, Val Loss: 0.0074, Test Loss: 0.0103\n",
      "Epoch 263/500, Train Loss: 0.0626, Val Loss: 0.0074, Test Loss: 0.0103\n",
      "Epoch 264/500, Train Loss: 0.0685, Val Loss: 0.0074, Test Loss: 0.0102\n",
      "Epoch 265/500, Train Loss: 0.0575, Val Loss: 0.0072, Test Loss: 0.0098\n",
      "Epoch 266/500, Train Loss: 0.0619, Val Loss: 0.0076, Test Loss: 0.0098\n",
      "Epoch 267/500, Train Loss: 0.0592, Val Loss: 0.0090, Test Loss: 0.0106\n",
      "Epoch 268/500, Train Loss: 0.0676, Val Loss: 0.0097, Test Loss: 0.0112\n",
      "Epoch 269/500, Train Loss: 0.0636, Val Loss: 0.0098, Test Loss: 0.0112\n",
      "Epoch 270/500, Train Loss: 0.0657, Val Loss: 0.0083, Test Loss: 0.0100\n",
      "Epoch 271/500, Train Loss: 0.0575, Val Loss: 0.0072, Test Loss: 0.0093\n",
      "Epoch 272/500, Train Loss: 0.0606, Val Loss: 0.0069, Test Loss: 0.0095\n",
      "Epoch 273/500, Train Loss: 0.0580, Val Loss: 0.0070, Test Loss: 0.0098\n",
      "Epoch 274/500, Train Loss: 0.0625, Val Loss: 0.0067, Test Loss: 0.0094\n",
      "Epoch 275/500, Train Loss: 0.0563, Val Loss: 0.0065, Test Loss: 0.0088\n",
      "Epoch 276/500, Train Loss: 0.0597, Val Loss: 0.0069, Test Loss: 0.0089\n",
      "Epoch 277/500, Train Loss: 0.0596, Val Loss: 0.0081, Test Loss: 0.0098\n",
      "Epoch 278/500, Train Loss: 0.0578, Val Loss: 0.0080, Test Loss: 0.0097\n",
      "Epoch 279/500, Train Loss: 0.0614, Val Loss: 0.0074, Test Loss: 0.0093\n",
      "Epoch 280/500, Train Loss: 0.0594, Val Loss: 0.0065, Test Loss: 0.0087\n",
      "Epoch 281/500, Train Loss: 0.0625, Val Loss: 0.0062, Test Loss: 0.0086\n",
      "Epoch 282/500, Train Loss: 0.0578, Val Loss: 0.0062, Test Loss: 0.0087\n",
      "Epoch 283/500, Train Loss: 0.0593, Val Loss: 0.0062, Test Loss: 0.0089\n",
      "Epoch 284/500, Train Loss: 0.0557, Val Loss: 0.0061, Test Loss: 0.0087\n",
      "Epoch 285/500, Train Loss: 0.0524, Val Loss: 0.0062, Test Loss: 0.0087\n",
      "Epoch 286/500, Train Loss: 0.0602, Val Loss: 0.0062, Test Loss: 0.0087\n",
      "Epoch 287/500, Train Loss: 0.0544, Val Loss: 0.0064, Test Loss: 0.0088\n",
      "Epoch 288/500, Train Loss: 0.0637, Val Loss: 0.0064, Test Loss: 0.0088\n",
      "Epoch 289/500, Train Loss: 0.0627, Val Loss: 0.0063, Test Loss: 0.0088\n",
      "Epoch 290/500, Train Loss: 0.0543, Val Loss: 0.0063, Test Loss: 0.0088\n",
      "Epoch 291/500, Train Loss: 0.0499, Val Loss: 0.0062, Test Loss: 0.0088\n",
      "Epoch 292/500, Train Loss: 0.0558, Val Loss: 0.0062, Test Loss: 0.0087\n",
      "Epoch 293/500, Train Loss: 0.0582, Val Loss: 0.0063, Test Loss: 0.0087\n",
      "Epoch 294/500, Train Loss: 0.0519, Val Loss: 0.0063, Test Loss: 0.0086\n",
      "Epoch 295/500, Train Loss: 0.0495, Val Loss: 0.0062, Test Loss: 0.0086\n",
      "Epoch 296/500, Train Loss: 0.0594, Val Loss: 0.0062, Test Loss: 0.0085\n",
      "Epoch 297/500, Train Loss: 0.0493, Val Loss: 0.0062, Test Loss: 0.0085\n",
      "Epoch 298/500, Train Loss: 0.0550, Val Loss: 0.0061, Test Loss: 0.0085\n",
      "Epoch 299/500, Train Loss: 0.0578, Val Loss: 0.0060, Test Loss: 0.0084\n",
      "Epoch 300/500, Train Loss: 0.0540, Val Loss: 0.0061, Test Loss: 0.0085\n",
      "Epoch 301/500, Train Loss: 0.0576, Val Loss: 0.0061, Test Loss: 0.0085\n",
      "Epoch 302/500, Train Loss: 0.0546, Val Loss: 0.0061, Test Loss: 0.0085\n",
      "Epoch 303/500, Train Loss: 0.0544, Val Loss: 0.0062, Test Loss: 0.0085\n",
      "Epoch 304/500, Train Loss: 0.0554, Val Loss: 0.0064, Test Loss: 0.0086\n",
      "Epoch 305/500, Train Loss: 0.0533, Val Loss: 0.0067, Test Loss: 0.0089\n",
      "Epoch 306/500, Train Loss: 0.0523, Val Loss: 0.0067, Test Loss: 0.0089\n",
      "Epoch 307/500, Train Loss: 0.0530, Val Loss: 0.0066, Test Loss: 0.0089\n",
      "Epoch 308/500, Train Loss: 0.0477, Val Loss: 0.0066, Test Loss: 0.0089\n",
      "Epoch 309/500, Train Loss: 0.0500, Val Loss: 0.0066, Test Loss: 0.0090\n",
      "Epoch 310/500, Train Loss: 0.0572, Val Loss: 0.0067, Test Loss: 0.0090\n",
      "Epoch 311/500, Train Loss: 0.0582, Val Loss: 0.0068, Test Loss: 0.0091\n",
      "Epoch 312/500, Train Loss: 0.0558, Val Loss: 0.0070, Test Loss: 0.0092\n",
      "Epoch 313/500, Train Loss: 0.0519, Val Loss: 0.0071, Test Loss: 0.0092\n",
      "Epoch 314/500, Train Loss: 0.0504, Val Loss: 0.0070, Test Loss: 0.0092\n",
      "Epoch 315/500, Train Loss: 0.0571, Val Loss: 0.0068, Test Loss: 0.0092\n",
      "Epoch 316/500, Train Loss: 0.0561, Val Loss: 0.0068, Test Loss: 0.0093\n",
      "Epoch 317/500, Train Loss: 0.0522, Val Loss: 0.0068, Test Loss: 0.0093\n",
      "Epoch 318/500, Train Loss: 0.0501, Val Loss: 0.0068, Test Loss: 0.0092\n",
      "Epoch 319/500, Train Loss: 0.0543, Val Loss: 0.0071, Test Loss: 0.0092\n",
      "Epoch 320/500, Train Loss: 0.0474, Val Loss: 0.0075, Test Loss: 0.0094\n",
      "Epoch 321/500, Train Loss: 0.0514, Val Loss: 0.0074, Test Loss: 0.0092\n",
      "Epoch 322/500, Train Loss: 0.0500, Val Loss: 0.0068, Test Loss: 0.0087\n",
      "Epoch 323/500, Train Loss: 0.0445, Val Loss: 0.0064, Test Loss: 0.0086\n",
      "Epoch 324/500, Train Loss: 0.0493, Val Loss: 0.0064, Test Loss: 0.0087\n",
      "Epoch 325/500, Train Loss: 0.0531, Val Loss: 0.0064, Test Loss: 0.0088\n",
      "Epoch 326/500, Train Loss: 0.0503, Val Loss: 0.0063, Test Loss: 0.0085\n",
      "Epoch 327/500, Train Loss: 0.0493, Val Loss: 0.0061, Test Loss: 0.0082\n",
      "Epoch 328/500, Train Loss: 0.0483, Val Loss: 0.0068, Test Loss: 0.0085\n",
      "Epoch 329/500, Train Loss: 0.0490, Val Loss: 0.0080, Test Loss: 0.0094\n",
      "Epoch 330/500, Train Loss: 0.0522, Val Loss: 0.0081, Test Loss: 0.0096\n",
      "Epoch 331/500, Train Loss: 0.0524, Val Loss: 0.0071, Test Loss: 0.0087\n",
      "Epoch 332/500, Train Loss: 0.0511, Val Loss: 0.0062, Test Loss: 0.0082\n",
      "Epoch 333/500, Train Loss: 0.0551, Val Loss: 0.0061, Test Loss: 0.0084\n",
      "Epoch 334/500, Train Loss: 0.0479, Val Loss: 0.0063, Test Loss: 0.0088\n",
      "Epoch 335/500, Train Loss: 0.0478, Val Loss: 0.0062, Test Loss: 0.0086\n",
      "Epoch 336/500, Train Loss: 0.0487, Val Loss: 0.0066, Test Loss: 0.0087\n",
      "Epoch 337/500, Train Loss: 0.0459, Val Loss: 0.0074, Test Loss: 0.0094\n",
      "Epoch 338/500, Train Loss: 0.0470, Val Loss: 0.0076, Test Loss: 0.0096\n",
      "Epoch 339/500, Train Loss: 0.0467, Val Loss: 0.0070, Test Loss: 0.0092\n",
      "Epoch 340/500, Train Loss: 0.0465, Val Loss: 0.0066, Test Loss: 0.0089\n",
      "Epoch 341/500, Train Loss: 0.0459, Val Loss: 0.0064, Test Loss: 0.0090\n",
      "Epoch 342/500, Train Loss: 0.0506, Val Loss: 0.0065, Test Loss: 0.0091\n",
      "Epoch 343/500, Train Loss: 0.0487, Val Loss: 0.0065, Test Loss: 0.0091\n",
      "Epoch 344/500, Train Loss: 0.0467, Val Loss: 0.0065, Test Loss: 0.0091\n",
      "Epoch 345/500, Train Loss: 0.0443, Val Loss: 0.0066, Test Loss: 0.0091\n",
      "Epoch 346/500, Train Loss: 0.0475, Val Loss: 0.0069, Test Loss: 0.0093\n",
      "Epoch 347/500, Train Loss: 0.0433, Val Loss: 0.0069, Test Loss: 0.0093\n",
      "Epoch 348/500, Train Loss: 0.0462, Val Loss: 0.0068, Test Loss: 0.0092\n",
      "Epoch 349/500, Train Loss: 0.0448, Val Loss: 0.0066, Test Loss: 0.0091\n",
      "Epoch 350/500, Train Loss: 0.0485, Val Loss: 0.0066, Test Loss: 0.0091\n",
      "Epoch 351/500, Train Loss: 0.0433, Val Loss: 0.0065, Test Loss: 0.0090\n",
      "Epoch 352/500, Train Loss: 0.0447, Val Loss: 0.0065, Test Loss: 0.0090\n",
      "Epoch 353/500, Train Loss: 0.0451, Val Loss: 0.0064, Test Loss: 0.0088\n",
      "Epoch 354/500, Train Loss: 0.0458, Val Loss: 0.0065, Test Loss: 0.0088\n",
      "Epoch 355/500, Train Loss: 0.0461, Val Loss: 0.0065, Test Loss: 0.0087\n",
      "Epoch 356/500, Train Loss: 0.0452, Val Loss: 0.0065, Test Loss: 0.0087\n",
      "Epoch 357/500, Train Loss: 0.0447, Val Loss: 0.0065, Test Loss: 0.0087\n",
      "Epoch 358/500, Train Loss: 0.0480, Val Loss: 0.0064, Test Loss: 0.0086\n",
      "Epoch 359/500, Train Loss: 0.0440, Val Loss: 0.0064, Test Loss: 0.0086\n",
      "Epoch 360/500, Train Loss: 0.0466, Val Loss: 0.0064, Test Loss: 0.0085\n",
      "Epoch 361/500, Train Loss: 0.0441, Val Loss: 0.0063, Test Loss: 0.0085\n",
      "Epoch 362/500, Train Loss: 0.0458, Val Loss: 0.0063, Test Loss: 0.0084\n",
      "Epoch 363/500, Train Loss: 0.0432, Val Loss: 0.0065, Test Loss: 0.0084\n",
      "Epoch 364/500, Train Loss: 0.0427, Val Loss: 0.0066, Test Loss: 0.0085\n",
      "Epoch 365/500, Train Loss: 0.0439, Val Loss: 0.0066, Test Loss: 0.0085\n",
      "Epoch 366/500, Train Loss: 0.0458, Val Loss: 0.0065, Test Loss: 0.0084\n",
      "Epoch 367/500, Train Loss: 0.0441, Val Loss: 0.0063, Test Loss: 0.0084\n",
      "Epoch 368/500, Train Loss: 0.0437, Val Loss: 0.0064, Test Loss: 0.0086\n",
      "Epoch 369/500, Train Loss: 0.0453, Val Loss: 0.0064, Test Loss: 0.0087\n",
      "Epoch 370/500, Train Loss: 0.0373, Val Loss: 0.0064, Test Loss: 0.0087\n",
      "Epoch 371/500, Train Loss: 0.0436, Val Loss: 0.0065, Test Loss: 0.0088\n",
      "Epoch 372/500, Train Loss: 0.0438, Val Loss: 0.0066, Test Loss: 0.0088\n",
      "Epoch 373/500, Train Loss: 0.0457, Val Loss: 0.0068, Test Loss: 0.0090\n",
      "Epoch 374/500, Train Loss: 0.0403, Val Loss: 0.0068, Test Loss: 0.0091\n",
      "Epoch 375/500, Train Loss: 0.0411, Val Loss: 0.0068, Test Loss: 0.0091\n",
      "Epoch 376/500, Train Loss: 0.0417, Val Loss: 0.0068, Test Loss: 0.0091\n",
      "Epoch 377/500, Train Loss: 0.0435, Val Loss: 0.0068, Test Loss: 0.0091\n",
      "Epoch 378/500, Train Loss: 0.0429, Val Loss: 0.0067, Test Loss: 0.0091\n",
      "Epoch 379/500, Train Loss: 0.0374, Val Loss: 0.0067, Test Loss: 0.0091\n",
      "Epoch 380/500, Train Loss: 0.0436, Val Loss: 0.0068, Test Loss: 0.0091\n",
      "Epoch 381/500, Train Loss: 0.0394, Val Loss: 0.0068, Test Loss: 0.0091\n",
      "Epoch 382/500, Train Loss: 0.0400, Val Loss: 0.0069, Test Loss: 0.0091\n",
      "Epoch 383/500, Train Loss: 0.0438, Val Loss: 0.0067, Test Loss: 0.0090\n",
      "Epoch 384/500, Train Loss: 0.0420, Val Loss: 0.0066, Test Loss: 0.0089\n",
      "Epoch 385/500, Train Loss: 0.0441, Val Loss: 0.0065, Test Loss: 0.0088\n",
      "Epoch 386/500, Train Loss: 0.0448, Val Loss: 0.0064, Test Loss: 0.0088\n",
      "Epoch 387/500, Train Loss: 0.0392, Val Loss: 0.0063, Test Loss: 0.0087\n",
      "Epoch 388/500, Train Loss: 0.0431, Val Loss: 0.0063, Test Loss: 0.0086\n",
      "Epoch 389/500, Train Loss: 0.0396, Val Loss: 0.0063, Test Loss: 0.0085\n",
      "Epoch 390/500, Train Loss: 0.0420, Val Loss: 0.0062, Test Loss: 0.0084\n",
      "Epoch 391/500, Train Loss: 0.0410, Val Loss: 0.0063, Test Loss: 0.0084\n",
      "Epoch 392/500, Train Loss: 0.0399, Val Loss: 0.0064, Test Loss: 0.0083\n",
      "Epoch 393/500, Train Loss: 0.0379, Val Loss: 0.0063, Test Loss: 0.0083\n",
      "Epoch 394/500, Train Loss: 0.0403, Val Loss: 0.0062, Test Loss: 0.0082\n",
      "Epoch 395/500, Train Loss: 0.0389, Val Loss: 0.0062, Test Loss: 0.0082\n",
      "Epoch 396/500, Train Loss: 0.0428, Val Loss: 0.0061, Test Loss: 0.0082\n",
      "Epoch 397/500, Train Loss: 0.0360, Val Loss: 0.0061, Test Loss: 0.0084\n",
      "Epoch 398/500, Train Loss: 0.0349, Val Loss: 0.0061, Test Loss: 0.0085\n",
      "Epoch 399/500, Train Loss: 0.0392, Val Loss: 0.0061, Test Loss: 0.0083\n",
      "Epoch 400/500, Train Loss: 0.0392, Val Loss: 0.0062, Test Loss: 0.0082\n",
      "Epoch 401/500, Train Loss: 0.0387, Val Loss: 0.0066, Test Loss: 0.0084\n",
      "Epoch 402/500, Train Loss: 0.0363, Val Loss: 0.0067, Test Loss: 0.0085\n",
      "Epoch 403/500, Train Loss: 0.0415, Val Loss: 0.0066, Test Loss: 0.0084\n",
      "Epoch 404/500, Train Loss: 0.0407, Val Loss: 0.0064, Test Loss: 0.0083\n",
      "Epoch 405/500, Train Loss: 0.0431, Val Loss: 0.0063, Test Loss: 0.0082\n",
      "Epoch 406/500, Train Loss: 0.0357, Val Loss: 0.0061, Test Loss: 0.0082\n",
      "Epoch 407/500, Train Loss: 0.0400, Val Loss: 0.0061, Test Loss: 0.0082\n",
      "Epoch 408/500, Train Loss: 0.0410, Val Loss: 0.0061, Test Loss: 0.0082\n",
      "Epoch 409/500, Train Loss: 0.0354, Val Loss: 0.0062, Test Loss: 0.0082\n",
      "Epoch 410/500, Train Loss: 0.0386, Val Loss: 0.0062, Test Loss: 0.0082\n",
      "Epoch 411/500, Train Loss: 0.0360, Val Loss: 0.0061, Test Loss: 0.0081\n",
      "Epoch 412/500, Train Loss: 0.0451, Val Loss: 0.0060, Test Loss: 0.0082\n",
      "Epoch 413/500, Train Loss: 0.0413, Val Loss: 0.0060, Test Loss: 0.0082\n",
      "Epoch 414/500, Train Loss: 0.0375, Val Loss: 0.0061, Test Loss: 0.0082\n",
      "Epoch 415/500, Train Loss: 0.0376, Val Loss: 0.0062, Test Loss: 0.0083\n",
      "Epoch 416/500, Train Loss: 0.0401, Val Loss: 0.0063, Test Loss: 0.0083\n",
      "Epoch 417/500, Train Loss: 0.0365, Val Loss: 0.0064, Test Loss: 0.0084\n",
      "Epoch 418/500, Train Loss: 0.0355, Val Loss: 0.0065, Test Loss: 0.0085\n",
      "Epoch 419/500, Train Loss: 0.0379, Val Loss: 0.0065, Test Loss: 0.0086\n",
      "Epoch 420/500, Train Loss: 0.0390, Val Loss: 0.0065, Test Loss: 0.0087\n",
      "Epoch 421/500, Train Loss: 0.0396, Val Loss: 0.0066, Test Loss: 0.0090\n",
      "Epoch 422/500, Train Loss: 0.0352, Val Loss: 0.0068, Test Loss: 0.0093\n",
      "Epoch 423/500, Train Loss: 0.0339, Val Loss: 0.0068, Test Loss: 0.0093\n",
      "Epoch 424/500, Train Loss: 0.0370, Val Loss: 0.0067, Test Loss: 0.0091\n",
      "Epoch 425/500, Train Loss: 0.0373, Val Loss: 0.0069, Test Loss: 0.0091\n",
      "Epoch 426/500, Train Loss: 0.0403, Val Loss: 0.0072, Test Loss: 0.0092\n",
      "Epoch 427/500, Train Loss: 0.0378, Val Loss: 0.0076, Test Loss: 0.0095\n",
      "Epoch 428/500, Train Loss: 0.0372, Val Loss: 0.0078, Test Loss: 0.0096\n",
      "Epoch 429/500, Train Loss: 0.0365, Val Loss: 0.0072, Test Loss: 0.0092\n",
      "Epoch 430/500, Train Loss: 0.0365, Val Loss: 0.0069, Test Loss: 0.0090\n",
      "Epoch 431/500, Train Loss: 0.0338, Val Loss: 0.0068, Test Loss: 0.0089\n",
      "Epoch 432/500, Train Loss: 0.0327, Val Loss: 0.0067, Test Loss: 0.0089\n",
      "Epoch 433/500, Train Loss: 0.0380, Val Loss: 0.0066, Test Loss: 0.0089\n",
      "Epoch 434/500, Train Loss: 0.0360, Val Loss: 0.0066, Test Loss: 0.0088\n",
      "Epoch 435/500, Train Loss: 0.0352, Val Loss: 0.0065, Test Loss: 0.0087\n",
      "Epoch 436/500, Train Loss: 0.0334, Val Loss: 0.0065, Test Loss: 0.0087\n",
      "Epoch 437/500, Train Loss: 0.0329, Val Loss: 0.0064, Test Loss: 0.0086\n",
      "Epoch 438/500, Train Loss: 0.0320, Val Loss: 0.0063, Test Loss: 0.0086\n",
      "Epoch 439/500, Train Loss: 0.0370, Val Loss: 0.0063, Test Loss: 0.0086\n",
      "Epoch 440/500, Train Loss: 0.0367, Val Loss: 0.0063, Test Loss: 0.0084\n",
      "Epoch 441/500, Train Loss: 0.0342, Val Loss: 0.0064, Test Loss: 0.0083\n",
      "Epoch 442/500, Train Loss: 0.0336, Val Loss: 0.0066, Test Loss: 0.0084\n",
      "Epoch 443/500, Train Loss: 0.0369, Val Loss: 0.0064, Test Loss: 0.0084\n",
      "Epoch 444/500, Train Loss: 0.0338, Val Loss: 0.0062, Test Loss: 0.0083\n",
      "Epoch 445/500, Train Loss: 0.0336, Val Loss: 0.0061, Test Loss: 0.0084\n",
      "Epoch 446/500, Train Loss: 0.0342, Val Loss: 0.0061, Test Loss: 0.0084\n",
      "Epoch 447/500, Train Loss: 0.0356, Val Loss: 0.0062, Test Loss: 0.0084\n",
      "Epoch 448/500, Train Loss: 0.0329, Val Loss: 0.0064, Test Loss: 0.0084\n",
      "Epoch 449/500, Train Loss: 0.0355, Val Loss: 0.0066, Test Loss: 0.0085\n",
      "Epoch 450/500, Train Loss: 0.0347, Val Loss: 0.0066, Test Loss: 0.0086\n",
      "Epoch 451/500, Train Loss: 0.0358, Val Loss: 0.0067, Test Loss: 0.0087\n",
      "Epoch 452/500, Train Loss: 0.0323, Val Loss: 0.0066, Test Loss: 0.0087\n",
      "Epoch 453/500, Train Loss: 0.0341, Val Loss: 0.0065, Test Loss: 0.0087\n",
      "Epoch 454/500, Train Loss: 0.0329, Val Loss: 0.0064, Test Loss: 0.0087\n",
      "Epoch 455/500, Train Loss: 0.0340, Val Loss: 0.0064, Test Loss: 0.0088\n",
      "Epoch 456/500, Train Loss: 0.0355, Val Loss: 0.0064, Test Loss: 0.0088\n",
      "Epoch 457/500, Train Loss: 0.0357, Val Loss: 0.0064, Test Loss: 0.0089\n",
      "Epoch 458/500, Train Loss: 0.0344, Val Loss: 0.0065, Test Loss: 0.0089\n",
      "Epoch 459/500, Train Loss: 0.0344, Val Loss: 0.0066, Test Loss: 0.0090\n",
      "Epoch 460/500, Train Loss: 0.0368, Val Loss: 0.0066, Test Loss: 0.0091\n",
      "Epoch 461/500, Train Loss: 0.0339, Val Loss: 0.0066, Test Loss: 0.0091\n",
      "Epoch 462/500, Train Loss: 0.0341, Val Loss: 0.0066, Test Loss: 0.0092\n",
      "Epoch 463/500, Train Loss: 0.0320, Val Loss: 0.0067, Test Loss: 0.0094\n",
      "Epoch 464/500, Train Loss: 0.0366, Val Loss: 0.0067, Test Loss: 0.0093\n",
      "Epoch 465/500, Train Loss: 0.0341, Val Loss: 0.0068, Test Loss: 0.0093\n",
      "Epoch 466/500, Train Loss: 0.0341, Val Loss: 0.0069, Test Loss: 0.0093\n",
      "Epoch 467/500, Train Loss: 0.0357, Val Loss: 0.0070, Test Loss: 0.0093\n",
      "Epoch 468/500, Train Loss: 0.0331, Val Loss: 0.0072, Test Loss: 0.0094\n",
      "Epoch 469/500, Train Loss: 0.0312, Val Loss: 0.0071, Test Loss: 0.0093\n",
      "Epoch 470/500, Train Loss: 0.0351, Val Loss: 0.0068, Test Loss: 0.0091\n",
      "Epoch 471/500, Train Loss: 0.0350, Val Loss: 0.0066, Test Loss: 0.0091\n",
      "Epoch 472/500, Train Loss: 0.0325, Val Loss: 0.0066, Test Loss: 0.0091\n",
      "Epoch 473/500, Train Loss: 0.0325, Val Loss: 0.0065, Test Loss: 0.0090\n",
      "Epoch 474/500, Train Loss: 0.0342, Val Loss: 0.0065, Test Loss: 0.0089\n",
      "Epoch 475/500, Train Loss: 0.0325, Val Loss: 0.0065, Test Loss: 0.0088\n",
      "Epoch 476/500, Train Loss: 0.0335, Val Loss: 0.0064, Test Loss: 0.0088\n",
      "Epoch 477/500, Train Loss: 0.0338, Val Loss: 0.0064, Test Loss: 0.0087\n",
      "Epoch 478/500, Train Loss: 0.0306, Val Loss: 0.0064, Test Loss: 0.0087\n",
      "Epoch 479/500, Train Loss: 0.0288, Val Loss: 0.0064, Test Loss: 0.0086\n",
      "Epoch 480/500, Train Loss: 0.0335, Val Loss: 0.0065, Test Loss: 0.0086\n",
      "Epoch 481/500, Train Loss: 0.0314, Val Loss: 0.0065, Test Loss: 0.0086\n",
      "Epoch 482/500, Train Loss: 0.0333, Val Loss: 0.0064, Test Loss: 0.0086\n",
      "Epoch 483/500, Train Loss: 0.0311, Val Loss: 0.0064, Test Loss: 0.0086\n",
      "Epoch 484/500, Train Loss: 0.0324, Val Loss: 0.0063, Test Loss: 0.0086\n",
      "Epoch 485/500, Train Loss: 0.0323, Val Loss: 0.0063, Test Loss: 0.0086\n",
      "Epoch 486/500, Train Loss: 0.0337, Val Loss: 0.0062, Test Loss: 0.0086\n",
      "Epoch 487/500, Train Loss: 0.0307, Val Loss: 0.0062, Test Loss: 0.0086\n",
      "Epoch 488/500, Train Loss: 0.0319, Val Loss: 0.0062, Test Loss: 0.0086\n",
      "Epoch 489/500, Train Loss: 0.0329, Val Loss: 0.0062, Test Loss: 0.0084\n",
      "Epoch 490/500, Train Loss: 0.0321, Val Loss: 0.0063, Test Loss: 0.0084\n",
      "Epoch 491/500, Train Loss: 0.0286, Val Loss: 0.0064, Test Loss: 0.0084\n",
      "Epoch 492/500, Train Loss: 0.0308, Val Loss: 0.0063, Test Loss: 0.0084\n",
      "Epoch 493/500, Train Loss: 0.0318, Val Loss: 0.0063, Test Loss: 0.0084\n",
      "Epoch 494/500, Train Loss: 0.0326, Val Loss: 0.0063, Test Loss: 0.0084\n",
      "Epoch 495/500, Train Loss: 0.0309, Val Loss: 0.0063, Test Loss: 0.0083\n",
      "Epoch 496/500, Train Loss: 0.0312, Val Loss: 0.0063, Test Loss: 0.0084\n",
      "Epoch 497/500, Train Loss: 0.0316, Val Loss: 0.0063, Test Loss: 0.0084\n",
      "Epoch 498/500, Train Loss: 0.0295, Val Loss: 0.0063, Test Loss: 0.0084\n",
      "Epoch 499/500, Train Loss: 0.0303, Val Loss: 0.0062, Test Loss: 0.0084\n",
      "Epoch 500/500, Train Loss: 0.0293, Val Loss: 0.0062, Test Loss: 0.0084\n"
     ]
    }
   ],
   "source": [
    "def train(model, graph, optimizer, criterion):\n",
    "    model.train()\n",
    "    total_loss = 0\n",
    "    num_batches = 0\n",
    "    for batch in train_loader:\n",
    "        optimizer.zero_grad()\n",
    "        out, log_probs = model(batch.x.float(), batch.edge_index)\n",
    "        if task == \"reg\":\n",
    "            y_pred = out\n",
    "        else: \n",
    "            y_pred = log_probs\n",
    "        y_true = batch.y.view(-1, 1)\n",
    "        loss = criterion(y_pred, y_true) #only compute the loss on the train nodes.\n",
    "        loss.backward()\n",
    "        optimizer.step()\n",
    "        total_loss += loss.item()\n",
    "        num_batches += 1\n",
    "    return total_loss / num_batches\n",
    "\n",
    "def test(model, graph, criterion, loader): #mask parameter added.\n",
    "    model.eval()\n",
    "    total_loss = 0\n",
    "    num_batches = 0\n",
    "    with torch.no_grad():\n",
    "        for batch in loader:\n",
    "            out, log_probs = model(batch.x.float(), batch.edge_index)\n",
    "            if task == \"reg\":\n",
    "                y_pred = out\n",
    "            else: \n",
    "                y_pred = log_probs\n",
    "            y_true = batch.y.view(-1, 1)\n",
    "            loss = criterion(y_pred, y_true) \n",
    "            total_loss += loss.item()\n",
    "            num_batches += 1\n",
    "    return total_loss / num_batches\n",
    "\n",
    "# Training loop\n",
    "train_losses = []  # List to store losses\n",
    "val_losses = []\n",
    "test_losses = []\n",
    "epochs_list = [] # List to store epoch numbers.\n",
    "for epoch in range(n_epochs):\n",
    "    train_loss = train(model, graph, optimizer, criterion)\n",
    "    val_loss = test(model, graph, criterion, val_loader) #pass the validation mask\n",
    "    test_loss = test(model, graph, criterion, test_loader) #pass the test mask\n",
    "    train_losses.append(train_loss)\n",
    "    val_losses.append(val_loss)\n",
    "    test_losses.append(test_loss)\n",
    "    epochs_list.append(epoch + 1)\n",
    "    print(f\"Epoch {epoch + 1}/{n_epochs}, Train Loss: {train_loss:.4f}, Val Loss: {val_loss:.4f}, Test Loss: {test_loss:.4f}\")\n"
   ]
  },
  {
   "cell_type": "code",
   "execution_count": 44,
   "metadata": {},
   "outputs": [
    {
     "data": {
      "image/png": "[encoded data removed]",
      "text/plain": [
       "<Figure size 640x480 with 1 Axes>"
      ]
     },
     "metadata": {},
     "output_type": "display_data"
    }
   ],
   "source": [
    "# Plotting the loss\n",
    "plt.plot(epochs_list, train_losses, label = \"Train Loss\")\n",
    "plt.plot(epochs_list, val_losses, label = \"Validation Loss\")\n",
    "plt.plot(epochs_list, test_losses, label = \"Test Loss\")\n",
    "plt.xlabel('Epochs')\n",
    "plt.ylabel('Loss')\n",
    "plt.legend()\n",
    "plt.title('Loss curves')\n",
    "plt.show()"
   ]
  },
  {
   "cell_type": "code",
   "execution_count": 45,
   "metadata": {},
   "outputs": [
    {
     "name": "stdout",
     "output_type": "stream",
     "text": [
      "0.008391563 0.763477451733516\n"
     ]
    }
   ],
   "source": [
    "from sklearn.metrics import mean_squared_error, r2_score\n",
    "model.eval()\n",
    "with torch.no_grad():\n",
    "    for batch in test_loader:\n",
    "        out, log_probs = model(batch.x.float(), batch.edge_index)\n",
    "        ypred_gnn = out\n",
    "        y_true = batch.y.view(-1, 1)\n",
    "        val_mse = mean_squared_error(y_true, ypred_gnn)\n",
    "        val_r2 = r2_score(y_true, ypred_gnn)\n",
    "print(val_mse, val_r2)"
   ]
  },
  {
   "cell_type": "code",
   "execution_count": 48,
   "metadata": {},
   "outputs": [
    {
     "data": {
      "text/plain": [
       "tensor([0])"
      ]
     },
     "execution_count": 48,
     "metadata": {},
     "output_type": "execute_result"
    }
   ],
   "source": [
    "sum(ypred_gnn < 0)"
   ]
  },
  {
   "cell_type": "code",
   "execution_count": 49,
   "metadata": {},
   "outputs": [
    {
     "name": "stdout",
     "output_type": "stream",
     "text": [
      "Random Forest Validation MSE: 0.0005\n",
      "Random Forest Validation R2: 0.9828\n",
      "Random Forest Test MSE: 0.0005\n",
      "Random Forest Test R2: 0.9855\n"
     ]
    }
   ],
   "source": [
    "from sklearn.ensemble import RandomForestRegressor\n",
    "\n",
    "def extract_node_features_and_targets(loader):\n",
    "    \"\"\"\n",
    "    Extracts node features and regression targets from a PyTorch Geometric DataLoader.\n",
    "\n",
    "    Args:\n",
    "        loader: PyTorch Geometric DataLoader.\n",
    "\n",
    "    Returns:\n",
    "        features (numpy.ndarray): Node features.\n",
    "        targets (numpy.ndarray): Regression targets.\n",
    "    \"\"\"\n",
    "    all_features = []\n",
    "    all_targets = []\n",
    "    for batch in loader:\n",
    "        all_features.append(batch.x.numpy())\n",
    "        all_targets.append(batch.y.numpy())\n",
    "    features = np.concatenate(all_features, axis=0)\n",
    "    targets = np.concatenate(all_targets, axis=0)\n",
    "    return features, targets.reshape(-1) #Reshape to 1D array\n",
    "\n",
    "def train_and_evaluate_random_forest(train_loader, val_loader, test_loader):\n",
    "    \"\"\"\n",
    "    Trains and evaluates a Random Forest Regressor using extracted node features.\n",
    "\n",
    "    Args:\n",
    "        train_loader: PyTorch Geometric DataLoader for training.\n",
    "        val_loader: PyTorch Geometric DataLoader for validation.\n",
    "        test_loader: PyTorch Geometric DataLoader for testing.\n",
    "    \"\"\"\n",
    "    # Extract features and targets\n",
    "    train_features, train_targets = extract_node_features_and_targets(train_loader)\n",
    "    val_features, val_targets = extract_node_features_and_targets(val_loader)\n",
    "    test_features, test_targets = extract_node_features_and_targets(test_loader)\n",
    "\n",
    "    # Initialize and train the Random Forest Regressor\n",
    "    rf = RandomForestRegressor(n_estimators=100, random_state=91218)  # Adjust parameters as needed\n",
    "    rf.fit(train_features, train_targets)\n",
    "\n",
    "    # Evaluate on validation set (for hyperparameter tuning if needed)\n",
    "    val_predictions = rf.predict(val_features)\n",
    "    val_mse = mean_squared_error(val_targets, val_predictions)\n",
    "    val_r2 = r2_score(val_targets, val_predictions)\n",
    "    print(f\"Random Forest Validation MSE: {val_mse:.4f}\")\n",
    "    print(f\"Random Forest Validation R2: {val_r2:.4f}\")\n",
    "\n",
    "    # Evaluate on test set\n",
    "    test_predictions = rf.predict(test_features)\n",
    "    test_mse = mean_squared_error(test_targets, test_predictions)\n",
    "    test_r2 = r2_score(test_targets, test_predictions)\n",
    "    print(f\"Random Forest Test MSE: {test_mse:.4f}\")\n",
    "    print(f\"Random Forest Test R2: {test_r2:.4f}\")\n",
    "\n",
    "    return test_mse, test_r2, test_predictions\n",
    "\n",
    "# Example Usage (assuming you have train_loader, val_loader, test_loader)\n",
    "# train_loader, val_loader, test_loader are pytorch geometric dataloaders\n",
    "# Example:\n",
    "train_mse, train_r2, ypred = train_and_evaluate_random_forest(train_loader, val_loader, test_loader)"
   ]
  },
  {
   "cell_type": "code",
   "execution_count": 41,
   "metadata": {},
   "outputs": [
    {
     "data": {
      "text/plain": [
       "False"
      ]
     },
     "execution_count": 41,
     "metadata": {},
     "output_type": "execute_result"
    }
   ],
   "source": [
    "np.any(ypred < 0)"
   ]
  },
  {
   "cell_type": "code",
   "execution_count": null,
   "metadata": {},
   "outputs": [],
   "source": [
    "if task == \"reg\":\n",
    "    break"
   ]
  },
  {
   "cell_type": "code",
   "execution_count": 42,
   "metadata": {},
   "outputs": [],
   "source": [
    "from sklearn.manifold import TSNE"
   ]
  },
  {
   "cell_type": "code",
   "execution_count": 43,
   "metadata": {
    "id": "psAwbtMpPgqP"
   },
   "outputs": [
    {
     "ename": "ValueError",
     "evalue": "n_components=2 must be between 1 and min(n_samples, n_features)=1 with svd_solver='randomized'",
     "output_type": "error",
     "traceback": [
      "\u001b[1;31m---------------------------------------------------------------------------\u001b[0m",
      "\u001b[1;31mValueError\u001b[0m                                Traceback (most recent call last)",
      "Cell \u001b[1;32mIn[43], line 6\u001b[0m\n\u001b[0;32m      2\u001b[0m h, _ \u001b[38;5;241m=\u001b[39m untrained(graph\u001b[38;5;241m.\u001b[39mx\u001b[38;5;241m.\u001b[39mfloat(), graph\u001b[38;5;241m.\u001b[39medge_index)\n\u001b[0;32m      4\u001b[0m \u001b[38;5;66;03m# Train TSNE\u001b[39;00m\n\u001b[0;32m      5\u001b[0m tsne \u001b[38;5;241m=\u001b[39m \u001b[43mTSNE\u001b[49m\u001b[43m(\u001b[49m\u001b[43mn_components\u001b[49m\u001b[38;5;241;43m=\u001b[39;49m\u001b[38;5;241;43m2\u001b[39;49m\u001b[43m,\u001b[49m\u001b[43m \u001b[49m\u001b[43mlearning_rate\u001b[49m\u001b[38;5;241;43m=\u001b[39;49m\u001b[38;5;124;43m'\u001b[39;49m\u001b[38;5;124;43mauto\u001b[39;49m\u001b[38;5;124;43m'\u001b[39;49m\u001b[43m,\u001b[49m\n\u001b[1;32m----> 6\u001b[0m \u001b[43m         \u001b[49m\u001b[43minit\u001b[49m\u001b[38;5;241;43m=\u001b[39;49m\u001b[38;5;124;43m'\u001b[39;49m\u001b[38;5;124;43mpca\u001b[39;49m\u001b[38;5;124;43m'\u001b[39;49m\u001b[43m)\u001b[49m\u001b[38;5;241;43m.\u001b[39;49m\u001b[43mfit_transform\u001b[49m\u001b[43m(\u001b[49m\u001b[43mh\u001b[49m\u001b[38;5;241;43m.\u001b[39;49m\u001b[43mdetach\u001b[49m\u001b[43m(\u001b[49m\u001b[43m)\u001b[49m\u001b[43m)\u001b[49m\n\u001b[0;32m      8\u001b[0m unique_labels \u001b[38;5;241m=\u001b[39m np\u001b[38;5;241m.\u001b[39munique(graph\u001b[38;5;241m.\u001b[39my)\n\u001b[0;32m      9\u001b[0m labels \u001b[38;5;241m=\u001b[39m [\u001b[38;5;124m'\u001b[39m\u001b[38;5;124mModerate Poor\u001b[39m\u001b[38;5;124m'\u001b[39m, \u001b[38;5;124m'\u001b[39m\u001b[38;5;124mNon-vulnerable\u001b[39m\u001b[38;5;124m'\u001b[39m, \u001b[38;5;124m'\u001b[39m\u001b[38;5;124mSevere Poor\u001b[39m\u001b[38;5;124m'\u001b[39m, \u001b[38;5;124m'\u001b[39m\u001b[38;5;124mVulnerable\u001b[39m\u001b[38;5;124m'\u001b[39m]\n",
      "File \u001b[1;32m~\\AppData\\Local\\Programs\\Python\\Python311\\Lib\\site-packages\\sklearn\\utils\\_set_output.py:157\u001b[0m, in \u001b[0;36m_wrap_method_output.<locals>.wrapped\u001b[1;34m(self, X, *args, **kwargs)\u001b[0m\n\u001b[0;32m    155\u001b[0m \u001b[38;5;129m@wraps\u001b[39m(f)\n\u001b[0;32m    156\u001b[0m \u001b[38;5;28;01mdef\u001b[39;00m \u001b[38;5;21mwrapped\u001b[39m(\u001b[38;5;28mself\u001b[39m, X, \u001b[38;5;241m*\u001b[39margs, \u001b[38;5;241m*\u001b[39m\u001b[38;5;241m*\u001b[39mkwargs):\n\u001b[1;32m--> 157\u001b[0m     data_to_wrap \u001b[38;5;241m=\u001b[39m \u001b[43mf\u001b[49m\u001b[43m(\u001b[49m\u001b[38;5;28;43mself\u001b[39;49m\u001b[43m,\u001b[49m\u001b[43m \u001b[49m\u001b[43mX\u001b[49m\u001b[43m,\u001b[49m\u001b[43m \u001b[49m\u001b[38;5;241;43m*\u001b[39;49m\u001b[43margs\u001b[49m\u001b[43m,\u001b[49m\u001b[43m \u001b[49m\u001b[38;5;241;43m*\u001b[39;49m\u001b[38;5;241;43m*\u001b[39;49m\u001b[43mkwargs\u001b[49m\u001b[43m)\u001b[49m\n\u001b[0;32m    158\u001b[0m     \u001b[38;5;28;01mif\u001b[39;00m \u001b[38;5;28misinstance\u001b[39m(data_to_wrap, \u001b[38;5;28mtuple\u001b[39m):\n\u001b[0;32m    159\u001b[0m         \u001b[38;5;66;03m# only wrap the first output for cross decomposition\u001b[39;00m\n\u001b[0;32m    160\u001b[0m         return_tuple \u001b[38;5;241m=\u001b[39m (\n\u001b[0;32m    161\u001b[0m             _wrap_data_with_container(method, data_to_wrap[\u001b[38;5;241m0\u001b[39m], X, \u001b[38;5;28mself\u001b[39m),\n\u001b[0;32m    162\u001b[0m             \u001b[38;5;241m*\u001b[39mdata_to_wrap[\u001b[38;5;241m1\u001b[39m:],\n\u001b[0;32m    163\u001b[0m         )\n",
      "File \u001b[1;32m~\\AppData\\Local\\Programs\\Python\\Python311\\Lib\\site-packages\\sklearn\\base.py:1152\u001b[0m, in \u001b[0;36m_fit_context.<locals>.decorator.<locals>.wrapper\u001b[1;34m(estimator, *args, **kwargs)\u001b[0m\n\u001b[0;32m   1145\u001b[0m     estimator\u001b[38;5;241m.\u001b[39m_validate_params()\n\u001b[0;32m   1147\u001b[0m \u001b[38;5;28;01mwith\u001b[39;00m config_context(\n\u001b[0;32m   1148\u001b[0m     skip_parameter_validation\u001b[38;5;241m=\u001b[39m(\n\u001b[0;32m   1149\u001b[0m         prefer_skip_nested_validation \u001b[38;5;129;01mor\u001b[39;00m global_skip_validation\n\u001b[0;32m   1150\u001b[0m     )\n\u001b[0;32m   1151\u001b[0m ):\n\u001b[1;32m-> 1152\u001b[0m     \u001b[38;5;28;01mreturn\u001b[39;00m \u001b[43mfit_method\u001b[49m\u001b[43m(\u001b[49m\u001b[43mestimator\u001b[49m\u001b[43m,\u001b[49m\u001b[43m \u001b[49m\u001b[38;5;241;43m*\u001b[39;49m\u001b[43margs\u001b[49m\u001b[43m,\u001b[49m\u001b[43m \u001b[49m\u001b[38;5;241;43m*\u001b[39;49m\u001b[38;5;241;43m*\u001b[39;49m\u001b[43mkwargs\u001b[49m\u001b[43m)\u001b[49m\n",
      "File \u001b[1;32m~\\AppData\\Local\\Programs\\Python\\Python311\\Lib\\site-packages\\sklearn\\manifold\\_t_sne.py:1111\u001b[0m, in \u001b[0;36mTSNE.fit_transform\u001b[1;34m(self, X, y)\u001b[0m\n\u001b[0;32m   1090\u001b[0m \u001b[38;5;250m\u001b[39m\u001b[38;5;124;03m\"\"\"Fit X into an embedded space and return that transformed output.\u001b[39;00m\n\u001b[0;32m   1091\u001b[0m \n\u001b[0;32m   1092\u001b[0m \u001b[38;5;124;03mParameters\u001b[39;00m\n\u001b[1;32m   (...)\u001b[0m\n\u001b[0;32m   1108\u001b[0m \u001b[38;5;124;03m    Embedding of the training data in low-dimensional space.\u001b[39;00m\n\u001b[0;32m   1109\u001b[0m \u001b[38;5;124;03m\"\"\"\u001b[39;00m\n\u001b[0;32m   1110\u001b[0m \u001b[38;5;28mself\u001b[39m\u001b[38;5;241m.\u001b[39m_check_params_vs_input(X)\n\u001b[1;32m-> 1111\u001b[0m embedding \u001b[38;5;241m=\u001b[39m \u001b[38;5;28;43mself\u001b[39;49m\u001b[38;5;241;43m.\u001b[39;49m\u001b[43m_fit\u001b[49m\u001b[43m(\u001b[49m\u001b[43mX\u001b[49m\u001b[43m)\u001b[49m\n\u001b[0;32m   1112\u001b[0m \u001b[38;5;28mself\u001b[39m\u001b[38;5;241m.\u001b[39membedding_ \u001b[38;5;241m=\u001b[39m embedding\n\u001b[0;32m   1113\u001b[0m \u001b[38;5;28;01mreturn\u001b[39;00m \u001b[38;5;28mself\u001b[39m\u001b[38;5;241m.\u001b[39membedding_\n",
      "File \u001b[1;32m~\\AppData\\Local\\Programs\\Python\\Python311\\Lib\\site-packages\\sklearn\\manifold\\_t_sne.py:984\u001b[0m, in \u001b[0;36mTSNE._fit\u001b[1;34m(self, X, skip_num_points)\u001b[0m\n\u001b[0;32m    982\u001b[0m \u001b[38;5;66;03m# Always output a numpy array, no matter what is configured globally\u001b[39;00m\n\u001b[0;32m    983\u001b[0m pca\u001b[38;5;241m.\u001b[39mset_output(transform\u001b[38;5;241m=\u001b[39m\u001b[38;5;124m\"\u001b[39m\u001b[38;5;124mdefault\u001b[39m\u001b[38;5;124m\"\u001b[39m)\n\u001b[1;32m--> 984\u001b[0m X_embedded \u001b[38;5;241m=\u001b[39m \u001b[43mpca\u001b[49m\u001b[38;5;241;43m.\u001b[39;49m\u001b[43mfit_transform\u001b[49m\u001b[43m(\u001b[49m\u001b[43mX\u001b[49m\u001b[43m)\u001b[49m\u001b[38;5;241m.\u001b[39mastype(np\u001b[38;5;241m.\u001b[39mfloat32, copy\u001b[38;5;241m=\u001b[39m\u001b[38;5;28;01mFalse\u001b[39;00m)\n\u001b[0;32m    985\u001b[0m \u001b[38;5;66;03m# PCA is rescaled so that PC1 has standard deviation 1e-4 which is\u001b[39;00m\n\u001b[0;32m    986\u001b[0m \u001b[38;5;66;03m# the default value for random initialization. See issue #18018.\u001b[39;00m\n\u001b[0;32m    987\u001b[0m X_embedded \u001b[38;5;241m=\u001b[39m X_embedded \u001b[38;5;241m/\u001b[39m np\u001b[38;5;241m.\u001b[39mstd(X_embedded[:, \u001b[38;5;241m0\u001b[39m]) \u001b[38;5;241m*\u001b[39m \u001b[38;5;241m1e-4\u001b[39m\n",
      "File \u001b[1;32m~\\AppData\\Local\\Programs\\Python\\Python311\\Lib\\site-packages\\sklearn\\utils\\_set_output.py:157\u001b[0m, in \u001b[0;36m_wrap_method_output.<locals>.wrapped\u001b[1;34m(self, X, *args, **kwargs)\u001b[0m\n\u001b[0;32m    155\u001b[0m \u001b[38;5;129m@wraps\u001b[39m(f)\n\u001b[0;32m    156\u001b[0m \u001b[38;5;28;01mdef\u001b[39;00m \u001b[38;5;21mwrapped\u001b[39m(\u001b[38;5;28mself\u001b[39m, X, \u001b[38;5;241m*\u001b[39margs, \u001b[38;5;241m*\u001b[39m\u001b[38;5;241m*\u001b[39mkwargs):\n\u001b[1;32m--> 157\u001b[0m     data_to_wrap \u001b[38;5;241m=\u001b[39m \u001b[43mf\u001b[49m\u001b[43m(\u001b[49m\u001b[38;5;28;43mself\u001b[39;49m\u001b[43m,\u001b[49m\u001b[43m \u001b[49m\u001b[43mX\u001b[49m\u001b[43m,\u001b[49m\u001b[43m \u001b[49m\u001b[38;5;241;43m*\u001b[39;49m\u001b[43margs\u001b[49m\u001b[43m,\u001b[49m\u001b[43m \u001b[49m\u001b[38;5;241;43m*\u001b[39;49m\u001b[38;5;241;43m*\u001b[39;49m\u001b[43mkwargs\u001b[49m\u001b[43m)\u001b[49m\n\u001b[0;32m    158\u001b[0m     \u001b[38;5;28;01mif\u001b[39;00m \u001b[38;5;28misinstance\u001b[39m(data_to_wrap, \u001b[38;5;28mtuple\u001b[39m):\n\u001b[0;32m    159\u001b[0m         \u001b[38;5;66;03m# only wrap the first output for cross decomposition\u001b[39;00m\n\u001b[0;32m    160\u001b[0m         return_tuple \u001b[38;5;241m=\u001b[39m (\n\u001b[0;32m    161\u001b[0m             _wrap_data_with_container(method, data_to_wrap[\u001b[38;5;241m0\u001b[39m], X, \u001b[38;5;28mself\u001b[39m),\n\u001b[0;32m    162\u001b[0m             \u001b[38;5;241m*\u001b[39mdata_to_wrap[\u001b[38;5;241m1\u001b[39m:],\n\u001b[0;32m    163\u001b[0m         )\n",
      "File \u001b[1;32m~\\AppData\\Local\\Programs\\Python\\Python311\\Lib\\site-packages\\sklearn\\base.py:1152\u001b[0m, in \u001b[0;36m_fit_context.<locals>.decorator.<locals>.wrapper\u001b[1;34m(estimator, *args, **kwargs)\u001b[0m\n\u001b[0;32m   1145\u001b[0m     estimator\u001b[38;5;241m.\u001b[39m_validate_params()\n\u001b[0;32m   1147\u001b[0m \u001b[38;5;28;01mwith\u001b[39;00m config_context(\n\u001b[0;32m   1148\u001b[0m     skip_parameter_validation\u001b[38;5;241m=\u001b[39m(\n\u001b[0;32m   1149\u001b[0m         prefer_skip_nested_validation \u001b[38;5;129;01mor\u001b[39;00m global_skip_validation\n\u001b[0;32m   1150\u001b[0m     )\n\u001b[0;32m   1151\u001b[0m ):\n\u001b[1;32m-> 1152\u001b[0m     \u001b[38;5;28;01mreturn\u001b[39;00m \u001b[43mfit_method\u001b[49m\u001b[43m(\u001b[49m\u001b[43mestimator\u001b[49m\u001b[43m,\u001b[49m\u001b[43m \u001b[49m\u001b[38;5;241;43m*\u001b[39;49m\u001b[43margs\u001b[49m\u001b[43m,\u001b[49m\u001b[43m \u001b[49m\u001b[38;5;241;43m*\u001b[39;49m\u001b[38;5;241;43m*\u001b[39;49m\u001b[43mkwargs\u001b[49m\u001b[43m)\u001b[49m\n",
      "File \u001b[1;32m~\\AppData\\Local\\Programs\\Python\\Python311\\Lib\\site-packages\\sklearn\\decomposition\\_pca.py:460\u001b[0m, in \u001b[0;36mPCA.fit_transform\u001b[1;34m(self, X, y)\u001b[0m\n\u001b[0;32m    437\u001b[0m \u001b[38;5;129m@_fit_context\u001b[39m(prefer_skip_nested_validation\u001b[38;5;241m=\u001b[39m\u001b[38;5;28;01mTrue\u001b[39;00m)\n\u001b[0;32m    438\u001b[0m \u001b[38;5;28;01mdef\u001b[39;00m \u001b[38;5;21mfit_transform\u001b[39m(\u001b[38;5;28mself\u001b[39m, X, y\u001b[38;5;241m=\u001b[39m\u001b[38;5;28;01mNone\u001b[39;00m):\n\u001b[0;32m    439\u001b[0m \u001b[38;5;250m    \u001b[39m\u001b[38;5;124;03m\"\"\"Fit the model with X and apply the dimensionality reduction on X.\u001b[39;00m\n\u001b[0;32m    440\u001b[0m \n\u001b[0;32m    441\u001b[0m \u001b[38;5;124;03m    Parameters\u001b[39;00m\n\u001b[1;32m   (...)\u001b[0m\n\u001b[0;32m    458\u001b[0m \u001b[38;5;124;03m    C-ordered array, use 'np.ascontiguousarray'.\u001b[39;00m\n\u001b[0;32m    459\u001b[0m \u001b[38;5;124;03m    \"\"\"\u001b[39;00m\n\u001b[1;32m--> 460\u001b[0m     U, S, Vt \u001b[38;5;241m=\u001b[39m \u001b[38;5;28;43mself\u001b[39;49m\u001b[38;5;241;43m.\u001b[39;49m\u001b[43m_fit\u001b[49m\u001b[43m(\u001b[49m\u001b[43mX\u001b[49m\u001b[43m)\u001b[49m\n\u001b[0;32m    461\u001b[0m     U \u001b[38;5;241m=\u001b[39m U[:, : \u001b[38;5;28mself\u001b[39m\u001b[38;5;241m.\u001b[39mn_components_]\n\u001b[0;32m    463\u001b[0m     \u001b[38;5;28;01mif\u001b[39;00m \u001b[38;5;28mself\u001b[39m\u001b[38;5;241m.\u001b[39mwhiten:\n\u001b[0;32m    464\u001b[0m         \u001b[38;5;66;03m# X_new = X * V / S * sqrt(n_samples) = U * sqrt(n_samples)\u001b[39;00m\n",
      "File \u001b[1;32m~\\AppData\\Local\\Programs\\Python\\Python311\\Lib\\site-packages\\sklearn\\decomposition\\_pca.py:512\u001b[0m, in \u001b[0;36mPCA._fit\u001b[1;34m(self, X)\u001b[0m\n\u001b[0;32m    510\u001b[0m     \u001b[38;5;28;01mreturn\u001b[39;00m \u001b[38;5;28mself\u001b[39m\u001b[38;5;241m.\u001b[39m_fit_full(X, n_components)\n\u001b[0;32m    511\u001b[0m \u001b[38;5;28;01melif\u001b[39;00m \u001b[38;5;28mself\u001b[39m\u001b[38;5;241m.\u001b[39m_fit_svd_solver \u001b[38;5;129;01min\u001b[39;00m [\u001b[38;5;124m\"\u001b[39m\u001b[38;5;124marpack\u001b[39m\u001b[38;5;124m\"\u001b[39m, \u001b[38;5;124m\"\u001b[39m\u001b[38;5;124mrandomized\u001b[39m\u001b[38;5;124m\"\u001b[39m]:\n\u001b[1;32m--> 512\u001b[0m     \u001b[38;5;28;01mreturn\u001b[39;00m \u001b[38;5;28;43mself\u001b[39;49m\u001b[38;5;241;43m.\u001b[39;49m\u001b[43m_fit_truncated\u001b[49m\u001b[43m(\u001b[49m\u001b[43mX\u001b[49m\u001b[43m,\u001b[49m\u001b[43m \u001b[49m\u001b[43mn_components\u001b[49m\u001b[43m,\u001b[49m\u001b[43m \u001b[49m\u001b[38;5;28;43mself\u001b[39;49m\u001b[38;5;241;43m.\u001b[39;49m\u001b[43m_fit_svd_solver\u001b[49m\u001b[43m)\u001b[49m\n",
      "File \u001b[1;32m~\\AppData\\Local\\Programs\\Python\\Python311\\Lib\\site-packages\\sklearn\\decomposition\\_pca.py:585\u001b[0m, in \u001b[0;36mPCA._fit_truncated\u001b[1;34m(self, X, n_components, svd_solver)\u001b[0m\n\u001b[0;32m    580\u001b[0m     \u001b[38;5;28;01mraise\u001b[39;00m \u001b[38;5;167;01mValueError\u001b[39;00m(\n\u001b[0;32m    581\u001b[0m         \u001b[38;5;124m\"\u001b[39m\u001b[38;5;124mn_components=\u001b[39m\u001b[38;5;132;01m%r\u001b[39;00m\u001b[38;5;124m cannot be a string with svd_solver=\u001b[39m\u001b[38;5;124m'\u001b[39m\u001b[38;5;132;01m%s\u001b[39;00m\u001b[38;5;124m'\u001b[39m\u001b[38;5;124m\"\u001b[39m\n\u001b[0;32m    582\u001b[0m         \u001b[38;5;241m%\u001b[39m (n_components, svd_solver)\n\u001b[0;32m    583\u001b[0m     )\n\u001b[0;32m    584\u001b[0m \u001b[38;5;28;01melif\u001b[39;00m \u001b[38;5;129;01mnot\u001b[39;00m \u001b[38;5;241m1\u001b[39m \u001b[38;5;241m<\u001b[39m\u001b[38;5;241m=\u001b[39m n_components \u001b[38;5;241m<\u001b[39m\u001b[38;5;241m=\u001b[39m \u001b[38;5;28mmin\u001b[39m(n_samples, n_features):\n\u001b[1;32m--> 585\u001b[0m     \u001b[38;5;28;01mraise\u001b[39;00m \u001b[38;5;167;01mValueError\u001b[39;00m(\n\u001b[0;32m    586\u001b[0m         \u001b[38;5;124m\"\u001b[39m\u001b[38;5;124mn_components=\u001b[39m\u001b[38;5;132;01m%r\u001b[39;00m\u001b[38;5;124m must be between 1 and \u001b[39m\u001b[38;5;124m\"\u001b[39m\n\u001b[0;32m    587\u001b[0m         \u001b[38;5;124m\"\u001b[39m\u001b[38;5;124mmin(n_samples, n_features)=\u001b[39m\u001b[38;5;132;01m%r\u001b[39;00m\u001b[38;5;124m with \u001b[39m\u001b[38;5;124m\"\u001b[39m\n\u001b[0;32m    588\u001b[0m         \u001b[38;5;124m\"\u001b[39m\u001b[38;5;124msvd_solver=\u001b[39m\u001b[38;5;124m'\u001b[39m\u001b[38;5;132;01m%s\u001b[39;00m\u001b[38;5;124m'\u001b[39m\u001b[38;5;124m\"\u001b[39m\n\u001b[0;32m    589\u001b[0m         \u001b[38;5;241m%\u001b[39m (n_components, \u001b[38;5;28mmin\u001b[39m(n_samples, n_features), svd_solver)\n\u001b[0;32m    590\u001b[0m     )\n\u001b[0;32m    591\u001b[0m \u001b[38;5;28;01melif\u001b[39;00m svd_solver \u001b[38;5;241m==\u001b[39m \u001b[38;5;124m\"\u001b[39m\u001b[38;5;124marpack\u001b[39m\u001b[38;5;124m\"\u001b[39m \u001b[38;5;129;01mand\u001b[39;00m n_components \u001b[38;5;241m==\u001b[39m \u001b[38;5;28mmin\u001b[39m(n_samples, n_features):\n\u001b[0;32m    592\u001b[0m     \u001b[38;5;28;01mraise\u001b[39;00m \u001b[38;5;167;01mValueError\u001b[39;00m(\n\u001b[0;32m    593\u001b[0m         \u001b[38;5;124m\"\u001b[39m\u001b[38;5;124mn_components=\u001b[39m\u001b[38;5;132;01m%r\u001b[39;00m\u001b[38;5;124m must be strictly less than \u001b[39m\u001b[38;5;124m\"\u001b[39m\n\u001b[0;32m    594\u001b[0m         \u001b[38;5;124m\"\u001b[39m\u001b[38;5;124mmin(n_samples, n_features)=\u001b[39m\u001b[38;5;132;01m%r\u001b[39;00m\u001b[38;5;124m with \u001b[39m\u001b[38;5;124m\"\u001b[39m\n\u001b[0;32m    595\u001b[0m         \u001b[38;5;124m\"\u001b[39m\u001b[38;5;124msvd_solver=\u001b[39m\u001b[38;5;124m'\u001b[39m\u001b[38;5;132;01m%s\u001b[39;00m\u001b[38;5;124m'\u001b[39m\u001b[38;5;124m\"\u001b[39m\n\u001b[0;32m    596\u001b[0m         \u001b[38;5;241m%\u001b[39m (n_components, \u001b[38;5;28mmin\u001b[39m(n_samples, n_features), svd_solver)\n\u001b[0;32m    597\u001b[0m     )\n",
      "\u001b[1;31mValueError\u001b[0m: n_components=2 must be between 1 and min(n_samples, n_features)=1 with svd_solver='randomized'"
     ]
    }
   ],
   "source": [
    "# Get embeddings\n",
    "h, _ = untrained(graph.x.float(), graph.edge_index)\n",
    "\n",
    "# Train TSNE\n",
    "tsne = TSNE(n_components=2, learning_rate='auto',\n",
    "         init='pca').fit_transform(h.detach())\n",
    "\n",
    "unique_labels = np.unique(graph.y)\n",
    "labels = ['Moderate Poor', 'Non-vulnerable', 'Severe Poor', 'Vulnerable']\n",
    "\n",
    "# Plot TSNE\n",
    "plt.figure(figsize=(10, 10))\n",
    "plt.axis('off')\n",
    "# Scatter plot with different colors for each class\n",
    "for label in unique_labels:\n",
    "    indices = graph.y == label\n",
    "    plt.scatter(tsne[indices, 0], tsne[indices, 1], s=20, label=labels[label])\n",
    "    # Add legend\n",
    "plt.legend(title=\"Class Labels\", loc=\"upper right\")\n",
    "plt.show()"
   ]
  },
  {
   "cell_type": "code",
   "execution_count": null,
   "metadata": {
    "id": "EFcvr6KMPkNV"
   },
   "outputs": [],
   "source": [
    "h, _ = model(graph.x.float(), graph.edge_index)\n",
    "\n",
    "# Train TSNE\n",
    "tsne = TSNE(n_components=2, learning_rate='auto',\n",
    "         init='pca').fit_transform(h.detach())\n",
    "\n",
    "unique_labels = np.unique(graph.y)\n",
    "labels = ['Moderate Poor', 'Non-vulnerable', 'Severe Poor', 'Vulnerable']\n",
    "\n",
    "# Plot TSNE\n",
    "plt.figure(figsize=(10, 10))\n",
    "plt.axis('off')\n",
    "# Scatter plot with different colors for each class\n",
    "for label in unique_labels:\n",
    "    indices = graph.y == label\n",
    "    plt.scatter(tsne[indices, 0], tsne[indices, 1], s=20, label=labels[label])\n",
    "# Add legend\n",
    "plt.legend(title=\"Class Labels\", loc=\"upper right\")\n",
    "plt.show()"
   ]
  },
  {
   "cell_type": "code",
   "execution_count": null,
   "metadata": {},
   "outputs": [],
   "source": [
    "from sklearn.metrics import confusion_matrix\n",
    "import seaborn as sns"
   ]
  },
  {
   "cell_type": "code",
   "execution_count": null,
   "metadata": {},
   "outputs": [],
   "source": [
    "model.eval()\n",
    "output = model(graph.x.float(), graph.edge_index)\n",
    "i, y_pred = output[1].max(1)\n",
    "y_true = graph.y\n",
    "cm = confusion_matrix(graph.y, y_pred)"
   ]
  },
  {
   "cell_type": "code",
   "execution_count": null,
   "metadata": {},
   "outputs": [],
   "source": [
    "plt.figure(figsize=(len(labels),len(labels)))\n",
    "cm_prop = cm.astype('float') / cm.sum(axis=1)\n",
    "sns.heatmap(cm_prop, annot = True, xticklabels=labels, yticklabels=labels)\n",
    "plt.show()"
   ]
  },
  {
   "cell_type": "code",
   "execution_count": null,
   "metadata": {},
   "outputs": [],
   "source": [
    "plt.figure(figsize=(len(labels),len(labels)))\n",
    "sns.heatmap(cm.astype('int'), annot = True, xticklabels=labels, yticklabels=labels)\n",
    "plt.show()"
   ]
  },
  {
   "cell_type": "code",
   "execution_count": null,
   "metadata": {},
   "outputs": [],
   "source": []
  },
  {
   "cell_type": "raw",
   "metadata": {
    "id": "cWFE3gnUo7nA"
   },
   "source": [
    "class GCN(torch.nn.Module):\n",
    "  \"\"\"Graph Convolutional Network\"\"\"\n",
    "  def __init__(self, dim_in, dim_h, dim_out):\n",
    "    super().__init__()\n",
    "    self.gcn1 = GCNConv(dim_in, dim_h)\n",
    "    self.gcn2 = GCNConv(dim_h, dim_out)\n",
    "    self.optimizer = torch.optim.Adam(self.parameters(),\n",
    "                                      lr=0.01,\n",
    "                                      0)\n",
    "\n",
    "  def forward(self, x, edge_index):\n",
    "    h = F.dropout(x, p=0.5)\n",
    "    h = self.gcn1(h, edge_index)\n",
    "    h = torch.relu(h)\n",
    "    h = F.dropout(h, p=0.5)\n",
    "    h = self.gcn2(h, edge_index)\n",
    "    return h, F.log_softmax(h, dim=1)"
   ]
  },
  {
   "cell_type": "raw",
   "metadata": {
    "id": "cWFE3gnUo7nA"
   },
   "source": [
    "class GAT(torch.nn.Module):\n",
    "  \"\"\"Graph Attention Network\"\"\"\n",
    "  def __init__(self, dim_in, dim_h, dim_out, heads=8):\n",
    "    super().__init__()\n",
    "    self.gat1 = GATv2Conv(dim_in, dim_h, heads=heads)\n",
    "    self.gat2 = GATv2Conv(dim_h*heads, dim_out, heads=1)\n",
    "    self.optimizer = torch.optim.Adam(self.parameters(),\n",
    "                                      lr=0.005,\n",
    "                                      weight_decay=5e-4)\n",
    "\n",
    "  def forward(self, x, edge_index):\n",
    "    h = F.dropout(x, p=0.6, training=self.training)\n",
    "    h = self.gat1(x, edge_index)\n",
    "    h = F.elu(h)\n",
    "    h = F.dropout(h, p=0.6, training=self.training)\n",
    "    h = self.gat2(h, edge_index)\n",
    "    return h, F.log_softmax(h, dim=1)"
   ]
  },
  {
   "cell_type": "raw",
   "metadata": {
    "id": "cWFE3gnUo7nA"
   },
   "source": [
    "def accuracy(pred_y, y):\n",
    "    \"\"\"Calculate accuracy.\"\"\"\n",
    "    return ((pred_y == y).sum() / len(y)).item()\n",
    "\n",
    "def train(model, data):\n",
    "    \"\"\"Train a GNN model and return the trained model.\"\"\"\n",
    "    criterion = torch.nn.CrossEntropyLoss()\n",
    "    optimizer = model.optimizer\n",
    "    epochs = 200\n",
    "\n",
    "    model.train()\n",
    "    for epoch in range(epochs+1):\n",
    "        # Training\n",
    "        optimizer.zero_grad()\n",
    "        _, out = model(data.x, data.edge_index)\n",
    "        loss = criterion(out[data.train_mask], data.y[data.train_mask])\n",
    "        acc = accuracy(out[data.train_mask].argmax(dim=1), data.y[data.train_mask])\n",
    "        loss.backward()\n",
    "        optimizer.step()\n",
    "\n",
    "        # Validation\n",
    "        val_loss = criterion(out[data.val_mask], data.y[data.val_mask])\n",
    "        val_acc = accuracy(out[data.val_mask].argmax(dim=1), data.y[data.val_mask])\n",
    "\n",
    "        # Print metrics every 10 epochs\n",
    "        if(epoch % 10 == 0):\n",
    "            print(f'Epoch {epoch:>3} | Train Loss: {loss:.3f} | Train Acc: '\n",
    "                  f'{acc*100:>6.2f}% | Val Loss: {val_loss:.2f} | '\n",
    "                  f'Val Acc: {val_acc*100:.2f}%')\n",
    "\n",
    "    return model\n",
    "\n",
    "def test(model, data):\n",
    "    \"\"\"Evaluate the model on test set and print the accuracy score.\"\"\"\n",
    "    model.eval()\n",
    "    _, out = model(data.x, data.edge_index)\n",
    "    acc = accuracy(out.argmax(dim=1)[data.test_mask], data.y[data.test_mask])\n",
    "    return acc"
   ]
  }
 ],
 "metadata": {
  "colab": {
   "provenance": []
  },
  "kernelspec": {
   "display_name": "Python 3 (ipykernel)",
   "language": "python",
   "name": "python3"
  },
  "language_info": {
   "codemirror_mode": {
    "name": "ipython",
    "version": 3
   },
   "file_extension": ".py",
   "mimetype": "text/x-python",
   "name": "python",
   "nbconvert_exporter": "python",
   "pygments_lexer": "ipython3",
   "version": "3.11.4"
  }
 },
 "nbformat": 4,
 "nbformat_minor": 4
}
