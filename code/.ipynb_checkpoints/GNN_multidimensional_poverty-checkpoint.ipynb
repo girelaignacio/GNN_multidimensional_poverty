{
 "cells": [
  {
   "cell_type": "markdown",
   "metadata": {},
   "source": [
    "## 1. Load libraries"
   ]
  },
  {
   "cell_type": "code",
   "execution_count": 1,
   "metadata": {},
   "outputs": [],
   "source": [
    "import pandas as pd"
   ]
  },
  {
   "cell_type": "code",
   "execution_count": 2,
   "metadata": {
    "id": "3QBFCJifrdZ0"
   },
   "outputs": [],
   "source": [
    "import numpy as np\n",
    "import torch\n",
    "import torch_geometric.datasets as datasets\n",
    "import torch_geometric.data\n",
    "import torch_geometric.transforms as transforms\n",
    "import networkx as nx\n",
    "from torch_geometric.utils.convert import to_networkx"
   ]
  },
  {
   "cell_type": "markdown",
   "metadata": {},
   "source": [
    "## 2. Read spatial data: Nigeria DHS 20-21"
   ]
  },
  {
   "cell_type": "code",
   "execution_count": 3,
   "metadata": {
    "id": "uR4QbIm94HSw"
   },
   "outputs": [],
   "source": [
    "import geopandas as gpd\n",
    "df = gpd.read_file(\"../data/nga_dhs20-21.shp\")\n",
    "gdf = gpd.GeoDataFrame(df, crs=\"EPSG:4326\")\n",
    "#gdf = gdf.to_crs(\"EPSG:32617\")"
   ]
  },
  {
   "cell_type": "code",
   "execution_count": 4,
   "metadata": {
    "colab": {
     "base_uri": "https://localhost:8080/",
     "height": 458
    },
    "id": "BRVzB0Jp65lW",
    "outputId": "f473b51e-a908-4bed-ceb4-c146d6d85c82"
   },
   "outputs": [
    {
     "data": {
      "text/plain": [
       "<GeometryArray>\n",
       "[ <POINT (8.507 7.72)>, <POINT (8.552 7.718)>, <POINT (8.991 7.347)>,\n",
       "   <POINT (8.15 7.21)>, <POINT (8.408 6.881)>, <POINT (7.951 7.805)>,\n",
       " <POINT (7.838 7.595)>, <POINT (8.125 7.605)>, <POINT (8.503 7.689)>,\n",
       " <POINT (8.582 7.845)>,\n",
       " ...\n",
       "  <POINT (3.19 8.318)>, <POINT (4.022 7.953)>, <POINT (4.191 8.202)>,\n",
       " <POINT (4.431 7.977)>,  <POINT (4.104 7.85)>, <POINT (3.588 7.828)>,\n",
       "  <POINT (3.343 8.05)>, <POINT (3.018 7.948)>, <POINT (3.291 7.341)>,\n",
       " <POINT (3.948 7.786)>]\n",
       "Length: 1383, dtype: geometry"
      ]
     },
     "execution_count": 4,
     "metadata": {},
     "output_type": "execute_result"
    }
   ],
   "source": [
    "gdf.geometry.unique()"
   ]
  },
  {
   "cell_type": "code",
   "execution_count": 5,
   "metadata": {
    "colab": {
     "base_uri": "https://localhost:8080/"
    },
    "id": "cTvhxUcW5qgp",
    "outputId": "990f876c-968f-4d49-9725-a3b13fd93b64"
   },
   "outputs": [
    {
     "name": "stderr",
     "output_type": "stream",
     "text": [
      "C:\\Users\\girel\\AppData\\Local\\Temp\\ipykernel_14208\\4188193525.py:1: UserWarning: Geometry is in a geographic CRS. Results from 'centroid' are likely incorrect. Use 'GeoSeries.to_crs()' to re-project geometries to a projected CRS before this operation.\n",
      "\n",
      "  centroids = np.array([(point.x, point.y) for point in df.geometry.centroid])\n"
     ]
    },
    {
     "data": {
      "text/plain": [
       "array([[8.506936, 7.720049],\n",
       "       [8.552142, 7.717922],\n",
       "       [8.991185, 7.346602],\n",
       "       ...,\n",
       "       [3.017661, 7.947632],\n",
       "       [3.291019, 7.341286],\n",
       "       [3.948039, 7.785664]])"
      ]
     },
     "execution_count": 5,
     "metadata": {},
     "output_type": "execute_result"
    }
   ],
   "source": [
    "centroids = np.array([(point.x, point.y) for point in df.geometry.centroid])\n",
    "centroids"
   ]
  },
  {
   "cell_type": "markdown",
   "metadata": {},
   "source": [
    "## 3. Build distance matrix\n",
    "\n",
    "We build a proximity matrix between the clusters"
   ]
  },
  {
   "cell_type": "code",
   "execution_count": 6,
   "metadata": {
    "colab": {
     "base_uri": "https://localhost:8080/",
     "height": 165
    },
    "id": "lx3-Bvbl5qsk",
    "outputId": "534c288e-adc0-4b3d-8eba-a18a3bba16e2"
   },
   "outputs": [],
   "source": [
    "from scipy.spatial.distance import cdist\n",
    "distance_matrix = cdist(np.unique(centroids, axis = 0), np.unique(centroids, axis = 0), 'euclidean')"
   ]
  },
  {
   "cell_type": "code",
   "execution_count": 7,
   "metadata": {
    "id": "0Rs-v7sM5q5T"
   },
   "outputs": [
    {
     "data": {
      "text/plain": [
       "array([[ 0.        ,  7.90917123,  7.11335248, ..., 16.77679502,\n",
       "        17.73958348, 18.81761545],\n",
       "       [ 7.90917123,  0.        ,  0.8931784 , ..., 10.93767371,\n",
       "        11.43550126, 12.22038214],\n",
       "       [ 7.11335248,  0.8931784 ,  0.        , ..., 11.1203557 ,\n",
       "        11.72264204, 12.58043899],\n",
       "       ...,\n",
       "       [16.77679502, 10.93767371, 11.1203557 , ...,  0.        ,\n",
       "         1.47642768,  2.79842185],\n",
       "       [17.73958348, 11.43550126, 11.72264204, ...,  1.47642768,\n",
       "         0.        ,  1.33305874],\n",
       "       [18.81761545, 12.22038214, 12.58043899, ...,  2.79842185,\n",
       "         1.33305874,  0.        ]])"
      ]
     },
     "execution_count": 7,
     "metadata": {},
     "output_type": "execute_result"
    }
   ],
   "source": [
    "distance_matrix"
   ]
  },
  {
   "cell_type": "code",
   "execution_count": 8,
   "metadata": {},
   "outputs": [
    {
     "data": {
      "text/plain": [
       "18.817615452436154"
      ]
     },
     "execution_count": 8,
     "metadata": {},
     "output_type": "execute_result"
    }
   ],
   "source": [
    "max_distance = np.max(distance_matrix)\n",
    "max_distance"
   ]
  },
  {
   "cell_type": "code",
   "execution_count": 9,
   "metadata": {},
   "outputs": [],
   "source": [
    "weighted_proximity_matrix = np.zeros_like(distance_matrix)\n",
    "for i in range(len(distance_matrix)):\n",
    "    for j in range(len(distance_matrix)):\n",
    "        proximity = (max_distance - distance_matrix[i, j]) / max_distance\n",
    "        proximity = max(0, proximity)\n",
    "        weighted_proximity_matrix[i, j] = proximity"
   ]
  },
  {
   "cell_type": "code",
   "execution_count": 10,
   "metadata": {},
   "outputs": [
    {
     "name": "stdout",
     "output_type": "stream",
     "text": [
      "0.0 1.0\n"
     ]
    }
   ],
   "source": [
    "print(weighted_proximity_matrix.min(),weighted_proximity_matrix.max())"
   ]
  },
  {
   "cell_type": "code",
   "execution_count": 11,
   "metadata": {},
   "outputs": [],
   "source": [
    "threshold = 0.995\n",
    "weighted_proximity_matrix[weighted_proximity_matrix < threshold] = 0"
   ]
  },
  {
   "cell_type": "code",
   "execution_count": 12,
   "metadata": {},
   "outputs": [
    {
     "data": {
      "text/plain": [
       "array([[1., 0., 0., ..., 0., 0., 0.],\n",
       "       [0., 1., 0., ..., 0., 0., 0.],\n",
       "       [0., 0., 1., ..., 0., 0., 0.],\n",
       "       ...,\n",
       "       [0., 0., 0., ..., 1., 0., 0.],\n",
       "       [0., 0., 0., ..., 0., 1., 0.],\n",
       "       [0., 0., 0., ..., 0., 0., 1.]])"
      ]
     },
     "execution_count": 12,
     "metadata": {},
     "output_type": "execute_result"
    }
   ],
   "source": [
    "weighted_proximity_matrix"
   ]
  },
  {
   "cell_type": "markdown",
   "metadata": {},
   "source": [
    "## 4. Transform data to tensor\n",
    "\n",
    "Create torch_geometric.data.Data object"
   ]
  },
  {
   "cell_type": "markdown",
   "metadata": {},
   "source": [
    "Transform proximity matrix to tensor and create edges "
   ]
  },
  {
   "cell_type": "code",
   "execution_count": 13,
   "metadata": {},
   "outputs": [],
   "source": [
    "adj_matrix = torch.tensor(weighted_proximity_matrix)"
   ]
  },
  {
   "cell_type": "code",
   "execution_count": 14,
   "metadata": {},
   "outputs": [],
   "source": [
    "edges = adj_matrix.nonzero().t().contiguous()"
   ]
  },
  {
   "cell_type": "code",
   "execution_count": 15,
   "metadata": {},
   "outputs": [
    {
     "data": {
      "text/plain": [
       "tensor([[   0,    1,    2,  ..., 1380, 1381, 1382],\n",
       "        [   0,    1,    2,  ..., 1380, 1381, 1382]])"
      ]
     },
     "execution_count": 15,
     "metadata": {},
     "output_type": "execute_result"
    }
   ],
   "source": [
    "edges"
   ]
  },
  {
   "cell_type": "markdown",
   "metadata": {},
   "source": [
    "Get edge attributes (given by proximity of clusters)"
   ]
  },
  {
   "cell_type": "code",
   "execution_count": 16,
   "metadata": {
    "id": "WIBVjlFAI4Vt"
   },
   "outputs": [],
   "source": [
    "edge_attr = []\n",
    "for i in range(edges.size(1)):\n",
    "    edge_attr.append([adj_matrix[edges[0][i], edges[1][0]]])\n",
    "\n",
    "edge_attr = torch.tensor(edge_attr, dtype=torch.float)"
   ]
  },
  {
   "cell_type": "markdown",
   "metadata": {},
   "source": [
    "Prepare features"
   ]
  },
  {
   "cell_type": "code",
   "execution_count": 17,
   "metadata": {},
   "outputs": [
    {
     "data": {
      "text/plain": [
       "Index(['dhsclst', 'd_cm', 'd_nutr', 'd_satt', 'd_educ', 'd_elct', 'd_wtr',\n",
       "       'd_sani', 'd_hsg', 'd_ckfl', 'd_asst', 'sexfeml', 'sexmale', 'agc70_4',\n",
       "       'a710_14', 'a715_17', 'a718_59', 'agc75_9', 'agc760_', 'arearrl',\n",
       "       'arearbn', 'reginAb', 'rgnAdmw', 'rgnAk_I', 'rgnAnmb', 'regnBch',\n",
       "       'rgnByls', 'reginBn', 'regnBrn', 'rgnCr_R', 'regnDlt', 'rgnEbny',\n",
       "       'reginEd', 'regnEkt', 'regnEng', 'regnFCT', 'regnGmb', 'reginIm',\n",
       "       'regnJgw', 'regnKdn', 'reginKn', 'rgnKtsn', 'regnKbb', 'reginKg',\n",
       "       'regnKwr', 'regnLgs', 'rgnNsrw', 'regnNgr', 'regnOgn', 'regnOnd',\n",
       "       'regnOsn', 'reginOy', 'regnPlt', 'rgnRvrs', 'regnSkt', 'regnTrb',\n",
       "       'reginYb', 'rgnZmfr', 'hdshpf_', 'hdshpm_', 'categry', 'geometry'],\n",
       "      dtype='object')"
      ]
     },
     "execution_count": 17,
     "metadata": {},
     "output_type": "execute_result"
    }
   ],
   "source": [
    "gdf.columns"
   ]
  },
  {
   "cell_type": "code",
   "execution_count": 18,
   "metadata": {},
   "outputs": [],
   "source": [
    "features = list(gdf.columns[list(range(11, gdf.shape[1]-4))])"
   ]
  },
  {
   "cell_type": "code",
   "execution_count": 19,
   "metadata": {},
   "outputs": [],
   "source": [
    "# Avoid multicollineality\n",
    "for i in ['sexmale','agc760_','arearrl','reginAb']:#,'hdshpm_']:#,\n",
    "         #'d_cm', 'd_nutr', 'd_satt', 'd_educ']:\n",
    "    features.remove(i)"
   ]
  },
  {
   "cell_type": "code",
   "execution_count": 20,
   "metadata": {
    "id": "wTOdbO8IQI4f"
   },
   "outputs": [],
   "source": [
    "x = torch.tensor(np.array(gdf[features]))"
   ]
  },
  {
   "cell_type": "markdown",
   "metadata": {},
   "source": [
    "Target variable"
   ]
  },
  {
   "cell_type": "code",
   "execution_count": 21,
   "metadata": {},
   "outputs": [],
   "source": [
    "target = pd.Categorical(gdf['categry'])\n",
    "numerical_categories = target.codes"
   ]
  },
  {
   "cell_type": "code",
   "execution_count": 22,
   "metadata": {},
   "outputs": [],
   "source": [
    "target_tensor = torch.tensor(numerical_categories, dtype=torch.long) "
   ]
  },
  {
   "cell_type": "code",
   "execution_count": 23,
   "metadata": {},
   "outputs": [
    {
     "data": {
      "text/plain": [
       "array([0, 1, 2, 3], dtype=int8)"
      ]
     },
     "execution_count": 23,
     "metadata": {},
     "output_type": "execute_result"
    }
   ],
   "source": [
    "np.unique(numerical_categories)"
   ]
  },
  {
   "cell_type": "code",
   "execution_count": 24,
   "metadata": {
    "colab": {
     "base_uri": "https://localhost:8080/"
    },
    "id": "QYrOagwsPxlj",
    "outputId": "703aa669-2e31-4795-c53f-fe6d45373a3c"
   },
   "outputs": [
    {
     "data": {
      "text/plain": [
       "Data(x=[1389, 43], edge_index=[2, 4649], edge_attr=[4649, 1], y=[1389])"
      ]
     },
     "execution_count": 24,
     "metadata": {},
     "output_type": "execute_result"
    }
   ],
   "source": [
    "graph = torch_geometric.data.Data(x=x, edge_index=edges, edge_attr = edge_attr,y=target_tensor)\n",
    "graph"
   ]
  },
  {
   "cell_type": "code",
   "execution_count": 25,
   "metadata": {
    "id": "c1BM5KgFQyxZ"
   },
   "outputs": [
    {
     "data": {
      "text/plain": [
       "<BarContainer object of 27 artists>"
      ]
     },
     "execution_count": 25,
     "metadata": {},
     "output_type": "execute_result"
    },
    {
     "data": {
      "image/png": "[encoded data removed]",
      "text/plain": [
       "<Figure size 1800x700 with 1 Axes>"
      ]
     },
     "metadata": {},
     "output_type": "display_data"
    }
   ],
   "source": [
    "import matplotlib.pyplot as plt\n",
    "from torch_geometric.utils import degree\n",
    "from collections import Counter\n",
    "\n",
    "# Get list of degrees for each node\n",
    "degrees = degree(graph.edge_index[0]).numpy()\n",
    "\n",
    "# Count the number of nodes for each degree\n",
    "numbers = Counter(degrees)\n",
    "\n",
    "# Bar plot\n",
    "fig, ax = plt.subplots(figsize=(18, 7))\n",
    "ax.set_xlabel('Node degree')\n",
    "ax.set_ylabel('Number of nodes')\n",
    "plt.bar(numbers.keys(),\n",
    "        numbers.values(),\n",
    "        color='#0A047A')"
   ]
  },
  {
   "cell_type": "code",
   "execution_count": 26,
   "metadata": {},
   "outputs": [],
   "source": [
    "from torch_geometric.loader import DataLoader"
   ]
  },
  {
   "cell_type": "code",
   "execution_count": 27,
   "metadata": {},
   "outputs": [
    {
     "data": {
      "text/plain": [
       "1389"
      ]
     },
     "execution_count": 27,
     "metadata": {},
     "output_type": "execute_result"
    }
   ],
   "source": [
    "# Determine the number of nodes\n",
    "num_nodes = graph.num_nodes\n",
    "num_nodes"
   ]
  },
  {
   "cell_type": "code",
   "execution_count": 28,
   "metadata": {},
   "outputs": [
    {
     "name": "stdout",
     "output_type": "stream",
     "text": [
      "1111 138 140\n"
     ]
    }
   ],
   "source": [
    "# Calculate the sizes of the train, validation, and test sets\n",
    "train_size = int(0.8 * num_nodes)\n",
    "val_size = int(0.1 * num_nodes)\n",
    "test_size = num_nodes - train_size - val_size\n",
    "print(train_size, val_size, test_size)"
   ]
  },
  {
   "cell_type": "code",
   "execution_count": 29,
   "metadata": {},
   "outputs": [
    {
     "name": "stdout",
     "output_type": "stream",
     "text": [
      "Data(x=[1389, 43], edge_index=[2, 4649], edge_attr=[4649, 1], y=[1389], train_mask=[1389], val_mask=[1389], test_mask=[1389])\n"
     ]
    }
   ],
   "source": [
    "# Create random permutations of node indices\n",
    "perm = torch.randperm(num_nodes)\n",
    "\n",
    "# Create boolean masks\n",
    "train_mask = torch.zeros(num_nodes, dtype=torch.bool)\n",
    "val_mask = torch.zeros(num_nodes, dtype=torch.bool)\n",
    "test_mask = torch.zeros(num_nodes, dtype=torch.bool)\n",
    "\n",
    "train_mask[perm[:train_size]] = True\n",
    "val_mask[perm[train_size:train_size + val_size]] = True\n",
    "test_mask[perm[train_size + val_size:]] = True\n",
    "\n",
    "# Add the masks to the graph object\n",
    "graph.train_mask = train_mask\n",
    "graph.val_mask = val_mask\n",
    "graph.test_mask = test_mask\n",
    "\n",
    "print(graph) #now the graph contains the masks."
   ]
  },
  {
   "cell_type": "raw",
   "metadata": {},
   "source": [
    "from torch_geometric.loader import NeighborLoader\n",
    "\n",
    "train_loader = NeighborLoader(\n",
    "    graph,\n",
    "    input_nodes = graph.train_mask,\n",
    "    batch_size = int(train_size//8),\n",
    "    num_neighbors = [1,10],\n",
    "    shuffle = True\n",
    ")\n",
    "\n",
    "val_loader = NeighborLoader(\n",
    "    graph,\n",
    "    input_nodes = graph.val_mask,\n",
    "    batch_size = int(val_size//3),\n",
    "    num_neighbors = [1,10]\n",
    ")\n",
    "\n",
    "test_loader = NeighborLoader(\n",
    "    graph,\n",
    "    input_nodes = graph.test_mask,\n",
    "    batch_size = int(test_size//3),\n",
    "    num_neighbors = [1,10]\n",
    ")"
   ]
  },
  {
   "cell_type": "raw",
   "metadata": {},
   "source": [
    "device = torch.device('cuda' if torch.cuda.is_available() else 'cpu') #check if cuda is available\n",
    "graph = graph.to(device)"
   ]
  },
  {
   "cell_type": "raw",
   "metadata": {},
   "source": [
    "batch_size = 32\n",
    "train_loader = DataLoader(graph[train_mask], batch_size=int(train_size//8), shuffle=True)\n",
    "val_loader = DataLoader(graph[val_mask], batch_size=int(train_size//8), shuffle=True)\n",
    "test_loader = DataLoader(graph[test_mask, batch_size=batch_size, shuffle=False)"
   ]
  },
  {
   "cell_type": "code",
   "execution_count": 30,
   "metadata": {},
   "outputs": [],
   "source": [
    "from torch_geometric.utils import subgraph\n",
    "train_nodes = torch.where(train_mask)[0]\n",
    "sub_edge_index, _ = subgraph(train_mask, graph.edge_index, relabel_nodes=True)\n",
    "train_x = graph.x[train_nodes]\n",
    "train_y = graph.y[train_nodes]\n",
    "train_data = torch_geometric.data.Data(x=train_x, y=train_y, edge_index=sub_edge_index)\n",
    "train_loader = torch_geometric.loader.DataLoader([train_data], batch_size=int(train_size//8), shuffle=True)\n",
    "\n",
    "val_nodes = torch.where(val_mask)[0]\n",
    "sub_edge_index, _ = subgraph(val_mask, graph.edge_index, relabel_nodes=True)\n",
    "val_x = graph.x[val_nodes]\n",
    "val_y = graph.y[val_nodes]\n",
    "val_data = torch_geometric.data.Data(x=val_x, y=val_y, edge_index=sub_edge_index)\n",
    "val_loader = torch_geometric.loader.DataLoader([val_data], batch_size=val_size)\n",
    "\n",
    "test_nodes = torch.where(test_mask)[0]\n",
    "sub_edge_index, _ = subgraph(test_mask, graph.edge_index, relabel_nodes=True)\n",
    "test_x = graph.x[test_nodes]\n",
    "test_y = graph.y[test_nodes]\n",
    "test_data = torch_geometric.data.Data(x=test_x, y=test_y, edge_index=sub_edge_index)\n",
    "test_loader = torch_geometric.loader.DataLoader([test_data], batch_size=test_size)"
   ]
  },
  {
   "cell_type": "markdown",
   "metadata": {},
   "source": [
    "## 5. Prepare models"
   ]
  },
  {
   "cell_type": "code",
   "execution_count": 31,
   "metadata": {
    "id": "cWFE3gnUo7nA"
   },
   "outputs": [],
   "source": [
    "import torch.nn.functional as F\n",
    "from torch.nn import Linear, Dropout\n",
    "from torch_geometric.nn import GCNConv, GATv2Conv"
   ]
  },
  {
   "cell_type": "code",
   "execution_count": 32,
   "metadata": {},
   "outputs": [],
   "source": [
    "class GAT(torch.nn.Module):\n",
    "    \"\"\"\n",
    "    Graph Attention network\n",
    "    \"\"\"\n",
    "    def __init__(self, dim_in, dim_h, dim_out, n_heads):\n",
    "        super(GAT, self).__init__()\n",
    "        self.gat1 = GATv2Conv(dim_in, dim_h, heads = n_heads)\n",
    "        self.norm1 = torch.nn.LayerNorm(dim_h * n_heads)\n",
    "        self.gat2 = GATv2Conv(dim_h*n_heads, dim_out, heads = 1)\n",
    "        self.linear = torch.nn.Linear(dim_out, dim_out)\n",
    "\n",
    "    def forward(self, x, edge_index):\n",
    "        x1 = F.dropout(x, p = 0.5, training = self.training)\n",
    "        x = self.gat1(x1, edge_index)\n",
    "        x = self.norm1(x)\n",
    "        x = F.leaky_relu(x, negative_slope=0.02)\n",
    "        x = F.dropout(x, p=0.5, training=self.training)\n",
    "        x = self.gat2(x, edge_index)\n",
    "        x = self.linear(x)\n",
    "        return x, F.log_softmax(x, dim=1)"
   ]
  },
  {
   "cell_type": "markdown",
   "metadata": {},
   "source": [
    "Graph Convolutional Network"
   ]
  },
  {
   "cell_type": "raw",
   "metadata": {
    "id": "cWFE3gnUo7nA"
   },
   "source": [
    "class GAT(torch.nn.Module):\n",
    "  \"\"\"Graph Attention Network\"\"\"\n",
    "  def __init__(self, dim_in, dim_h, dim_out, heads=8):\n",
    "    super().__init__()\n",
    "    self.gat1 = GATv2Conv(dim_in, dim_h, heads=heads)\n",
    "    self.gat2 = GATv2Conv(dim_h*heads, dim_out, heads=1)\n",
    "    self.optimizer = torch.optim.Adam(self.parameters(),\n",
    "                                      lr=0.005,\n",
    "                                      weight_decay=5e-4)\n",
    "\n",
    "  def forward(self, x, edge_index):\n",
    "    h = F.dropout(x, p=0.6, training=self.training)\n",
    "    h = self.gat1(x, edge_index)\n",
    "    h = F.elu(h)\n",
    "    h = F.dropout(h, p=0.6, training=self.training)\n",
    "    h = self.gat2(h, edge_index)\n",
    "    return h, F.log_softmax(h, dim=1)"
   ]
  },
  {
   "cell_type": "code",
   "execution_count": null,
   "metadata": {},
   "outputs": [],
   "source": []
  },
  {
   "cell_type": "raw",
   "metadata": {
    "id": "cWFE3gnUo7nA"
   },
   "source": [
    "class GCN(torch.nn.Module):\n",
    "  \"\"\"Graph Convolutional Network\"\"\"\n",
    "  def __init__(self, dim_in, dim_h, dim_out):\n",
    "    super().__init__()\n",
    "    self.gcn1 = GCNConv(dim_in, dim_h)\n",
    "    self.gcn2 = GCNConv(dim_h, dim_out)\n",
    "    self.optimizer = torch.optim.Adam(self.parameters(),\n",
    "                                      lr=0.01,\n",
    "                                      0)\n",
    "\n",
    "  def forward(self, x, edge_index):\n",
    "    h = F.dropout(x, p=0.5)\n",
    "    h = self.gcn1(h, edge_index)\n",
    "    h = torch.relu(h)\n",
    "    h = F.dropout(h, p=0.5)\n",
    "    h = self.gcn2(h, edge_index)\n",
    "    return h, F.log_softmax(h, dim=1)"
   ]
  },
  {
   "cell_type": "code",
   "execution_count": 33,
   "metadata": {},
   "outputs": [],
   "source": [
    "dim_in = graph.x.size(1)  \n",
    "dim_h = 20 \n",
    "dim_out = len(graph.y.unique()) # Number of classes \n",
    "n_heads = 16  \n",
    "\n",
    "# Create an instance of your GAT model\n",
    "model = GAT(dim_in, dim_h, dim_out, n_heads)\n",
    "untrained = GAT(dim_in, dim_h, dim_out, n_heads)"
   ]
  },
  {
   "cell_type": "code",
   "execution_count": 34,
   "metadata": {},
   "outputs": [],
   "source": [
    "lr = 0.01\n",
    "optimizer = torch.optim.Adam(model.parameters(),weight_decay=5e-4)\n",
    "criterion = torch.nn.CrossEntropyLoss()\n",
    "n_epochs = 200"
   ]
  },
  {
   "cell_type": "code",
   "execution_count": 35,
   "metadata": {},
   "outputs": [
    {
     "name": "stdout",
     "output_type": "stream",
     "text": [
      "GAT(\n",
      "  (gat1): GATv2Conv(43, 20, heads=16)\n",
      "  (norm1): LayerNorm((320,), eps=1e-05, elementwise_affine=True)\n",
      "  (gat2): GATv2Conv(320, 4, heads=1)\n",
      "  (linear): Linear(in_features=4, out_features=4, bias=True)\n",
      ")\n"
     ]
    }
   ],
   "source": [
    "print(model)"
   ]
  },
  {
   "cell_type": "code",
   "execution_count": 36,
   "metadata": {},
   "outputs": [
    {
     "name": "stdout",
     "output_type": "stream",
     "text": [
      "Epoch 1/300, Train Loss: 1.2829, Val Loss: 1.2339, Test Loss: 1.2024\n",
      "Epoch 2/300, Train Loss: 1.2263, Val Loss: 1.1767, Test Loss: 1.1534\n",
      "Epoch 3/300, Train Loss: 1.2017, Val Loss: 1.1380, Test Loss: 1.1209\n",
      "Epoch 4/300, Train Loss: 1.1915, Val Loss: 1.1070, Test Loss: 1.0940\n",
      "Epoch 5/300, Train Loss: 1.1683, Val Loss: 1.0802, Test Loss: 1.0691\n",
      "Epoch 6/300, Train Loss: 1.1764, Val Loss: 1.0575, Test Loss: 1.0467\n",
      "Epoch 7/300, Train Loss: 1.1114, Val Loss: 1.0389, Test Loss: 1.0275\n",
      "Epoch 8/300, Train Loss: 1.0956, Val Loss: 1.0247, Test Loss: 1.0128\n",
      "Epoch 9/300, Train Loss: 1.0887, Val Loss: 1.0142, Test Loss: 1.0012\n",
      "Epoch 10/300, Train Loss: 1.0849, Val Loss: 1.0032, Test Loss: 0.9908\n",
      "Epoch 11/300, Train Loss: 1.0910, Val Loss: 0.9910, Test Loss: 0.9808\n",
      "Epoch 12/300, Train Loss: 1.1007, Val Loss: 0.9780, Test Loss: 0.9713\n",
      "Epoch 13/300, Train Loss: 1.0445, Val Loss: 0.9663, Test Loss: 0.9631\n",
      "Epoch 14/300, Train Loss: 1.0548, Val Loss: 0.9549, Test Loss: 0.9560\n",
      "Epoch 15/300, Train Loss: 1.0483, Val Loss: 0.9444, Test Loss: 0.9498\n",
      "Epoch 16/300, Train Loss: 1.0553, Val Loss: 0.9346, Test Loss: 0.9446\n",
      "Epoch 17/300, Train Loss: 1.0054, Val Loss: 0.9259, Test Loss: 0.9402\n",
      "Epoch 18/300, Train Loss: 1.0261, Val Loss: 0.9179, Test Loss: 0.9363\n",
      "Epoch 19/300, Train Loss: 1.0154, Val Loss: 0.9110, Test Loss: 0.9330\n",
      "Epoch 20/300, Train Loss: 1.0084, Val Loss: 0.9051, Test Loss: 0.9297\n",
      "Epoch 21/300, Train Loss: 1.0192, Val Loss: 0.9002, Test Loss: 0.9262\n",
      "Epoch 22/300, Train Loss: 1.0079, Val Loss: 0.8963, Test Loss: 0.9232\n",
      "Epoch 23/300, Train Loss: 0.9937, Val Loss: 0.8924, Test Loss: 0.9199\n",
      "Epoch 24/300, Train Loss: 0.9967, Val Loss: 0.8875, Test Loss: 0.9169\n",
      "Epoch 25/300, Train Loss: 0.9917, Val Loss: 0.8816, Test Loss: 0.9137\n",
      "Epoch 26/300, Train Loss: 0.9903, Val Loss: 0.8755, Test Loss: 0.9098\n",
      "Epoch 27/300, Train Loss: 1.0093, Val Loss: 0.8693, Test Loss: 0.9061\n",
      "Epoch 28/300, Train Loss: 0.9951, Val Loss: 0.8646, Test Loss: 0.9031\n",
      "Epoch 29/300, Train Loss: 0.9818, Val Loss: 0.8606, Test Loss: 0.9003\n",
      "Epoch 30/300, Train Loss: 1.0023, Val Loss: 0.8568, Test Loss: 0.8975\n",
      "Epoch 31/300, Train Loss: 0.9801, Val Loss: 0.8538, Test Loss: 0.8941\n",
      "Epoch 32/300, Train Loss: 0.9695, Val Loss: 0.8514, Test Loss: 0.8906\n",
      "Epoch 33/300, Train Loss: 0.9822, Val Loss: 0.8502, Test Loss: 0.8872\n",
      "Epoch 34/300, Train Loss: 0.9686, Val Loss: 0.8492, Test Loss: 0.8838\n",
      "Epoch 35/300, Train Loss: 0.9775, Val Loss: 0.8472, Test Loss: 0.8806\n",
      "Epoch 36/300, Train Loss: 0.9661, Val Loss: 0.8440, Test Loss: 0.8772\n",
      "Epoch 37/300, Train Loss: 0.9625, Val Loss: 0.8407, Test Loss: 0.8735\n",
      "Epoch 38/300, Train Loss: 0.9700, Val Loss: 0.8358, Test Loss: 0.8700\n",
      "Epoch 39/300, Train Loss: 0.9531, Val Loss: 0.8312, Test Loss: 0.8670\n",
      "Epoch 40/300, Train Loss: 0.9525, Val Loss: 0.8272, Test Loss: 0.8644\n",
      "Epoch 41/300, Train Loss: 0.9486, Val Loss: 0.8236, Test Loss: 0.8615\n",
      "Epoch 42/300, Train Loss: 0.9625, Val Loss: 0.8203, Test Loss: 0.8582\n",
      "Epoch 43/300, Train Loss: 0.9311, Val Loss: 0.8182, Test Loss: 0.8549\n",
      "Epoch 44/300, Train Loss: 0.9611, Val Loss: 0.8164, Test Loss: 0.8511\n",
      "Epoch 45/300, Train Loss: 0.9395, Val Loss: 0.8151, Test Loss: 0.8475\n",
      "Epoch 46/300, Train Loss: 0.9402, Val Loss: 0.8135, Test Loss: 0.8438\n",
      "Epoch 47/300, Train Loss: 0.9544, Val Loss: 0.8118, Test Loss: 0.8405\n",
      "Epoch 48/300, Train Loss: 0.9467, Val Loss: 0.8101, Test Loss: 0.8374\n",
      "Epoch 49/300, Train Loss: 0.9446, Val Loss: 0.8080, Test Loss: 0.8342\n",
      "Epoch 50/300, Train Loss: 0.9294, Val Loss: 0.8046, Test Loss: 0.8308\n",
      "Epoch 51/300, Train Loss: 0.9463, Val Loss: 0.8007, Test Loss: 0.8281\n",
      "Epoch 52/300, Train Loss: 0.9373, Val Loss: 0.7979, Test Loss: 0.8256\n",
      "Epoch 53/300, Train Loss: 0.9491, Val Loss: 0.7954, Test Loss: 0.8240\n",
      "Epoch 54/300, Train Loss: 0.9274, Val Loss: 0.7932, Test Loss: 0.8222\n",
      "Epoch 55/300, Train Loss: 0.9401, Val Loss: 0.7921, Test Loss: 0.8200\n",
      "Epoch 56/300, Train Loss: 0.9521, Val Loss: 0.7912, Test Loss: 0.8181\n",
      "Epoch 57/300, Train Loss: 0.9446, Val Loss: 0.7912, Test Loss: 0.8158\n",
      "Epoch 58/300, Train Loss: 0.9477, Val Loss: 0.7918, Test Loss: 0.8141\n",
      "Epoch 59/300, Train Loss: 0.9592, Val Loss: 0.7919, Test Loss: 0.8136\n",
      "Epoch 60/300, Train Loss: 0.9202, Val Loss: 0.7913, Test Loss: 0.8130\n",
      "Epoch 61/300, Train Loss: 0.9222, Val Loss: 0.7908, Test Loss: 0.8125\n",
      "Epoch 62/300, Train Loss: 0.9229, Val Loss: 0.7904, Test Loss: 0.8122\n",
      "Epoch 63/300, Train Loss: 0.9421, Val Loss: 0.7904, Test Loss: 0.8118\n",
      "Epoch 64/300, Train Loss: 0.9040, Val Loss: 0.7912, Test Loss: 0.8109\n",
      "Epoch 65/300, Train Loss: 0.9194, Val Loss: 0.7920, Test Loss: 0.8101\n",
      "Epoch 66/300, Train Loss: 0.9239, Val Loss: 0.7920, Test Loss: 0.8096\n",
      "Epoch 67/300, Train Loss: 0.9254, Val Loss: 0.7912, Test Loss: 0.8096\n",
      "Epoch 68/300, Train Loss: 0.9369, Val Loss: 0.7902, Test Loss: 0.8093\n",
      "Epoch 69/300, Train Loss: 0.9159, Val Loss: 0.7896, Test Loss: 0.8088\n",
      "Epoch 70/300, Train Loss: 0.9140, Val Loss: 0.7890, Test Loss: 0.8080\n",
      "Epoch 71/300, Train Loss: 0.9212, Val Loss: 0.7880, Test Loss: 0.8070\n",
      "Epoch 72/300, Train Loss: 0.9422, Val Loss: 0.7872, Test Loss: 0.8058\n",
      "Epoch 73/300, Train Loss: 0.9165, Val Loss: 0.7860, Test Loss: 0.8050\n",
      "Epoch 74/300, Train Loss: 0.9252, Val Loss: 0.7854, Test Loss: 0.8042\n",
      "Epoch 75/300, Train Loss: 0.9359, Val Loss: 0.7853, Test Loss: 0.8030\n",
      "Epoch 76/300, Train Loss: 0.9495, Val Loss: 0.7865, Test Loss: 0.8017\n",
      "Epoch 77/300, Train Loss: 0.9104, Val Loss: 0.7876, Test Loss: 0.8006\n",
      "Epoch 78/300, Train Loss: 0.9063, Val Loss: 0.7882, Test Loss: 0.7999\n",
      "Epoch 79/300, Train Loss: 0.9228, Val Loss: 0.7889, Test Loss: 0.7989\n",
      "Epoch 80/300, Train Loss: 0.9143, Val Loss: 0.7891, Test Loss: 0.7980\n",
      "Epoch 81/300, Train Loss: 0.9036, Val Loss: 0.7889, Test Loss: 0.7969\n",
      "Epoch 82/300, Train Loss: 0.9266, Val Loss: 0.7883, Test Loss: 0.7960\n",
      "Epoch 83/300, Train Loss: 0.9431, Val Loss: 0.7872, Test Loss: 0.7964\n",
      "Epoch 84/300, Train Loss: 0.8953, Val Loss: 0.7864, Test Loss: 0.7973\n",
      "Epoch 85/300, Train Loss: 0.9215, Val Loss: 0.7851, Test Loss: 0.7982\n",
      "Epoch 86/300, Train Loss: 0.9208, Val Loss: 0.7839, Test Loss: 0.7990\n",
      "Epoch 87/300, Train Loss: 0.9191, Val Loss: 0.7831, Test Loss: 0.7997\n",
      "Epoch 88/300, Train Loss: 0.9035, Val Loss: 0.7828, Test Loss: 0.8001\n",
      "Epoch 89/300, Train Loss: 0.9007, Val Loss: 0.7829, Test Loss: 0.8000\n",
      "Epoch 90/300, Train Loss: 0.8921, Val Loss: 0.7832, Test Loss: 0.7995\n",
      "Epoch 91/300, Train Loss: 0.9028, Val Loss: 0.7839, Test Loss: 0.7986\n",
      "Epoch 92/300, Train Loss: 0.9084, Val Loss: 0.7844, Test Loss: 0.7975\n",
      "Epoch 93/300, Train Loss: 0.9036, Val Loss: 0.7848, Test Loss: 0.7962\n",
      "Epoch 94/300, Train Loss: 0.9001, Val Loss: 0.7844, Test Loss: 0.7950\n",
      "Epoch 95/300, Train Loss: 0.9133, Val Loss: 0.7839, Test Loss: 0.7939\n",
      "Epoch 96/300, Train Loss: 0.9141, Val Loss: 0.7822, Test Loss: 0.7932\n",
      "Epoch 97/300, Train Loss: 0.9299, Val Loss: 0.7799, Test Loss: 0.7934\n",
      "Epoch 98/300, Train Loss: 0.9100, Val Loss: 0.7774, Test Loss: 0.7944\n",
      "Epoch 99/300, Train Loss: 0.9168, Val Loss: 0.7754, Test Loss: 0.7958\n",
      "Epoch 100/300, Train Loss: 0.9136, Val Loss: 0.7746, Test Loss: 0.7957\n",
      "Epoch 101/300, Train Loss: 0.9105, Val Loss: 0.7745, Test Loss: 0.7958\n",
      "Epoch 102/300, Train Loss: 0.9151, Val Loss: 0.7753, Test Loss: 0.7945\n",
      "Epoch 103/300, Train Loss: 0.9038, Val Loss: 0.7768, Test Loss: 0.7929\n",
      "Epoch 104/300, Train Loss: 0.8972, Val Loss: 0.7789, Test Loss: 0.7921\n",
      "Epoch 105/300, Train Loss: 0.9181, Val Loss: 0.7809, Test Loss: 0.7920\n",
      "Epoch 106/300, Train Loss: 0.8693, Val Loss: 0.7824, Test Loss: 0.7919\n",
      "Epoch 107/300, Train Loss: 0.9279, Val Loss: 0.7826, Test Loss: 0.7919\n",
      "Epoch 108/300, Train Loss: 0.9088, Val Loss: 0.7811, Test Loss: 0.7920\n",
      "Epoch 109/300, Train Loss: 0.9015, Val Loss: 0.7788, Test Loss: 0.7924\n",
      "Epoch 110/300, Train Loss: 0.9023, Val Loss: 0.7765, Test Loss: 0.7934\n",
      "Epoch 111/300, Train Loss: 0.8952, Val Loss: 0.7744, Test Loss: 0.7946\n",
      "Epoch 112/300, Train Loss: 0.9088, Val Loss: 0.7732, Test Loss: 0.7952\n",
      "Epoch 113/300, Train Loss: 0.9091, Val Loss: 0.7727, Test Loss: 0.7946\n",
      "Epoch 114/300, Train Loss: 0.8950, Val Loss: 0.7728, Test Loss: 0.7925\n",
      "Epoch 115/300, Train Loss: 0.8876, Val Loss: 0.7732, Test Loss: 0.7908\n",
      "Epoch 116/300, Train Loss: 0.9120, Val Loss: 0.7739, Test Loss: 0.7894\n",
      "Epoch 117/300, Train Loss: 0.9020, Val Loss: 0.7750, Test Loss: 0.7880\n",
      "Epoch 118/300, Train Loss: 0.9082, Val Loss: 0.7756, Test Loss: 0.7871\n",
      "Epoch 119/300, Train Loss: 0.9117, Val Loss: 0.7754, Test Loss: 0.7866\n",
      "Epoch 120/300, Train Loss: 0.9120, Val Loss: 0.7744, Test Loss: 0.7868\n",
      "Epoch 121/300, Train Loss: 0.8906, Val Loss: 0.7734, Test Loss: 0.7875\n",
      "Epoch 122/300, Train Loss: 0.8879, Val Loss: 0.7729, Test Loss: 0.7887\n",
      "Epoch 123/300, Train Loss: 0.8975, Val Loss: 0.7730, Test Loss: 0.7899\n",
      "Epoch 124/300, Train Loss: 0.9176, Val Loss: 0.7736, Test Loss: 0.7907\n",
      "Epoch 125/300, Train Loss: 0.9106, Val Loss: 0.7749, Test Loss: 0.7907\n",
      "Epoch 126/300, Train Loss: 0.9012, Val Loss: 0.7764, Test Loss: 0.7911\n",
      "Epoch 127/300, Train Loss: 0.8861, Val Loss: 0.7783, Test Loss: 0.7908\n",
      "Epoch 128/300, Train Loss: 0.8940, Val Loss: 0.7798, Test Loss: 0.7910\n",
      "Epoch 129/300, Train Loss: 0.8907, Val Loss: 0.7809, Test Loss: 0.7910\n",
      "Epoch 130/300, Train Loss: 0.8742, Val Loss: 0.7821, Test Loss: 0.7907\n",
      "Epoch 131/300, Train Loss: 0.8813, Val Loss: 0.7827, Test Loss: 0.7909\n",
      "Epoch 132/300, Train Loss: 0.9138, Val Loss: 0.7825, Test Loss: 0.7913\n",
      "Epoch 133/300, Train Loss: 0.8955, Val Loss: 0.7820, Test Loss: 0.7921\n",
      "Epoch 134/300, Train Loss: 0.8912, Val Loss: 0.7812, Test Loss: 0.7930\n",
      "Epoch 135/300, Train Loss: 0.8787, Val Loss: 0.7800, Test Loss: 0.7939\n",
      "Epoch 136/300, Train Loss: 0.8989, Val Loss: 0.7787, Test Loss: 0.7946\n",
      "Epoch 137/300, Train Loss: 0.8905, Val Loss: 0.7782, Test Loss: 0.7945\n",
      "Epoch 138/300, Train Loss: 0.9034, Val Loss: 0.7779, Test Loss: 0.7940\n",
      "Epoch 139/300, Train Loss: 0.9049, Val Loss: 0.7779, Test Loss: 0.7920\n",
      "Epoch 140/300, Train Loss: 0.8776, Val Loss: 0.7786, Test Loss: 0.7891\n",
      "Epoch 141/300, Train Loss: 0.8885, Val Loss: 0.7797, Test Loss: 0.7867\n",
      "Epoch 142/300, Train Loss: 0.8734, Val Loss: 0.7815, Test Loss: 0.7842\n",
      "Epoch 143/300, Train Loss: 0.8920, Val Loss: 0.7835, Test Loss: 0.7828\n",
      "Epoch 144/300, Train Loss: 0.9077, Val Loss: 0.7838, Test Loss: 0.7825\n",
      "Epoch 145/300, Train Loss: 0.8955, Val Loss: 0.7841, Test Loss: 0.7830\n",
      "Epoch 146/300, Train Loss: 0.8975, Val Loss: 0.7830, Test Loss: 0.7842\n",
      "Epoch 147/300, Train Loss: 0.8910, Val Loss: 0.7815, Test Loss: 0.7857\n",
      "Epoch 148/300, Train Loss: 0.9024, Val Loss: 0.7801, Test Loss: 0.7874\n",
      "Epoch 149/300, Train Loss: 0.9032, Val Loss: 0.7790, Test Loss: 0.7893\n",
      "Epoch 150/300, Train Loss: 0.8864, Val Loss: 0.7783, Test Loss: 0.7910\n",
      "Epoch 151/300, Train Loss: 0.9069, Val Loss: 0.7781, Test Loss: 0.7924\n",
      "Epoch 152/300, Train Loss: 0.8760, Val Loss: 0.7777, Test Loss: 0.7939\n",
      "Epoch 153/300, Train Loss: 0.8965, Val Loss: 0.7775, Test Loss: 0.7951\n",
      "Epoch 154/300, Train Loss: 0.9098, Val Loss: 0.7779, Test Loss: 0.7954\n",
      "Epoch 155/300, Train Loss: 0.8859, Val Loss: 0.7787, Test Loss: 0.7940\n",
      "Epoch 156/300, Train Loss: 0.9015, Val Loss: 0.7794, Test Loss: 0.7920\n",
      "Epoch 157/300, Train Loss: 0.8630, Val Loss: 0.7799, Test Loss: 0.7891\n",
      "Epoch 158/300, Train Loss: 0.9016, Val Loss: 0.7805, Test Loss: 0.7867\n",
      "Epoch 159/300, Train Loss: 0.8869, Val Loss: 0.7806, Test Loss: 0.7849\n",
      "Epoch 160/300, Train Loss: 0.9044, Val Loss: 0.7803, Test Loss: 0.7843\n",
      "Epoch 161/300, Train Loss: 0.9032, Val Loss: 0.7792, Test Loss: 0.7842\n",
      "Epoch 162/300, Train Loss: 0.8893, Val Loss: 0.7784, Test Loss: 0.7840\n",
      "Epoch 163/300, Train Loss: 0.8942, Val Loss: 0.7767, Test Loss: 0.7844\n",
      "Epoch 164/300, Train Loss: 0.8877, Val Loss: 0.7746, Test Loss: 0.7852\n",
      "Epoch 165/300, Train Loss: 0.8943, Val Loss: 0.7725, Test Loss: 0.7867\n",
      "Epoch 166/300, Train Loss: 0.8724, Val Loss: 0.7707, Test Loss: 0.7874\n",
      "Epoch 167/300, Train Loss: 0.9033, Val Loss: 0.7691, Test Loss: 0.7889\n",
      "Epoch 168/300, Train Loss: 0.8925, Val Loss: 0.7680, Test Loss: 0.7894\n",
      "Epoch 169/300, Train Loss: 0.8791, Val Loss: 0.7669, Test Loss: 0.7893\n",
      "Epoch 170/300, Train Loss: 0.8957, Val Loss: 0.7665, Test Loss: 0.7890\n",
      "Epoch 171/300, Train Loss: 0.9018, Val Loss: 0.7663, Test Loss: 0.7872\n",
      "Epoch 172/300, Train Loss: 0.8911, Val Loss: 0.7664, Test Loss: 0.7853\n",
      "Epoch 173/300, Train Loss: 0.8846, Val Loss: 0.7665, Test Loss: 0.7838\n",
      "Epoch 174/300, Train Loss: 0.8800, Val Loss: 0.7669, Test Loss: 0.7820\n",
      "Epoch 175/300, Train Loss: 0.9028, Val Loss: 0.7673, Test Loss: 0.7807\n",
      "Epoch 176/300, Train Loss: 0.8849, Val Loss: 0.7675, Test Loss: 0.7800\n",
      "Epoch 177/300, Train Loss: 0.8858, Val Loss: 0.7675, Test Loss: 0.7805\n",
      "Epoch 178/300, Train Loss: 0.8992, Val Loss: 0.7671, Test Loss: 0.7819\n",
      "Epoch 179/300, Train Loss: 0.9046, Val Loss: 0.7666, Test Loss: 0.7841\n",
      "Epoch 180/300, Train Loss: 0.9101, Val Loss: 0.7663, Test Loss: 0.7870\n",
      "Epoch 181/300, Train Loss: 0.9140, Val Loss: 0.7668, Test Loss: 0.7902\n",
      "Epoch 182/300, Train Loss: 0.8883, Val Loss: 0.7671, Test Loss: 0.7924\n",
      "Epoch 183/300, Train Loss: 0.8803, Val Loss: 0.7673, Test Loss: 0.7938\n",
      "Epoch 184/300, Train Loss: 0.8635, Val Loss: 0.7673, Test Loss: 0.7935\n",
      "Epoch 185/300, Train Loss: 0.9105, Val Loss: 0.7684, Test Loss: 0.7927\n",
      "Epoch 186/300, Train Loss: 0.9029, Val Loss: 0.7701, Test Loss: 0.7919\n",
      "Epoch 187/300, Train Loss: 0.8816, Val Loss: 0.7720, Test Loss: 0.7904\n",
      "Epoch 188/300, Train Loss: 0.8902, Val Loss: 0.7737, Test Loss: 0.7889\n",
      "Epoch 189/300, Train Loss: 0.8836, Val Loss: 0.7756, Test Loss: 0.7872\n",
      "Epoch 190/300, Train Loss: 0.9011, Val Loss: 0.7775, Test Loss: 0.7854\n",
      "Epoch 191/300, Train Loss: 0.8929, Val Loss: 0.7780, Test Loss: 0.7851\n",
      "Epoch 192/300, Train Loss: 0.8678, Val Loss: 0.7777, Test Loss: 0.7855\n",
      "Epoch 193/300, Train Loss: 0.8916, Val Loss: 0.7768, Test Loss: 0.7866\n",
      "Epoch 194/300, Train Loss: 0.8696, Val Loss: 0.7753, Test Loss: 0.7875\n",
      "Epoch 195/300, Train Loss: 0.8892, Val Loss: 0.7739, Test Loss: 0.7893\n",
      "Epoch 196/300, Train Loss: 0.8916, Val Loss: 0.7731, Test Loss: 0.7910\n",
      "Epoch 197/300, Train Loss: 0.8867, Val Loss: 0.7719, Test Loss: 0.7919\n",
      "Epoch 198/300, Train Loss: 0.8928, Val Loss: 0.7711, Test Loss: 0.7921\n",
      "Epoch 199/300, Train Loss: 0.8792, Val Loss: 0.7708, Test Loss: 0.7915\n",
      "Epoch 200/300, Train Loss: 0.8948, Val Loss: 0.7709, Test Loss: 0.7898\n",
      "Epoch 201/300, Train Loss: 0.8589, Val Loss: 0.7710, Test Loss: 0.7878\n",
      "Epoch 202/300, Train Loss: 0.8811, Val Loss: 0.7712, Test Loss: 0.7858\n",
      "Epoch 203/300, Train Loss: 0.8923, Val Loss: 0.7718, Test Loss: 0.7837\n",
      "Epoch 204/300, Train Loss: 0.8755, Val Loss: 0.7719, Test Loss: 0.7823\n",
      "Epoch 205/300, Train Loss: 0.8999, Val Loss: 0.7709, Test Loss: 0.7819\n",
      "Epoch 206/300, Train Loss: 0.8864, Val Loss: 0.7691, Test Loss: 0.7822\n",
      "Epoch 207/300, Train Loss: 0.8689, Val Loss: 0.7670, Test Loss: 0.7825\n",
      "Epoch 208/300, Train Loss: 0.8778, Val Loss: 0.7649, Test Loss: 0.7830\n",
      "Epoch 209/300, Train Loss: 0.8758, Val Loss: 0.7632, Test Loss: 0.7833\n",
      "Epoch 210/300, Train Loss: 0.8927, Val Loss: 0.7618, Test Loss: 0.7836\n",
      "Epoch 211/300, Train Loss: 0.8948, Val Loss: 0.7611, Test Loss: 0.7828\n",
      "Epoch 212/300, Train Loss: 0.8822, Val Loss: 0.7609, Test Loss: 0.7815\n",
      "Epoch 213/300, Train Loss: 0.9020, Val Loss: 0.7615, Test Loss: 0.7798\n",
      "Epoch 214/300, Train Loss: 0.8719, Val Loss: 0.7620, Test Loss: 0.7786\n",
      "Epoch 215/300, Train Loss: 0.8976, Val Loss: 0.7625, Test Loss: 0.7784\n",
      "Epoch 216/300, Train Loss: 0.8840, Val Loss: 0.7627, Test Loss: 0.7792\n",
      "Epoch 217/300, Train Loss: 0.8957, Val Loss: 0.7636, Test Loss: 0.7804\n",
      "Epoch 218/300, Train Loss: 0.8967, Val Loss: 0.7644, Test Loss: 0.7814\n",
      "Epoch 219/300, Train Loss: 0.8864, Val Loss: 0.7645, Test Loss: 0.7831\n",
      "Epoch 220/300, Train Loss: 0.8859, Val Loss: 0.7643, Test Loss: 0.7855\n",
      "Epoch 221/300, Train Loss: 0.8714, Val Loss: 0.7646, Test Loss: 0.7868\n",
      "Epoch 222/300, Train Loss: 0.8790, Val Loss: 0.7651, Test Loss: 0.7868\n",
      "Epoch 223/300, Train Loss: 0.8653, Val Loss: 0.7655, Test Loss: 0.7865\n",
      "Epoch 224/300, Train Loss: 0.8744, Val Loss: 0.7662, Test Loss: 0.7858\n",
      "Epoch 225/300, Train Loss: 0.8760, Val Loss: 0.7667, Test Loss: 0.7847\n",
      "Epoch 226/300, Train Loss: 0.8840, Val Loss: 0.7673, Test Loss: 0.7837\n",
      "Epoch 227/300, Train Loss: 0.8904, Val Loss: 0.7679, Test Loss: 0.7830\n",
      "Epoch 228/300, Train Loss: 0.8733, Val Loss: 0.7684, Test Loss: 0.7813\n",
      "Epoch 229/300, Train Loss: 0.8777, Val Loss: 0.7692, Test Loss: 0.7796\n",
      "Epoch 230/300, Train Loss: 0.8677, Val Loss: 0.7700, Test Loss: 0.7774\n",
      "Epoch 231/300, Train Loss: 0.8845, Val Loss: 0.7701, Test Loss: 0.7763\n",
      "Epoch 232/300, Train Loss: 0.8893, Val Loss: 0.7697, Test Loss: 0.7756\n",
      "Epoch 233/300, Train Loss: 0.8748, Val Loss: 0.7688, Test Loss: 0.7757\n",
      "Epoch 234/300, Train Loss: 0.8857, Val Loss: 0.7679, Test Loss: 0.7760\n",
      "Epoch 235/300, Train Loss: 0.8947, Val Loss: 0.7666, Test Loss: 0.7764\n",
      "Epoch 236/300, Train Loss: 0.8899, Val Loss: 0.7652, Test Loss: 0.7766\n",
      "Epoch 237/300, Train Loss: 0.8699, Val Loss: 0.7632, Test Loss: 0.7772\n",
      "Epoch 238/300, Train Loss: 0.8969, Val Loss: 0.7619, Test Loss: 0.7782\n",
      "Epoch 239/300, Train Loss: 0.8808, Val Loss: 0.7608, Test Loss: 0.7789\n",
      "Epoch 240/300, Train Loss: 0.8800, Val Loss: 0.7599, Test Loss: 0.7791\n",
      "Epoch 241/300, Train Loss: 0.8807, Val Loss: 0.7595, Test Loss: 0.7784\n",
      "Epoch 242/300, Train Loss: 0.8845, Val Loss: 0.7594, Test Loss: 0.7773\n",
      "Epoch 243/300, Train Loss: 0.8514, Val Loss: 0.7594, Test Loss: 0.7757\n",
      "Epoch 244/300, Train Loss: 0.8904, Val Loss: 0.7599, Test Loss: 0.7742\n",
      "Epoch 245/300, Train Loss: 0.8539, Val Loss: 0.7606, Test Loss: 0.7725\n",
      "Epoch 246/300, Train Loss: 0.8793, Val Loss: 0.7607, Test Loss: 0.7724\n",
      "Epoch 247/300, Train Loss: 0.8693, Val Loss: 0.7603, Test Loss: 0.7725\n",
      "Epoch 248/300, Train Loss: 0.8708, Val Loss: 0.7600, Test Loss: 0.7727\n",
      "Epoch 249/300, Train Loss: 0.8723, Val Loss: 0.7590, Test Loss: 0.7735\n",
      "Epoch 250/300, Train Loss: 0.8733, Val Loss: 0.7580, Test Loss: 0.7746\n",
      "Epoch 251/300, Train Loss: 0.8889, Val Loss: 0.7574, Test Loss: 0.7755\n",
      "Epoch 252/300, Train Loss: 0.8887, Val Loss: 0.7575, Test Loss: 0.7768\n",
      "Epoch 253/300, Train Loss: 0.8635, Val Loss: 0.7577, Test Loss: 0.7775\n",
      "Epoch 254/300, Train Loss: 0.8597, Val Loss: 0.7582, Test Loss: 0.7777\n",
      "Epoch 255/300, Train Loss: 0.8483, Val Loss: 0.7586, Test Loss: 0.7770\n",
      "Epoch 256/300, Train Loss: 0.8701, Val Loss: 0.7591, Test Loss: 0.7764\n",
      "Epoch 257/300, Train Loss: 0.8787, Val Loss: 0.7597, Test Loss: 0.7766\n",
      "Epoch 258/300, Train Loss: 0.8786, Val Loss: 0.7603, Test Loss: 0.7761\n",
      "Epoch 259/300, Train Loss: 0.8703, Val Loss: 0.7612, Test Loss: 0.7756\n",
      "Epoch 260/300, Train Loss: 0.8824, Val Loss: 0.7613, Test Loss: 0.7757\n",
      "Epoch 261/300, Train Loss: 0.8843, Val Loss: 0.7612, Test Loss: 0.7769\n",
      "Epoch 262/300, Train Loss: 0.8637, Val Loss: 0.7606, Test Loss: 0.7781\n",
      "Epoch 263/300, Train Loss: 0.8746, Val Loss: 0.7601, Test Loss: 0.7791\n",
      "Epoch 264/300, Train Loss: 0.8670, Val Loss: 0.7600, Test Loss: 0.7791\n",
      "Epoch 265/300, Train Loss: 0.8708, Val Loss: 0.7602, Test Loss: 0.7790\n",
      "Epoch 266/300, Train Loss: 0.8822, Val Loss: 0.7609, Test Loss: 0.7781\n",
      "Epoch 267/300, Train Loss: 0.8610, Val Loss: 0.7619, Test Loss: 0.7770\n",
      "Epoch 268/300, Train Loss: 0.8804, Val Loss: 0.7627, Test Loss: 0.7761\n",
      "Epoch 269/300, Train Loss: 0.8816, Val Loss: 0.7635, Test Loss: 0.7758\n",
      "Epoch 270/300, Train Loss: 0.8802, Val Loss: 0.7641, Test Loss: 0.7752\n",
      "Epoch 271/300, Train Loss: 0.8831, Val Loss: 0.7645, Test Loss: 0.7757\n",
      "Epoch 272/300, Train Loss: 0.8803, Val Loss: 0.7646, Test Loss: 0.7765\n",
      "Epoch 273/300, Train Loss: 0.8881, Val Loss: 0.7644, Test Loss: 0.7777\n",
      "Epoch 274/300, Train Loss: 0.9006, Val Loss: 0.7646, Test Loss: 0.7793\n",
      "Epoch 275/300, Train Loss: 0.8652, Val Loss: 0.7651, Test Loss: 0.7806\n",
      "Epoch 276/300, Train Loss: 0.8706, Val Loss: 0.7654, Test Loss: 0.7822\n",
      "Epoch 277/300, Train Loss: 0.8681, Val Loss: 0.7662, Test Loss: 0.7826\n",
      "Epoch 278/300, Train Loss: 0.8701, Val Loss: 0.7667, Test Loss: 0.7821\n",
      "Epoch 279/300, Train Loss: 0.8891, Val Loss: 0.7673, Test Loss: 0.7819\n",
      "Epoch 280/300, Train Loss: 0.8736, Val Loss: 0.7679, Test Loss: 0.7811\n",
      "Epoch 281/300, Train Loss: 0.8711, Val Loss: 0.7684, Test Loss: 0.7804\n",
      "Epoch 282/300, Train Loss: 0.8592, Val Loss: 0.7684, Test Loss: 0.7788\n",
      "Epoch 283/300, Train Loss: 0.8735, Val Loss: 0.7687, Test Loss: 0.7775\n",
      "Epoch 284/300, Train Loss: 0.8669, Val Loss: 0.7687, Test Loss: 0.7757\n",
      "Epoch 285/300, Train Loss: 0.8655, Val Loss: 0.7687, Test Loss: 0.7747\n",
      "Epoch 286/300, Train Loss: 0.8858, Val Loss: 0.7679, Test Loss: 0.7738\n",
      "Epoch 287/300, Train Loss: 0.8564, Val Loss: 0.7669, Test Loss: 0.7737\n",
      "Epoch 288/300, Train Loss: 0.8659, Val Loss: 0.7662, Test Loss: 0.7735\n",
      "Epoch 289/300, Train Loss: 0.8694, Val Loss: 0.7654, Test Loss: 0.7736\n",
      "Epoch 290/300, Train Loss: 0.8911, Val Loss: 0.7650, Test Loss: 0.7741\n",
      "Epoch 291/300, Train Loss: 0.8735, Val Loss: 0.7648, Test Loss: 0.7745\n",
      "Epoch 292/300, Train Loss: 0.8819, Val Loss: 0.7650, Test Loss: 0.7736\n",
      "Epoch 293/300, Train Loss: 0.8549, Val Loss: 0.7650, Test Loss: 0.7724\n",
      "Epoch 294/300, Train Loss: 0.8788, Val Loss: 0.7649, Test Loss: 0.7724\n",
      "Epoch 295/300, Train Loss: 0.8536, Val Loss: 0.7642, Test Loss: 0.7731\n",
      "Epoch 296/300, Train Loss: 0.8710, Val Loss: 0.7638, Test Loss: 0.7740\n",
      "Epoch 297/300, Train Loss: 0.8896, Val Loss: 0.7635, Test Loss: 0.7754\n",
      "Epoch 298/300, Train Loss: 0.8761, Val Loss: 0.7638, Test Loss: 0.7763\n",
      "Epoch 299/300, Train Loss: 0.8753, Val Loss: 0.7644, Test Loss: 0.7765\n",
      "Epoch 300/300, Train Loss: 0.8639, Val Loss: 0.7651, Test Loss: 0.7762\n"
     ]
    }
   ],
   "source": [
    "def train(model, graph, optimizer, criterion):\n",
    "    model.train()\n",
    "    total_loss = 0\n",
    "    num_batches = 0\n",
    "    for batch in train_loader:\n",
    "        optimizer.zero_grad()\n",
    "        out, log_probs = model(batch.x.float(), batch.edge_index)\n",
    "        loss = criterion(log_probs, batch.y) #only compute the loss on the train nodes.\n",
    "        loss.backward()\n",
    "        optimizer.step()\n",
    "        total_loss += loss.item()\n",
    "        num_batches += 1\n",
    "    return total_loss / num_batches\n",
    "\n",
    "def test(model, graph, criterion, loader): #mask parameter added.\n",
    "    model.eval()\n",
    "    total_loss = 0\n",
    "    num_batches = 0\n",
    "    with torch.no_grad():\n",
    "        for batch in loader:\n",
    "            out, log_probs = model(batch.x.float(), batch.edge_index)\n",
    "            loss = criterion(log_probs, batch.y) \n",
    "            total_loss += loss.item()\n",
    "            num_batches += 1\n",
    "    return total_loss / num_batches\n",
    "\n",
    "# Training loop\n",
    "epochs = 300\n",
    "\n",
    "for epoch in range(epochs):\n",
    "    train_loss = train(model, graph, optimizer, criterion)\n",
    "    val_loss = test(model, graph, criterion, val_loader) #pass the validation mask\n",
    "    test_loss = test(model, graph, criterion, test_loader) #pass the test mask\n",
    "    print(f\"Epoch {epoch + 1}/{epochs}, Train Loss: {train_loss:.4f}, Val Loss: {val_loss:.4f}, Test Loss: {test_loss:.4f}\")\n"
   ]
  },
  {
   "cell_type": "raw",
   "metadata": {
    "id": "cWFE3gnUo7nA"
   },
   "source": [
    "def accuracy(pred_y, y):\n",
    "    \"\"\"Calculate accuracy.\"\"\"\n",
    "    return ((pred_y == y).sum() / len(y)).item()\n",
    "\n",
    "def train(model, data):\n",
    "    \"\"\"Train a GNN model and return the trained model.\"\"\"\n",
    "    criterion = torch.nn.CrossEntropyLoss()\n",
    "    optimizer = model.optimizer\n",
    "    epochs = 200\n",
    "\n",
    "    model.train()\n",
    "    for epoch in range(epochs+1):\n",
    "        # Training\n",
    "        optimizer.zero_grad()\n",
    "        _, out = model(data.x, data.edge_index)\n",
    "        loss = criterion(out[data.train_mask], data.y[data.train_mask])\n",
    "        acc = accuracy(out[data.train_mask].argmax(dim=1), data.y[data.train_mask])\n",
    "        loss.backward()\n",
    "        optimizer.step()\n",
    "\n",
    "        # Validation\n",
    "        val_loss = criterion(out[data.val_mask], data.y[data.val_mask])\n",
    "        val_acc = accuracy(out[data.val_mask].argmax(dim=1), data.y[data.val_mask])\n",
    "\n",
    "        # Print metrics every 10 epochs\n",
    "        if(epoch % 10 == 0):\n",
    "            print(f'Epoch {epoch:>3} | Train Loss: {loss:.3f} | Train Acc: '\n",
    "                  f'{acc*100:>6.2f}% | Val Loss: {val_loss:.2f} | '\n",
    "                  f'Val Acc: {val_acc*100:.2f}%')\n",
    "\n",
    "    return model\n",
    "\n",
    "def test(model, data):\n",
    "    \"\"\"Evaluate the model on test set and print the accuracy score.\"\"\"\n",
    "    model.eval()\n",
    "    _, out = model(data.x, data.edge_index)\n",
    "    acc = accuracy(out.argmax(dim=1)[data.test_mask], data.y[data.test_mask])\n",
    "    return acc"
   ]
  },
  {
   "cell_type": "code",
   "execution_count": 37,
   "metadata": {},
   "outputs": [],
   "source": [
    "from sklearn.manifold import TSNE"
   ]
  },
  {
   "cell_type": "code",
   "execution_count": 46,
   "metadata": {
    "id": "psAwbtMpPgqP"
   },
   "outputs": [
    {
     "data": {
      "image/png": "[encoded data removed]",
      "text/plain": [
       "<Figure size 1000x1000 with 1 Axes>"
      ]
     },
     "metadata": {},
     "output_type": "display_data"
    }
   ],
   "source": [
    "# Get embeddings\n",
    "h, _ = untrained(test_data.x.float(), test_data.edge_index)\n",
    "\n",
    "# Train TSNE\n",
    "tsne = TSNE(n_components=2, learning_rate='auto',\n",
    "         init='pca').fit_transform(h.detach())\n",
    "\n",
    "unique_labels = np.unique(graph.y)\n",
    "labels = ['Moderate Poor', 'Non-vulnerable', 'Severe Poor', 'Vulnerable']\n",
    "\n",
    "# Plot TSNE\n",
    "plt.figure(figsize=(10, 10))\n",
    "plt.axis('off')\n",
    "# Scatter plot with different colors for each class\n",
    "for label in unique_labels:\n",
    "    indices = test_data.y == label\n",
    "    plt.scatter(tsne[indices, 0], tsne[indices, 1], s=20, label=labels[label])\n",
    "    # Add legend\n",
    "plt.legend(title=\"Class Labels\", loc=\"upper right\")\n",
    "plt.show()"
   ]
  },
  {
   "cell_type": "code",
   "execution_count": 45,
   "metadata": {
    "id": "EFcvr6KMPkNV"
   },
   "outputs": [
    {
     "data": {
      "image/png": "[encoded data removed]",
      "text/plain": [
       "<Figure size 1000x1000 with 1 Axes>"
      ]
     },
     "metadata": {},
     "output_type": "display_data"
    }
   ],
   "source": [
    "h, _ = model(test_data.x.float(), test_data.edge_index)\n",
    "\n",
    "# Train TSNE\n",
    "tsne = TSNE(n_components=2, learning_rate='auto',\n",
    "         init='pca').fit_transform(h.detach())\n",
    "\n",
    "unique_labels = np.unique(test_data.y)\n",
    "labels = ['Moderate Poor', 'Non-vulnerable', 'Severe Poor', 'Vulnerable']\n",
    "\n",
    "# Plot TSNE\n",
    "plt.figure(figsize=(10, 10))\n",
    "plt.axis('off')\n",
    "# Scatter plot with different colors for each class\n",
    "for label in unique_labels:\n",
    "    indices = test_data.y == label\n",
    "    plt.scatter(tsne[indices, 0], tsne[indices, 1], s=20, label=labels[label])\n",
    "# Add legend\n",
    "plt.legend(title=\"Class Labels\", loc=\"upper right\")\n",
    "plt.show()"
   ]
  },
  {
   "cell_type": "code",
   "execution_count": 40,
   "metadata": {},
   "outputs": [],
   "source": [
    "from sklearn.metrics import confusion_matrix\n",
    "import seaborn as sns"
   ]
  },
  {
   "cell_type": "code",
   "execution_count": 47,
   "metadata": {},
   "outputs": [],
   "source": [
    "model.eval()\n",
    "output = model(test_data.x.float(), test_data.edge_index)\n",
    "i, y_pred = output[1].max(1)\n",
    "y_true = graph.y\n",
    "cm = confusion_matrix(test_data.y, y_pred)"
   ]
  },
  {
   "cell_type": "code",
   "execution_count": 48,
   "metadata": {},
   "outputs": [
    {
     "data": {
      "image/png": "[encoded data removed]",
      "text/plain": [
       "<Figure size 400x400 with 2 Axes>"
      ]
     },
     "metadata": {},
     "output_type": "display_data"
    }
   ],
   "source": [
    "plt.figure(figsize=(len(labels),len(labels)))\n",
    "cm_prop = cm.astype('float') / cm.sum(axis=1)\n",
    "sns.heatmap(cm_prop, annot = True, xticklabels=labels, yticklabels=labels)\n",
    "plt.show()"
   ]
  },
  {
   "cell_type": "code",
   "execution_count": 49,
   "metadata": {},
   "outputs": [
    {
     "data": {
      "image/png": "[encoded data removed]",
      "text/plain": [
       "<Figure size 400x400 with 2 Axes>"
      ]
     },
     "metadata": {},
     "output_type": "display_data"
    }
   ],
   "source": [
    "plt.figure(figsize=(len(labels),len(labels)))\n",
    "sns.heatmap(cm.astype('int'), annot = True, xticklabels=labels, yticklabels=labels)\n",
    "plt.show()"
   ]
  },
  {
   "cell_type": "code",
   "execution_count": null,
   "metadata": {},
   "outputs": [],
   "source": []
  }
 ],
 "metadata": {
  "colab": {
   "provenance": []
  },
  "kernelspec": {
   "display_name": "Python 3 (ipykernel)",
   "language": "python",
   "name": "python3"
  },
  "language_info": {
   "codemirror_mode": {
    "name": "ipython",
    "version": 3
   },
   "file_extension": ".py",
   "mimetype": "text/x-python",
   "name": "python",
   "nbconvert_exporter": "python",
   "pygments_lexer": "ipython3",
   "version": "3.11.4"
  }
 },
 "nbformat": 4,
 "nbformat_minor": 4
}
